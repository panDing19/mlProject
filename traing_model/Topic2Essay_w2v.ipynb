{
 "cells": [
  {
   "cell_type": "code",
   "execution_count": 1,
   "metadata": {
    "ExecuteTime": {
     "end_time": "2018-11-02T10:03:13.785986Z",
     "start_time": "2018-11-02T10:03:13.351363Z"
    }
   },
   "outputs": [],
   "source": [
    "import numpy as np\n",
    "import os\n",
    "import gensim\n",
    "from gensim.models import Word2Vec"
   ]
  },
  {
   "cell_type": "code",
   "execution_count": 2,
   "metadata": {
    "ExecuteTime": {
     "end_time": "2018-11-02T10:03:13.792230Z",
     "start_time": "2018-11-02T10:03:13.788574Z"
    }
   },
   "outputs": [],
   "source": [
    "word2vec_params = {\n",
    "    'sg': 1,  # 0 ： CBOW； 1 : skip-gram\n",
    "    \"size\": 100,\n",
    "    \"alpha\": 0.01,\n",
    "    \"min_alpha\": 0.0005,\n",
    "    'window': 10,\n",
    "    'min_count': 1,\n",
    "    'seed': 1,\n",
    "    \"workers\": 24,\n",
    "    \"negative\": 0,\n",
    "    \"hs\": 1,  # 0: negative sampling, 1:Hierarchical  softmax\n",
    "    'compute_loss': True,\n",
    "    'iter': 50,\n",
    "    'cbow_mean': 0,\n",
    "}"
   ]
  },
  {
   "cell_type": "code",
   "execution_count": 3,
   "metadata": {
    "ExecuteTime": {
     "end_time": "2018-11-02T10:03:21.655069Z",
     "start_time": "2018-11-02T10:03:13.795719Z"
    }
   },
   "outputs": [],
   "source": [
    "essays = []\n",
    "topics = []\n",
    "with open('composition.txt', 'r') as f:\n",
    "    for line in f:\n",
    "        essay, topic = line.replace('\\n', '').split(' </d> ')\n",
    "        essays.append(essay.split(' '))\n",
    "        topics.append(topic.split(' '))"
   ]
  },
  {
   "cell_type": "code",
   "execution_count": 4,
   "metadata": {
    "ExecuteTime": {
     "end_time": "2018-11-02T10:03:21.659473Z",
     "start_time": "2018-11-02T10:03:21.656730Z"
    }
   },
   "outputs": [],
   "source": [
    "model = Word2Vec(**word2vec_params)"
   ]
  },
  {
   "cell_type": "code",
   "execution_count": 5,
   "metadata": {
    "ExecuteTime": {
     "end_time": "2018-11-02T11:56:16.115520Z",
     "start_time": "2018-11-02T10:03:21.662402Z"
    }
   },
   "outputs": [],
   "source": [
    "model.build_vocab(sentences=essays)\n",
    "trained_word_count, raw_word_count = model.train(essays, compute_loss=True,\n",
    "                                                 total_examples=model.corpus_count,\n",
    "                                                 epochs=model.epochs)"
   ]
  },
  {
   "cell_type": "code",
   "execution_count": 6,
   "metadata": {
    "ExecuteTime": {
     "end_time": "2018-11-02T11:56:19.252834Z",
     "start_time": "2018-11-02T11:56:16.118409Z"
    }
   },
   "outputs": [],
   "source": [
    "model.save('vec_100d.model')"
   ]
  },
  {
   "cell_type": "code",
   "execution_count": 7,
   "metadata": {
    "ExecuteTime": {
     "end_time": "2018-11-02T11:56:35.397867Z",
     "start_time": "2018-11-02T11:56:19.254505Z"
    }
   },
   "outputs": [],
   "source": [
    "model.wv.save_word2vec_format('vec_100d.txt', binary=False)"
   ]
  }
 ],
 "metadata": {
  "kernelspec": {
   "display_name": "Python 3",
   "language": "python",
   "name": "python3"
  },
  "language_info": {
   "codemirror_mode": {
    "name": "ipython",
    "version": 3
   },
   "file_extension": ".py",
   "mimetype": "text/x-python",
   "name": "python",
   "nbconvert_exporter": "python",
   "pygments_lexer": "ipython3",
   "version": "3.6.6"
  }
 },
 "nbformat": 4,
 "nbformat_minor": 2
}
