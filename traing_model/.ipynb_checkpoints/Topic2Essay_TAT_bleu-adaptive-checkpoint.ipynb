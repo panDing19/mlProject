{
 "cells": [
  {
   "cell_type": "code",
   "execution_count": 1,
   "metadata": {
    "ExecuteTime": {
     "end_time": "2018-11-21T10:28:03.326578Z",
     "start_time": "2018-11-21T10:28:02.633417Z"
    }
   },
   "outputs": [
    {
     "ename": "ModuleNotFoundError",
     "evalue": "No module named 'sru'",
     "output_type": "error",
     "traceback": [
      "\u001b[1;31m---------------------------------------------------------------------------\u001b[0m",
      "\u001b[1;31mModuleNotFoundError\u001b[0m                       Traceback (most recent call last)",
      "\u001b[1;32m<ipython-input-1-e9f3373cd9bb>\u001b[0m in \u001b[0;36m<module>\u001b[1;34m\u001b[0m\n\u001b[0;32m      5\u001b[0m \u001b[1;32mfrom\u001b[0m \u001b[0mtorch\u001b[0m \u001b[1;32mimport\u001b[0m \u001b[0mnn\u001b[0m\u001b[1;33m,\u001b[0m \u001b[0mautograd\u001b[0m\u001b[1;33m,\u001b[0m \u001b[0moptim\u001b[0m\u001b[1;33m\u001b[0m\u001b[1;33m\u001b[0m\u001b[0m\n\u001b[0;32m      6\u001b[0m \u001b[1;32mimport\u001b[0m \u001b[0mtorch\u001b[0m\u001b[1;33m.\u001b[0m\u001b[0mnn\u001b[0m\u001b[1;33m.\u001b[0m\u001b[0mfunctional\u001b[0m \u001b[1;32mas\u001b[0m \u001b[0mF\u001b[0m\u001b[1;33m\u001b[0m\u001b[1;33m\u001b[0m\u001b[0m\n\u001b[1;32m----> 7\u001b[1;33m \u001b[1;32mfrom\u001b[0m \u001b[0msru\u001b[0m \u001b[1;32mimport\u001b[0m \u001b[0mSRU\u001b[0m\u001b[1;33m,\u001b[0m \u001b[0mSRUCell\u001b[0m\u001b[1;33m\u001b[0m\u001b[1;33m\u001b[0m\u001b[0m\n\u001b[0m\u001b[0;32m      8\u001b[0m \u001b[1;32mimport\u001b[0m \u001b[0mtime\u001b[0m\u001b[1;33m\u001b[0m\u001b[1;33m\u001b[0m\u001b[0m\n\u001b[0;32m      9\u001b[0m \u001b[1;32mimport\u001b[0m \u001b[0mmath\u001b[0m\u001b[1;33m\u001b[0m\u001b[1;33m\u001b[0m\u001b[0m\n",
      "\u001b[1;31mModuleNotFoundError\u001b[0m: No module named 'sru'"
     ]
    }
   ],
   "source": [
    "import gensim\n",
    "from gensim.models import KeyedVectors\n",
    "import numpy as np\n",
    "import torch\n",
    "from torch import nn, autograd, optim\n",
    "import torch.nn.functional as F\n",
    "from sru import SRU, SRUCell\n",
    "import time\n",
    "import math\n",
    "from tqdm import tqdm\n",
    "import collections\n",
    "import random"
   ]
  },
  {
   "cell_type": "code",
   "execution_count": null,
   "metadata": {
    "ExecuteTime": {
     "end_time": "2018-11-21T10:28:22.862358Z",
     "start_time": "2018-11-21T10:28:03.331094Z"
    }
   },
   "outputs": [],
   "source": [
    "fvec = KeyedVectors.load_word2vec_format('vec_100d.txt', binary=False)\n",
    "word_vec = fvec.vectors\n",
    "vocab = ['<PAD>', '<BOS>', '<EOS>', '<UNK>']\n",
    "vocab.extend(list(fvec.vocab.keys()))\n",
    "word_vec = np.concatenate((np.array([[0]*word_vec.shape[1]] * 4), word_vec))\n",
    "word_vec = torch.tensor(word_vec).float()"
   ]
  },
  {
   "cell_type": "code",
   "execution_count": 3,
   "metadata": {
    "ExecuteTime": {
     "end_time": "2018-11-21T10:28:22.945147Z",
     "start_time": "2018-11-21T10:28:22.865910Z"
    }
   },
   "outputs": [],
   "source": [
    "word_to_idx = {ch: i for i, ch in enumerate(vocab)}\n",
    "idx_to_word = {i: ch for i, ch in enumerate(vocab)}"
   ]
  },
  {
   "cell_type": "code",
   "execution_count": 4,
   "metadata": {
    "ExecuteTime": {
     "end_time": "2018-11-21T10:28:34.852503Z",
     "start_time": "2018-11-21T10:28:22.947358Z"
    }
   },
   "outputs": [
    {
     "name": "stdout",
     "output_type": "stream",
     "text": [
      "The history saving thread hit an unexpected error (OperationalError('database is locked',)).History will not be written to the database.\n"
     ]
    }
   ],
   "source": [
    "essays = []\n",
    "topics = []\n",
    "with open('composition.txt', 'r') as f:\n",
    "    for line in f:\n",
    "        essay, topic = line.replace('\\n', '').split(' </d> ')\n",
    "        words = essay.split(' ')\n",
    "        new_words = []\n",
    "        for word in words:\n",
    "            if word in word_to_idx:\n",
    "                new_words.append(word)\n",
    "            else:\n",
    "                for i in range(len(word)):\n",
    "                    new_words.append(word[i])\n",
    "        essays.append(new_words)\n",
    "        topics.append(topic.split(' '))"
   ]
  },
  {
   "cell_type": "code",
   "execution_count": 5,
   "metadata": {
    "ExecuteTime": {
     "end_time": "2018-11-21T10:28:36.634397Z",
     "start_time": "2018-11-21T10:28:34.854352Z"
    }
   },
   "outputs": [],
   "source": [
    "corpus_indice = list(map(lambda x: [word_to_idx[w] for w in x], essays[:80000]))\n",
    "topics_indice = list(map(lambda x: [word_to_idx[w] for w in x], topics[:80000]))\n",
    "corpus_test = list(map(lambda x: [word_to_idx[w] for w in x], essays[80000:80800]))\n",
    "topics_test = list(map(lambda x: [word_to_idx[w] for w in x], topics[80000:80800]))"
   ]
  },
  {
   "cell_type": "code",
   "execution_count": 6,
   "metadata": {
    "ExecuteTime": {
     "end_time": "2018-11-21T10:28:36.646993Z",
     "start_time": "2018-11-21T10:28:36.636026Z"
    }
   },
   "outputs": [],
   "source": [
    "length = list(map(lambda x: len(x), corpus_indice))"
   ]
  },
  {
   "cell_type": "code",
   "execution_count": 7,
   "metadata": {
    "ExecuteTime": {
     "end_time": "2018-11-21T10:28:36.656442Z",
     "start_time": "2018-11-21T10:28:36.648540Z"
    }
   },
   "outputs": [],
   "source": [
    "def tav_data_iterator(corpus_indice, topics_indice, batch_size, num_steps):\n",
    "    epoch_size = len(corpus_indice) // batch_size\n",
    "    for i in range(epoch_size):\n",
    "        raw_data = corpus_indice[i*batch_size: (i+1)*batch_size]\n",
    "        key_words = topics_indice[i*batch_size: (i+1)*batch_size]\n",
    "        data = np.zeros((len(raw_data), num_steps+1), dtype=np.int64)\n",
    "        for i in range(batch_size):\n",
    "            doc = raw_data[i]\n",
    "            tmp = [1]\n",
    "            tmp.extend(doc)\n",
    "            tmp.extend([2])\n",
    "            tmp = np.array(tmp, dtype=np.int64)\n",
    "            _size = tmp.shape[0]\n",
    "            data[i][:_size] = tmp\n",
    "        key_words = np.array(key_words, dtype=np.int64)\n",
    "        x = data[:, 0:num_steps]\n",
    "        y = data[:, 1:]\n",
    "        mask = np.float32(x != 0)\n",
    "        x = torch.tensor(x)\n",
    "        y = torch.tensor(y)\n",
    "        mask = torch.tensor(mask)\n",
    "        key_words = torch.tensor(key_words)\n",
    "        yield(x, y, mask, key_words)"
   ]
  },
  {
   "cell_type": "code",
   "execution_count": 8,
   "metadata": {
    "ExecuteTime": {
     "end_time": "2018-11-21T10:28:36.670973Z",
     "start_time": "2018-11-21T10:28:36.658108Z"
    }
   },
   "outputs": [],
   "source": [
    "class TATLSTM(nn.Module):\n",
    "    def __init__(self, hidden_dim, embed_dim, num_layers, weight,\n",
    "                 num_labels, bidirectional, dropout=0.5, **kwargs):\n",
    "        super(TATLSTM, self).__init__(**kwargs)\n",
    "        self.hidden_dim = hidden_dim\n",
    "        self.embed_dim = embed_dim\n",
    "        self.num_layers = num_layers\n",
    "        self.num_labels = num_labels\n",
    "        self.bidirectional = bidirectional\n",
    "        if num_layers <= 1:\n",
    "            self.dropout = 0\n",
    "        else:\n",
    "            self.dropout = dropout\n",
    "        self.embedding = nn.Embedding.from_pretrained(weight)\n",
    "        self.embedding.weight.requires_grad = False\n",
    "        self.rnn = nn.GRU(input_size=self.embed_dim, hidden_size=self.hidden_dim,\n",
    "                          num_layers=self.num_layers, bidirectional=self.bidirectional,\n",
    "                          dropout=self.dropout).to(device)\n",
    "        if self.bidirectional:\n",
    "            self.decoder = nn.Linear(\n",
    "                hidden_dim * 2 + self.embed_dim, 1000).to(device)\n",
    "        else:\n",
    "            self.decoder = nn.Linear(\n",
    "                hidden_dim + self.embed_dim, 1000).to(device)\n",
    "#         self.attn = nn.Linear(self.embed_dim * 5, self.embed_dim)\n",
    "        self.attn = nn.Linear(5, 1, bias=False)\n",
    "        self.attn.weight.data.fill_(1)\n",
    "        \n",
    "\n",
    "    def forward(self, inputs, topics, hidden=None):\n",
    "        embeddings = self.embedding(inputs).to(device)\n",
    "        topics_embed = self.embedding(topics)\n",
    "        topics_attn = torch.zeros(\n",
    "            topics_embed.shape[0], 1, self.embed_dim)\n",
    "        for i in range(len(topics_embed)):\n",
    "            topics_attn[i] = self.attn(topics_embed[i].t()).t()\n",
    "#         topics_attn = self.attn(topics_embed.reshape((topics_embed.shape[0], -1)))\n",
    "#         topics_attn.unsqueeze_(-1)\n",
    "        topics_attn = topics_attn.permute([0, 2, 1])\n",
    "        self.rnn.flatten_parameters()\n",
    "        if hidden is None:\n",
    "            states, hidden = self.rnn(embeddings.permute([1, 0, 2]))\n",
    "        else:\n",
    "            states, hidden = self.rnn(\n",
    "                embeddings.permute([1, 0, 2]), hidden)\n",
    "        topics_attn = topics_attn.expand(\n",
    "            topics_attn.shape[0], topics_attn.shape[1], states.shape[0])\n",
    "        topics_attn = topics_attn.permute([2, 0, 1]).to(device)\n",
    "        states_with_topic = torch.cat([states, topics_attn], dim=2)\n",
    "        outputs = self.decoder(states_with_topic.reshape(\n",
    "            (-1, states_with_topic.shape[-1])))\n",
    "        return(outputs, hidden)\n",
    "\n",
    "    def init_hidden(self, num_layers, batch_size, hidden_dim, **kwargs):\n",
    "        hidden = torch.zeros(num_layers, batch_size, hidden_dim)\n",
    "        return hidden"
   ]
  },
  {
   "cell_type": "code",
   "execution_count": 9,
   "metadata": {
    "ExecuteTime": {
     "end_time": "2018-11-21T10:28:36.678532Z",
     "start_time": "2018-11-21T10:28:36.672476Z"
    }
   },
   "outputs": [],
   "source": [
    "def predict_rnn_ada(topics, num_chars, model, idx_to_word, word_to_idx):\n",
    "    output = [1]\n",
    "    topics = [word_to_idx[x] for x in topics]\n",
    "    topics = torch.tensor(topics)\n",
    "    topics = topics.reshape((1, topics.shape[0]))\n",
    "    hidden = torch.zeros(num_layers, 1, hidden_dim)\n",
    "    if use_gpu:\n",
    "        hidden = hidden.to(device)\n",
    "        adaptive_softmax.to(device)\n",
    "#         topics = topics.to(device)\n",
    "    for t in range(num_chars):\n",
    "        X = torch.tensor(output[-1]).reshape((1, 1))\n",
    "#         X = torch.tensor(output).reshape((1, len(output)))\n",
    "#         if use_gpu:\n",
    "#             X = X.to(device)\n",
    "        pred, hidden = model(X, topics, hidden)\n",
    "        pred = adaptive_softmax.predict(pred)\n",
    "        if pred[-1] == 2:\n",
    "            break\n",
    "        else:\n",
    "            output.append(int(pred[-1]))\n",
    "#             output.append(int(pred.argmax(dim=1)[-1]))\n",
    "    return(''.join([idx_to_word[i] for i in output[1:]]), output[1:])"
   ]
  },
  {
   "cell_type": "code",
   "execution_count": 10,
   "metadata": {
    "ExecuteTime": {
     "end_time": "2018-11-21T10:28:36.686499Z",
     "start_time": "2018-11-21T10:28:36.682034Z"
    }
   },
   "outputs": [],
   "source": [
    "def bleu(pred_tokens, label_tokens, k):\n",
    "    len_pred, len_label = len(pred_tokens), len(label_tokens)\n",
    "    score = math.exp(min(0, 1 - len_label / len_pred))\n",
    "    for n in range(1, k+1):\n",
    "        num_matches = 0\n",
    "        for i in range(len_pred - n + 1):\n",
    "            if ' '.join(pred_tokens[i: i + n]) in ' '.join(label_tokens):\n",
    "                num_matches += 1\n",
    "        score *= math.pow(num_matches / (len_pred - n + 1), math.pow(0.5, n))\n",
    "    return score"
   ]
  },
  {
   "cell_type": "code",
   "execution_count": 11,
   "metadata": {
    "ExecuteTime": {
     "end_time": "2018-11-21T10:28:37.007828Z",
     "start_time": "2018-11-21T10:28:36.688409Z"
    }
   },
   "outputs": [],
   "source": [
    "embedding_dim = 100\n",
    "hidden_dim = 256\n",
    "lr = 1e2\n",
    "momentum = 0.1\n",
    "num_epoch = 300\n",
    "use_gpu = True\n",
    "num_layers = 1\n",
    "bidirectional = False\n",
    "batch_size = 128\n",
    "verbose = 5\n",
    "vocab_size = len(vocab)\n",
    "device = torch.device('cuda:0')\n",
    "loss_function = nn.CrossEntropyLoss()\n",
    "adaptive_softmax = nn.AdaptiveLogSoftmaxWithLoss(\n",
    "    1000, len(vocab), cutoffs=[round(vocab_size / 20), 4*round(vocab_size / 20)])"
   ]
  },
  {
   "cell_type": "code",
   "execution_count": 12,
   "metadata": {
    "ExecuteTime": {
     "end_time": "2018-11-21T10:28:39.295855Z",
     "start_time": "2018-11-21T10:28:37.009415Z"
    }
   },
   "outputs": [],
   "source": [
    "model = TATLSTM(hidden_dim=hidden_dim, embed_dim=embedding_dim, num_layers=num_layers,\n",
    "                num_labels=len(vocab), weight=word_vec, bidirectional=bidirectional)\n",
    "optimizer = optim.SGD(model.parameters(), lr=lr, momentum=momentum)\n",
    "# if use_gpu:\n",
    "#     model = nn.DataParallel(model)\n",
    "#     model.to(device)\n",
    "# optimizer = hvd.DistributedOptimizer(optimizer, named_parameters=model.named_parameters)\n",
    "# hvd.broadcast_parameters(model.state_dict(), root_rank=0)"
   ]
  },
  {
   "cell_type": "code",
   "execution_count": 13,
   "metadata": {
    "ExecuteTime": {
     "end_time": "2018-11-21T10:28:39.510395Z",
     "start_time": "2018-11-21T10:28:39.298668Z"
    },
    "scrolled": true
   },
   "outputs": [
    {
     "data": {
      "text/plain": [
       "'蕴藏蕴藏蕴藏蕴藏蕴藏蕴藏蕴藏蕴藏蕴藏蕴藏蕴藏蕴藏蕴藏蕴藏蕴藏蕴藏蕴藏蕴藏蕴藏蕴藏蕴藏蕴藏蕴藏蕴藏蕴藏蕴藏蕴藏蕴藏蕴藏蕴藏蕴藏蕴藏蕴藏蕴藏蕴藏蕴藏蕴藏蕴藏蕴藏蕴藏蕴藏蕴藏蕴藏蕴藏蕴藏蕴藏蕴藏蕴藏蕴藏蕴藏蕴藏蕴藏蕴藏蕴藏蕴藏蕴藏蕴藏蕴藏蕴藏蕴藏蕴藏蕴藏蕴藏蕴藏蕴藏蕴藏蕴藏蕴藏蕴藏蕴藏蕴藏蕴藏蕴藏蕴藏蕴藏蕴藏蕴藏蕴藏蕴藏蕴藏蕴藏蕴藏蕴藏蕴藏蕴藏蕴藏蕴藏蕴藏蕴藏蕴藏蕴藏蕴藏蕴藏蕴藏蕴藏蕴藏蕴藏蕴藏蕴藏蕴藏'"
      ]
     },
     "execution_count": 13,
     "metadata": {},
     "output_type": "execute_result"
    }
   ],
   "source": [
    "predict_rnn_ada(['人们', '看看', '展示', '美丽', '夏天'], 100, model, idx_to_word, word_to_idx)[0]"
   ]
  },
  {
   "cell_type": "code",
   "execution_count": 14,
   "metadata": {
    "ExecuteTime": {
     "end_time": "2018-11-21T19:17:04.151020Z",
     "start_time": "2018-11-21T10:28:39.512305Z"
    },
    "scrolled": true
   },
   "outputs": [
    {
     "name": "stderr",
     "output_type": "stream",
     "text": [
      "625it [01:47,  5.78it/s]\n",
      "625it [01:47,  5.93it/s]\n",
      "625it [01:46,  6.06it/s]\n",
      "625it [01:45,  5.88it/s]\n",
      "625it [01:46,  5.92it/s]\n",
      "0it [00:00, ?it/s]"
     ]
    },
    {
     "name": "stdout",
     "output_type": "stream",
     "text": [
      "epoch 5/300, loss 6.3886, norm 0.2059, predict bleu: 0.0000, time 106.220s, since 0h 8m 53s\n",
      "我的喜欢是一个美丽的人，它的是是美丽的。它的是是美丽的。它的是是美丽的。它的是是美丽的。\n"
     ]
    },
    {
     "name": "stderr",
     "output_type": "stream",
     "text": [
      "625it [01:46,  6.01it/s]\n",
      "625it [01:45,  5.95it/s]\n",
      "625it [01:45,  5.67it/s]\n",
      "625it [01:45,  5.41it/s]\n",
      "625it [01:45,  6.03it/s]\n",
      "0it [00:00, ?it/s]"
     ]
    },
    {
     "name": "stdout",
     "output_type": "stream",
     "text": [
      "epoch 10/300, loss 6.1049, norm 0.1620, predict bleu: 0.0000, time 105.912s, since 0h 17m 42s\n",
      "我的喜欢有了，它的喜欢是美丽的。它的是很美丽的。它的是很美丽的。它的是很美丽的。它的是很美丽的。\n"
     ]
    },
    {
     "name": "stderr",
     "output_type": "stream",
     "text": [
      "625it [01:45,  5.87it/s]\n",
      "625it [01:45,  5.72it/s]\n",
      "625it [01:45,  6.07it/s]\n",
      "625it [01:46,  5.97it/s]\n",
      "625it [01:46,  5.83it/s]\n",
      "0it [00:00, ?it/s]"
     ]
    },
    {
     "name": "stdout",
     "output_type": "stream",
     "text": [
      "epoch 15/300, loss 5.9761, norm 0.1692, predict bleu: 0.0000, time 106.251s, since 0h 26m 32s\n",
      "我的家乡是一个美丽的地方，它是我的好朋友。我想，我想想：“我的喜欢我的””我的夏天也不知道，我想想想：“我的喜欢我的””\n"
     ]
    },
    {
     "name": "stderr",
     "output_type": "stream",
     "text": [
      "625it [01:45,  5.94it/s]\n",
      "625it [01:46,  5.83it/s]\n",
      "625it [01:45,  5.98it/s]\n",
      "625it [01:45,  5.81it/s]\n",
      "625it [01:46,  5.94it/s]\n",
      "0it [00:00, ?it/s]"
     ]
    },
    {
     "name": "stdout",
     "output_type": "stream",
     "text": [
      "epoch 20/300, loss 5.9036, norm 0.1770, predict bleu: 0.0000, time 106.081s, since 0h 35m 22s\n",
      "我的家乡是个美丽的地方，我的喜欢有了，有一天，我和妈妈去去玩玩。我和妈妈一起去玩玩。我和妈妈一起去玩了一起玩。我和妈妈一起去玩了一起玩。\n"
     ]
    },
    {
     "name": "stderr",
     "output_type": "stream",
     "text": [
      "625it [01:45,  5.78it/s]\n",
      "625it [01:46,  6.10it/s]\n",
      "625it [01:46,  5.86it/s]\n",
      "625it [01:45,  6.27it/s]\n",
      "625it [01:46,  6.02it/s]\n",
      "0it [00:00, ?it/s]"
     ]
    },
    {
     "name": "stdout",
     "output_type": "stream",
     "text": [
      "epoch 25/300, loss 5.8586, norm 0.1864, predict bleu: 0.0000, time 106.358s, since 0h 44m 12s\n",
      "我的家乡是个美丽的地方，它是个美丽的地方，它是我的好朋友。它是我的好朋友。它是我的好朋友。它是我的好朋友。它是我的好朋友。\n"
     ]
    },
    {
     "name": "stderr",
     "output_type": "stream",
     "text": [
      "625it [01:45,  5.93it/s]\n",
      "625it [01:46,  5.66it/s]\n",
      "625it [01:46,  6.08it/s]\n",
      "625it [01:45,  5.87it/s]\n",
      "625it [01:45,  5.77it/s]\n",
      "0it [00:00, ?it/s]"
     ]
    },
    {
     "name": "stdout",
     "output_type": "stream",
     "text": [
      "epoch 30/300, loss 5.8262, norm 0.1728, predict bleu: 0.0000, time 105.921s, since 0h 53m 2s\n",
      "我的家乡是个美丽的地方，我的家乡是个美丽的地方，我的家乡是个美丽的地方，我有一个美丽的地方，那是一个美丽的地方。\n"
     ]
    },
    {
     "name": "stderr",
     "output_type": "stream",
     "text": [
      "625it [01:45,  6.03it/s]\n",
      "625it [01:46,  5.49it/s]\n",
      "625it [01:47,  5.80it/s]\n",
      "625it [01:47,  5.93it/s]\n",
      "625it [01:46,  5.97it/s]\n"
     ]
    },
    {
     "name": "stdout",
     "output_type": "stream",
     "text": [
      "epoch 35/300, loss 5.8032, norm 0.1861, predict bleu: 0.0000, time 106.829s, since 1h 1m 56s\n",
      "我的家乡在我的身边，我的家乡，在我的脑海里，有一个美丽的地方，那是一个美丽的地方。我的家乡在我的眼前，她的美丽，她的美丽，她的美丽，她的美丽，她的美丽，她的美丽，她的美丽，她的美丽，她的美丽，她的美丽，她的美丽，她的美丽，她的美丽，她的美丽，她的美丽，她\n"
     ]
    },
    {
     "name": "stderr",
     "output_type": "stream",
     "text": [
      "625it [01:45,  5.97it/s]\n",
      "625it [01:47,  5.80it/s]\n",
      "625it [01:46,  5.92it/s]\n",
      "625it [01:46,  5.89it/s]\n",
      "625it [01:46,  6.01it/s]\n",
      "0it [00:00, ?it/s]"
     ]
    },
    {
     "name": "stdout",
     "output_type": "stream",
     "text": [
      "epoch 40/300, loss 5.7857, norm 0.1895, predict bleu: 0.0000, time 106.891s, since 1h 10m 49s\n",
      "我的家乡在我的身边，我的家乡，在我的脑海里，有一个美丽的地方，那是一个美丽的地方。我的家乡在我的眼前，它是我的好朋友。它是我的好朋友。它是我的好朋友。\n"
     ]
    },
    {
     "name": "stderr",
     "output_type": "stream",
     "text": [
      "625it [01:47,  5.94it/s]\n",
      "625it [01:46,  5.83it/s]\n",
      "625it [01:45,  6.08it/s]\n",
      "625it [01:46,  5.81it/s]\n",
      "625it [01:45,  5.84it/s]\n",
      "0it [00:00, ?it/s]"
     ]
    },
    {
     "name": "stdout",
     "output_type": "stream",
     "text": [
      "epoch 45/300, loss 5.7721, norm 0.1918, predict bleu: 0.0000, time 105.944s, since 1h 19m 40s\n",
      "我的家乡在我的身边，它的美丽，它的美丽，它的美丽，它的美丽，它的美丽，它的美丽，它的美丽，它的美丽，它的美丽，它的美丽。\n"
     ]
    },
    {
     "name": "stderr",
     "output_type": "stream",
     "text": [
      "625it [01:46,  6.01it/s]\n",
      "625it [01:45,  6.07it/s]\n",
      "625it [01:47,  5.92it/s]\n",
      "625it [01:46,  6.14it/s]\n",
      "625it [01:45,  5.90it/s]\n",
      "0it [00:00, ?it/s]"
     ]
    },
    {
     "name": "stdout",
     "output_type": "stream",
     "text": [
      "epoch 50/300, loss 5.7611, norm 0.1913, predict bleu: 0.0000, time 105.965s, since 1h 28m 33s\n",
      "我的家乡在我的身边，它是我的好朋友。它是我的好朋友，它是我的好朋友。它是我的好朋友。它是我的好朋友。它是我的好朋友。它是我的好朋友。它是我的好朋友。\n"
     ]
    },
    {
     "name": "stderr",
     "output_type": "stream",
     "text": [
      "625it [01:46,  5.97it/s]\n",
      "625it [01:47,  5.67it/s]\n",
      "625it [01:46,  6.05it/s]\n",
      "625it [01:47,  5.96it/s]\n",
      "625it [01:46,  5.92it/s]\n",
      "0it [00:00, ?it/s]"
     ]
    },
    {
     "name": "stdout",
     "output_type": "stream",
     "text": [
      "epoch 55/300, loss 5.7521, norm 0.1934, predict bleu: 0.0000, time 106.356s, since 1h 37m 27s\n",
      "我的家乡在我的身边，它是我的好朋友。它是我的好朋友，它是我的好朋友。它是我的好朋友。它是我的好朋友。它是我的好朋友。它是我的好朋友。它是我的好朋友。\n"
     ]
    },
    {
     "name": "stderr",
     "output_type": "stream",
     "text": [
      "625it [01:46,  5.99it/s]\n",
      "625it [01:46,  6.00it/s]\n",
      "625it [01:46,  6.19it/s]\n",
      "625it [01:46,  5.93it/s]\n",
      "625it [01:46,  5.58it/s]\n",
      "0it [00:00, ?it/s]"
     ]
    },
    {
     "name": "stdout",
     "output_type": "stream",
     "text": [
      "epoch 60/300, loss 5.7450, norm 0.1915, predict bleu: 0.0000, time 106.551s, since 1h 46m 21s\n",
      "我的家乡在我的身边，我的家乡在我的身边。我的家乡在我的身边，它是我的好朋友。它是我的好朋友，它是我的好朋友。它是我的好朋友。它是我的好朋友。它是我的好朋友。它是我的好朋友。\n"
     ]
    },
    {
     "name": "stderr",
     "output_type": "stream",
     "text": [
      "625it [01:46,  6.15it/s]\n",
      "625it [01:47,  5.78it/s]\n",
      "625it [01:47,  6.07it/s]\n",
      "625it [01:46,  5.75it/s]\n",
      "625it [01:46,  5.86it/s]\n",
      "0it [00:00, ?it/s]"
     ]
    },
    {
     "name": "stdout",
     "output_type": "stream",
     "text": [
      "epoch 65/300, loss 5.7386, norm 0.1983, predict bleu: 0.0000, time 106.060s, since 1h 55m 15s\n",
      "我的家乡在我的身边，它是我的家乡。它在我的身边，它在我的眼前，它是我的好朋友。它的我也很喜欢它。它的生命是那么的美丽，那么的美丽。\n"
     ]
    },
    {
     "name": "stderr",
     "output_type": "stream",
     "text": [
      "625it [01:45,  6.11it/s]\n",
      "625it [01:45,  5.98it/s]\n",
      "625it [01:45,  5.97it/s]\n",
      "625it [01:46,  6.03it/s]\n",
      "625it [01:45,  6.11it/s]\n",
      "0it [00:00, ?it/s]"
     ]
    },
    {
     "name": "stdout",
     "output_type": "stream",
     "text": [
      "epoch 70/300, loss 5.7333, norm 0.1909, predict bleu: 0.0000, time 105.194s, since 2h 4m 2s\n",
      "我的家乡是一个美丽的地方，在我的身上，有一个美丽的世界。我的家乡有一个美丽的地方，那是一个美丽的地方。\n"
     ]
    },
    {
     "name": "stderr",
     "output_type": "stream",
     "text": [
      "625it [01:46,  5.71it/s]\n",
      "625it [01:45,  5.94it/s]\n",
      "625it [01:45,  5.71it/s]\n",
      "625it [01:45,  5.96it/s]\n",
      "625it [01:45,  5.96it/s]\n",
      "0it [00:00, ?it/s]"
     ]
    },
    {
     "name": "stdout",
     "output_type": "stream",
     "text": [
      "epoch 75/300, loss 5.7287, norm 0.1848, predict bleu: 0.0000, time 105.724s, since 2h 12m 52s\n",
      "我的家乡在这里，我的心情很美丽，我的心都是美好的。在这里，我要向人们展示自己的美丽。我想：“我的梦想是我的梦！”\n"
     ]
    },
    {
     "name": "stderr",
     "output_type": "stream",
     "text": [
      "625it [01:46,  5.77it/s]\n",
      "625it [01:45,  5.65it/s]\n",
      "625it [01:46,  5.81it/s]\n",
      "625it [01:45,  5.74it/s]\n",
      "625it [01:45,  6.08it/s]\n",
      "0it [00:00, ?it/s]"
     ]
    },
    {
     "name": "stdout",
     "output_type": "stream",
     "text": [
      "epoch 80/300, loss 5.7246, norm 0.2033, predict bleu: 0.0000, time 105.917s, since 2h 21m 41s\n",
      "我的家乡在我的身边，它是我的家乡，它是我的家乡，它是我的家乡。它是我的家乡，它是我的家乡。它是我的好朋友。它是我的好朋友。它的生命是多么美丽，它是一个美丽的地方。\n"
     ]
    },
    {
     "name": "stderr",
     "output_type": "stream",
     "text": [
      "625it [01:45,  5.82it/s]\n",
      "625it [01:46,  5.82it/s]\n",
      "625it [01:45,  6.02it/s]\n",
      "625it [01:45,  6.00it/s]\n",
      "625it [01:45,  5.94it/s]\n",
      "0it [00:00, ?it/s]"
     ]
    },
    {
     "name": "stdout",
     "output_type": "stream",
     "text": [
      "epoch 85/300, loss 5.7210, norm 0.2034, predict bleu: 0.0000, time 105.745s, since 2h 30m 31s\n",
      "我的家乡在一个美丽的地方，一个美丽的地方，一个美丽的地方，一个美丽的地方，一个美丽的花朵，在我的脑海里，我最喜欢的是那美丽的风景。\n"
     ]
    },
    {
     "name": "stderr",
     "output_type": "stream",
     "text": [
      "625it [01:45,  6.06it/s]\n",
      "625it [01:45,  6.02it/s]\n",
      "625it [01:45,  5.95it/s]\n",
      "625it [01:45,  6.04it/s]\n",
      "625it [01:46,  5.88it/s]\n",
      "0it [00:00, ?it/s]"
     ]
    },
    {
     "name": "stdout",
     "output_type": "stream",
     "text": [
      "epoch 90/300, loss 5.7182, norm 0.1915, predict bleu: 0.0000, time 106.024s, since 2h 39m 20s\n",
      "我的家乡在一个美丽的地方，一个美丽的地方，一个美丽的小花园，它的颜色是那么美丽，那么美丽，那么美丽，那么美丽。它的颜色是那么美丽，那么美丽。它的生命是那么的美丽，那么美丽。\n"
     ]
    },
    {
     "name": "stderr",
     "output_type": "stream",
     "text": [
      "625it [01:46,  5.56it/s]\n",
      "625it [01:45,  5.97it/s]\n",
      "625it [01:45,  6.03it/s]\n",
      "625it [01:45,  5.88it/s]\n",
      "625it [01:46,  5.82it/s]\n",
      "0it [00:00, ?it/s]"
     ]
    },
    {
     "name": "stdout",
     "output_type": "stream",
     "text": [
      "epoch 95/300, loss 5.7155, norm 0.1922, predict bleu: 0.0000, time 106.230s, since 2h 48m 9s\n",
      "我的家乡在一个美丽的地方，一个美丽的地方，一个美丽的地方，一个美丽的世界，一个美丽的世界。\n"
     ]
    },
    {
     "name": "stderr",
     "output_type": "stream",
     "text": [
      "625it [01:44,  5.96it/s]\n",
      "625it [01:45,  6.13it/s]\n",
      "625it [01:46,  5.93it/s]\n",
      "625it [01:45,  5.99it/s]\n",
      "625it [01:46,  6.04it/s]\n",
      "0it [00:00, ?it/s]"
     ]
    },
    {
     "name": "stdout",
     "output_type": "stream",
     "text": [
      "epoch 100/300, loss 5.7138, norm 0.1934, predict bleu: 0.0000, time 106.271s, since 2h 56m 58s\n",
      "我的家乡在这里，我的家乡是一个美丽的地方，我的心情很美丽，我的心都是那么的美丽。我的心也有了，我的家乡在我的身边，我也不知道我的梦想是什么。\n"
     ]
    },
    {
     "name": "stderr",
     "output_type": "stream",
     "text": [
      "625it [01:45,  6.20it/s]\n",
      "625it [01:45,  5.87it/s]\n",
      "625it [01:45,  5.99it/s]\n",
      "625it [01:45,  5.94it/s]\n",
      "625it [01:45,  6.20it/s]\n",
      "0it [00:00, ?it/s]"
     ]
    },
    {
     "name": "stdout",
     "output_type": "stream",
     "text": [
      "epoch 105/300, loss 5.7115, norm 0.2092, predict bleu: 0.0000, time 105.489s, since 3h 5m 46s\n",
      "我的家乡在这里，我的心都是美好的。它的生命是那么的美丽，那么的美丽。它是美丽的，它的美丽，它的美丽。\n"
     ]
    },
    {
     "name": "stderr",
     "output_type": "stream",
     "text": [
      "625it [01:45,  5.80it/s]\n",
      "625it [01:45,  6.13it/s]\n",
      "625it [01:45,  5.86it/s]\n",
      "625it [01:46,  5.90it/s]\n",
      "625it [01:44,  5.70it/s]\n",
      "0it [00:00, ?it/s]"
     ]
    },
    {
     "name": "stdout",
     "output_type": "stream",
     "text": [
      "epoch 110/300, loss 5.7093, norm 0.2130, predict bleu: 0.0000, time 104.954s, since 3h 14m 33s\n",
      "我的家乡是一个美丽的地方，在我的记忆里，有一个美丽的地方，一个美丽的世界。在我的记忆里，有一个美丽的地方，一个美丽的世界。\n"
     ]
    },
    {
     "name": "stderr",
     "output_type": "stream",
     "text": [
      "625it [01:46,  5.94it/s]\n",
      "625it [01:45,  5.89it/s]\n",
      "625it [01:45,  5.93it/s]\n",
      "625it [01:45,  5.80it/s]\n",
      "625it [01:45,  6.09it/s]\n",
      "0it [00:00, ?it/s]"
     ]
    },
    {
     "name": "stdout",
     "output_type": "stream",
     "text": [
      "epoch 115/300, loss 5.7074, norm 0.2148, predict bleu: 0.0000, time 105.548s, since 3h 23m 21s\n",
      "我的家乡在这里，我的家乡是一个美丽的地方，它的美丽很美丽，人们的脸上都是美丽的，有的人在为自己的歌声，有的人在别人的欣赏下，有的人在为自己的有的，有的在我的有的，还有的，还有的人在我身边。\n"
     ]
    },
    {
     "name": "stderr",
     "output_type": "stream",
     "text": [
      "625it [01:45,  6.00it/s]\n",
      "625it [01:45,  5.96it/s]\n",
      "625it [01:45,  6.05it/s]\n",
      "625it [01:45,  5.90it/s]\n",
      "625it [01:45,  5.85it/s]\n",
      "0it [00:00, ?it/s]"
     ]
    },
    {
     "name": "stdout",
     "output_type": "stream",
     "text": [
      "epoch 120/300, loss 5.7063, norm 0.2151, predict bleu: 0.0000, time 105.581s, since 3h 32m 9s\n",
      "我的家乡在这里，我的家乡是一个美丽的地方，它的美丽很美丽，它的美丽很美丽。人们的喜欢夏天，人们都在这片土地里，人们都在为人们的美丽而美丽。\n"
     ]
    },
    {
     "name": "stderr",
     "output_type": "stream",
     "text": [
      "625it [01:46,  5.85it/s]\n",
      "625it [01:45,  6.03it/s]\n",
      "625it [01:45,  5.93it/s]\n",
      "625it [01:45,  5.77it/s]\n",
      "625it [01:45,  5.84it/s]\n",
      "0it [00:00, ?it/s]"
     ]
    },
    {
     "name": "stdout",
     "output_type": "stream",
     "text": [
      "epoch 125/300, loss 5.7047, norm 0.2116, predict bleu: 0.0000, time 105.314s, since 3h 40m 57s\n",
      "我的家乡是一个美丽的地方，在我的脑海里，有许多人在我身边的人，我的家乡在我的身边。我的家乡在这里，我也不知道我的“小””\n"
     ]
    },
    {
     "name": "stderr",
     "output_type": "stream",
     "text": [
      "625it [01:45,  5.82it/s]\n",
      "625it [01:45,  5.90it/s]\n",
      "625it [01:45,  5.66it/s]\n",
      "625it [01:45,  6.12it/s]\n",
      "625it [01:45,  5.90it/s]\n",
      "0it [00:00, ?it/s]"
     ]
    },
    {
     "name": "stdout",
     "output_type": "stream",
     "text": [
      "epoch 130/300, loss 5.7031, norm 0.2169, predict bleu: 0.0000, time 105.581s, since 3h 49m 45s\n",
      "我的家乡在这里，在我的身边，它是一个美丽的地方，它是一个美丽的地方，它是一个美丽的地方。它的生命是多么美好啊！\n"
     ]
    },
    {
     "name": "stderr",
     "output_type": "stream",
     "text": [
      "625it [01:45,  5.92it/s]\n",
      "625it [01:45,  6.11it/s]\n",
      "625it [01:45,  6.01it/s]\n",
      "625it [01:45,  5.68it/s]\n",
      "625it [01:45,  6.27it/s]\n",
      "0it [00:00, ?it/s]"
     ]
    },
    {
     "name": "stdout",
     "output_type": "stream",
     "text": [
      "epoch 135/300, loss 5.7020, norm 0.2034, predict bleu: 0.0000, time 105.421s, since 3h 58m 31s\n",
      "我的家乡在这里，它的美丽很美丽。它的颜色是那么美丽，那么美丽，那么美丽。它的颜色是那么美丽，那么美丽，那么美丽。它的生命是那么的美丽，它是那么美丽，那么美丽。\n"
     ]
    },
    {
     "name": "stderr",
     "output_type": "stream",
     "text": [
      "625it [01:45,  5.99it/s]\n",
      "625it [01:46,  5.99it/s]\n",
      "625it [01:45,  6.09it/s]\n",
      "625it [01:45,  6.14it/s]\n",
      "625it [01:46,  5.70it/s]\n",
      "0it [00:00, ?it/s]"
     ]
    },
    {
     "name": "stdout",
     "output_type": "stream",
     "text": [
      "epoch 140/300, loss 5.7007, norm 0.2026, predict bleu: 0.0000, time 106.061s, since 4h 7m 21s\n",
      "我的家乡是一个美丽的地方，人们的喜欢，有人们的生命，有的人有一颗的心。有的人说，有的人在说：“人们都在这里，在我的身边，我的家乡，我的爱。”\n"
     ]
    },
    {
     "name": "stderr",
     "output_type": "stream",
     "text": [
      "625it [01:45,  5.71it/s]\n",
      "625it [01:45,  5.81it/s]\n",
      "625it [01:45,  6.21it/s]\n",
      "625it [01:45,  6.22it/s]\n",
      "625it [01:45,  5.99it/s]\n",
      "0it [00:00, ?it/s]"
     ]
    },
    {
     "name": "stdout",
     "output_type": "stream",
     "text": [
      "epoch 145/300, loss 5.6996, norm 0.2210, predict bleu: 0.0000, time 105.473s, since 4h 16m 8s\n",
      "我的家乡是一个美丽的地方，它的生命是那么美丽，那么美丽。它是那么美丽，那么美丽，那么美丽。它是那么美丽，那么美丽。它是一个美丽的地方。\n"
     ]
    },
    {
     "name": "stderr",
     "output_type": "stream",
     "text": [
      "625it [01:46,  6.23it/s]\n",
      "625it [01:45,  6.00it/s]\n",
      "625it [01:45,  5.87it/s]\n",
      "625it [01:45,  6.18it/s]\n",
      "625it [01:45,  5.92it/s]\n",
      "0it [00:00, ?it/s]"
     ]
    },
    {
     "name": "stdout",
     "output_type": "stream",
     "text": [
      "epoch 150/300, loss 5.6988, norm 0.2153, predict bleu: 0.0000, time 105.605s, since 4h 24m 57s\n",
      "我的家乡在这里，它的美丽很美丽，它的美丽很美丽，它的美丽很美丽，它的美丽很美丽，它的美丽很美丽。人们的喜欢它的喜欢，有人们的生命，也有了人们的希望。\n"
     ]
    },
    {
     "name": "stderr",
     "output_type": "stream",
     "text": [
      "625it [01:45,  6.20it/s]\n",
      "625it [01:45,  6.24it/s]\n",
      "625it [01:45,  5.97it/s]\n",
      "625it [01:46,  5.92it/s]\n",
      "625it [01:45,  5.72it/s]\n",
      "0it [00:00, ?it/s]"
     ]
    },
    {
     "name": "stdout",
     "output_type": "stream",
     "text": [
      "epoch 155/300, loss 5.6980, norm 0.2167, predict bleu: 0.0000, time 105.359s, since 4h 33m 45s\n",
      "我的家乡在这里，人们都在我的脑海里充满了人们的美丽。我的心也有了一个美丽的世界。\n"
     ]
    },
    {
     "name": "stderr",
     "output_type": "stream",
     "text": [
      "625it [01:45,  6.10it/s]\n",
      "625it [01:45,  5.81it/s]\n",
      "625it [01:45,  6.25it/s]\n",
      "625it [01:45,  6.18it/s]\n",
      "625it [01:45,  5.68it/s]\n",
      "0it [00:00, ?it/s]"
     ]
    },
    {
     "name": "stdout",
     "output_type": "stream",
     "text": [
      "epoch 160/300, loss 5.6968, norm 0.2162, predict bleu: 0.0000, time 105.566s, since 4h 42m 33s\n",
      "我的家乡在这里，它是那么美丽，那么美丽，那么美丽，那么美丽，那么美丽，那么美丽。它的生命像美丽的春天，它像一个美丽的少女，在人们的心中，它的心也很美丽。\n"
     ]
    },
    {
     "name": "stderr",
     "output_type": "stream",
     "text": [
      "625it [01:44,  5.83it/s]\n",
      "625it [01:45,  5.87it/s]\n",
      "625it [01:45,  6.09it/s]\n",
      "625it [01:44,  6.15it/s]\n",
      "625it [01:45,  5.89it/s]\n",
      "0it [00:00, ?it/s]"
     ]
    },
    {
     "name": "stdout",
     "output_type": "stream",
     "text": [
      "epoch 165/300, loss 5.6963, norm 0.2119, predict bleu: 0.0000, time 105.548s, since 4h 51m 21s\n",
      "我的家乡是一个美丽的地方，人们的喜欢，有人们的生命，有的喜欢夏天的人们。可是，人们都知道，他们都是在他们的身上，他们的生命也是他们的。\n"
     ]
    },
    {
     "name": "stderr",
     "output_type": "stream",
     "text": [
      "625it [01:45,  6.07it/s]\n",
      "625it [01:45,  6.04it/s]\n",
      "625it [01:45,  5.68it/s]\n",
      "625it [01:45,  5.83it/s]\n",
      "625it [01:45,  6.03it/s]\n",
      "0it [00:00, ?it/s]"
     ]
    },
    {
     "name": "stdout",
     "output_type": "stream",
     "text": [
      "epoch 170/300, loss 5.6952, norm 0.2134, predict bleu: 0.0000, time 105.591s, since 5h 0m 9s\n",
      "我的家乡是一个美丽的地方，人们的喜欢，有人们的挨，有的喜欢它的。他们的爱，有的人，还有的，还有……\n"
     ]
    },
    {
     "name": "stderr",
     "output_type": "stream",
     "text": [
      "625it [01:44,  5.93it/s]\n",
      "625it [01:45,  6.05it/s]\n",
      "625it [01:45,  5.81it/s]\n",
      "625it [01:45,  6.21it/s]\n",
      "625it [01:45,  5.97it/s]\n",
      "0it [00:00, ?it/s]"
     ]
    },
    {
     "name": "stdout",
     "output_type": "stream",
     "text": [
      "epoch 175/300, loss 5.6948, norm 0.2182, predict bleu: 0.0000, time 105.266s, since 5h 8m 55s\n",
      "我的家乡是一个美丽的地方，人们的生命是那么的美丽，人们的美丽，在人们的心中，有的人在不同，人们都在为人们服务。人们的爱，是人们的。\n"
     ]
    },
    {
     "name": "stderr",
     "output_type": "stream",
     "text": [
      "625it [01:45,  5.91it/s]\n",
      "625it [01:45,  5.99it/s]\n",
      "625it [01:45,  6.08it/s]\n",
      "625it [01:45,  5.97it/s]\n",
      "625it [01:45,  5.94it/s]\n",
      "0it [00:00, ?it/s]"
     ]
    },
    {
     "name": "stdout",
     "output_type": "stream",
     "text": [
      "epoch 180/300, loss 5.6937, norm 0.2118, predict bleu: 0.0000, time 105.414s, since 5h 17m 43s\n",
      "我的家乡在一个美丽的地方，它的美丽很美丽，它的美是美的美。它的美丽的美丽，让人们感觉到了它的美丽。它的美丽，它的美丽，它的美丽。\n"
     ]
    },
    {
     "name": "stderr",
     "output_type": "stream",
     "text": [
      "625it [01:46,  5.95it/s]\n",
      "625it [01:44,  6.10it/s]\n",
      "625it [01:45,  5.95it/s]\n",
      "625it [01:44,  6.10it/s]\n",
      "625it [01:44,  5.82it/s]\n",
      "0it [00:00, ?it/s]"
     ]
    },
    {
     "name": "stdout",
     "output_type": "stream",
     "text": [
      "epoch 185/300, loss 5.6929, norm 0.2225, predict bleu: 0.0000, time 104.010s, since 5h 26m 29s\n",
      "我的家乡在这里，它的美丽很美丽。它的美丽很美丽，它很美丽。人们都在为人们的“学习”。人们在这里的人们也在为人们的奥林匹克。\n"
     ]
    },
    {
     "name": "stderr",
     "output_type": "stream",
     "text": [
      "625it [01:45,  5.98it/s]\n",
      "625it [01:45,  5.96it/s]\n",
      "625it [01:45,  5.94it/s]\n",
      "625it [01:44,  6.02it/s]\n",
      "625it [01:45,  6.10it/s]\n",
      "0it [00:00, ?it/s]"
     ]
    },
    {
     "name": "stdout",
     "output_type": "stream",
     "text": [
      "epoch 190/300, loss 5.6922, norm 0.2195, predict bleu: 0.0000, time 105.319s, since 5h 35m 16s\n",
      "我的家乡是一个美丽的地方，人们的生命是那么美丽，那么美丽。人们的喜欢夏天，人们都在为自己的明天而奋斗。\n"
     ]
    },
    {
     "name": "stderr",
     "output_type": "stream",
     "text": [
      "625it [01:45,  6.00it/s]\n",
      "625it [01:45,  5.93it/s]\n",
      "625it [01:45,  6.01it/s]\n",
      "625it [01:45,  5.99it/s]\n",
      "625it [01:45,  6.10it/s]\n",
      "0it [00:00, ?it/s]"
     ]
    },
    {
     "name": "stdout",
     "output_type": "stream",
     "text": [
      "epoch 195/300, loss 5.6918, norm 0.2252, predict bleu: 0.0000, time 105.126s, since 5h 44m 3s\n",
      "我的家乡在这里，它是那么美丽，那么美丽，那么美丽，那么美丽。它是那么美丽，那么美丽，那么美丽。它是那么美丽，那么美丽。它的美丽的美丽，美丽的景色。\n"
     ]
    },
    {
     "name": "stderr",
     "output_type": "stream",
     "text": [
      "625it [01:44,  6.05it/s]\n",
      "625it [01:44,  5.88it/s]\n",
      "625it [01:46,  6.11it/s]\n",
      "625it [01:44,  6.10it/s]\n",
      "625it [01:45,  6.01it/s]\n",
      "0it [00:00, ?it/s]"
     ]
    },
    {
     "name": "stdout",
     "output_type": "stream",
     "text": [
      "epoch 200/300, loss 5.6911, norm 0.2162, predict bleu: 0.0000, time 105.403s, since 5h 52m 49s\n",
      "我的家乡在这里，它是那么的美丽，它是那么美丽，那么美丽，那么美丽，那么美丽。它是那么美丽，那么美丽。它是那么美丽，那么美丽。\n"
     ]
    },
    {
     "name": "stderr",
     "output_type": "stream",
     "text": [
      "625it [01:45,  6.04it/s]\n",
      "625it [01:45,  6.05it/s]\n",
      "625it [01:45,  5.91it/s]\n",
      "625it [01:45,  6.22it/s]\n",
      "625it [01:46,  6.17it/s]\n",
      "0it [00:00, ?it/s]"
     ]
    },
    {
     "name": "stdout",
     "output_type": "stream",
     "text": [
      "epoch 205/300, loss 5.6902, norm 0.2169, predict bleu: 0.0000, time 106.129s, since 6h 1m 37s\n",
      "我的家乡是一个美丽的地方，人们在这里的人们也在为人们的“美丽”的夏天。在这本书中，人们都在为人们的“学习”。\n"
     ]
    },
    {
     "name": "stderr",
     "output_type": "stream",
     "text": [
      "625it [01:45,  5.93it/s]\n",
      "625it [01:45,  5.93it/s]\n",
      "625it [01:45,  5.67it/s]\n",
      "625it [01:45,  5.89it/s]\n",
      "625it [01:44,  5.94it/s]\n",
      "0it [00:00, ?it/s]"
     ]
    },
    {
     "name": "stdout",
     "output_type": "stream",
     "text": [
      "epoch 210/300, loss 5.6898, norm 0.1985, predict bleu: 0.0000, time 104.709s, since 6h 10m 23s\n",
      "我的家乡是一个美丽的地方，人们在这里的人们都在为人们的“学习”。人们在这里的人们也在为人们的奥林匹克。\n"
     ]
    },
    {
     "name": "stderr",
     "output_type": "stream",
     "text": [
      "625it [01:45,  6.17it/s]\n",
      "625it [01:44,  6.02it/s]\n",
      "625it [01:44,  6.00it/s]\n",
      "625it [01:45,  6.06it/s]\n",
      "625it [01:45,  6.18it/s]\n",
      "0it [00:00, ?it/s]"
     ]
    },
    {
     "name": "stdout",
     "output_type": "stream",
     "text": [
      "epoch 215/300, loss 5.6892, norm 0.2304, predict bleu: 0.0000, time 105.019s, since 6h 19m 9s\n",
      "我的家乡是一个美丽的地方，人们在这里的人们也在为人们的美丽，它也在人们的心中，它的美丽，让人们的人们都很美丽。\n"
     ]
    },
    {
     "name": "stderr",
     "output_type": "stream",
     "text": [
      "625it [01:44,  5.98it/s]\n",
      "625it [01:44,  6.17it/s]\n",
      "625it [01:44,  5.91it/s]\n",
      "625it [01:45,  6.03it/s]\n",
      "625it [01:45,  5.71it/s]\n",
      "0it [00:00, ?it/s]"
     ]
    },
    {
     "name": "stdout",
     "output_type": "stream",
     "text": [
      "epoch 220/300, loss 5.6887, norm 0.2257, predict bleu: 0.0000, time 105.673s, since 6h 27m 54s\n",
      "我的家乡在这里，它是一个美丽的地方。它是一个美丽的季节。它的生命是一个美丽的。它的，是它的伟大。它的美丽，它的美丽，它的美丽。\n"
     ]
    },
    {
     "name": "stderr",
     "output_type": "stream",
     "text": [
      "625it [01:45,  5.92it/s]\n",
      "625it [01:45,  5.99it/s]\n",
      "625it [01:45,  5.89it/s]\n",
      "625it [01:45,  6.05it/s]\n",
      "625it [01:45,  6.05it/s]\n",
      "0it [00:00, ?it/s]"
     ]
    },
    {
     "name": "stdout",
     "output_type": "stream",
     "text": [
      "epoch 225/300, loss 5.6880, norm 0.2245, predict bleu: 0.0000, time 105.404s, since 6h 36m 42s\n",
      "我的家乡在这里，它是那么的美丽，它是人们的一部分，它是一个美丽的地方，它是一个美丽的季节，它是一个美丽的季节。\n"
     ]
    },
    {
     "name": "stderr",
     "output_type": "stream",
     "text": [
      "625it [01:45,  6.13it/s]\n",
      "625it [01:45,  6.09it/s]\n",
      "625it [01:45,  5.94it/s]\n",
      "625it [01:44,  6.23it/s]\n",
      "625it [01:45,  5.97it/s]\n",
      "0it [00:00, ?it/s]"
     ]
    },
    {
     "name": "stdout",
     "output_type": "stream",
     "text": [
      "epoch 230/300, loss 5.6873, norm 0.2111, predict bleu: 0.0000, time 105.276s, since 6h 45m 29s\n",
      "我的家乡是一个美丽的地方，人们的生命是那么的，它的人们都是在人们的身上，它的生命也是一个美丽的季节。它的美丽很美丽，它很美丽，人们都很喜欢它。\n"
     ]
    },
    {
     "name": "stderr",
     "output_type": "stream",
     "text": [
      "625it [01:45,  5.92it/s]\n",
      "625it [01:45,  5.91it/s]\n",
      "625it [01:45,  5.93it/s]\n",
      "625it [01:45,  6.03it/s]\n",
      "625it [01:45,  6.03it/s]\n",
      "0it [00:00, ?it/s]"
     ]
    },
    {
     "name": "stdout",
     "output_type": "stream",
     "text": [
      "epoch 235/300, loss 5.6870, norm 0.2233, predict bleu: 0.0000, time 105.440s, since 6h 54m 16s\n",
      "我的家乡是一个美丽的地方，人们的生命是那么的美丽，人们都是人们的生命。\n"
     ]
    },
    {
     "name": "stderr",
     "output_type": "stream",
     "text": [
      "625it [01:45,  5.88it/s]\n",
      "625it [01:45,  5.87it/s]\n",
      "625it [01:45,  5.98it/s]\n",
      "625it [01:45,  5.84it/s]\n",
      "625it [01:44,  5.92it/s]\n",
      "0it [00:00, ?it/s]"
     ]
    },
    {
     "name": "stdout",
     "output_type": "stream",
     "text": [
      "epoch 240/300, loss 5.6863, norm 0.1964, predict bleu: 0.0000, time 104.842s, since 7h 3m 2s\n",
      "我的家乡在这里，它是一个美丽的地方。它的生命是美丽的，它是人们的，它是一个美丽的，它是人们的生命，它是人们的美，它是人们的美，它是人们的伟大，它是一个美丽的地方，它是人们的伟大，它的美丽，它的美丽。\n"
     ]
    },
    {
     "name": "stderr",
     "output_type": "stream",
     "text": [
      "625it [01:45,  5.87it/s]\n",
      "625it [01:45,  5.84it/s]\n",
      "625it [01:45,  6.15it/s]\n",
      "625it [01:45,  6.26it/s]\n",
      "625it [01:44,  6.16it/s]\n",
      "0it [00:00, ?it/s]"
     ]
    },
    {
     "name": "stdout",
     "output_type": "stream",
     "text": [
      "epoch 245/300, loss 5.6859, norm 0.2031, predict bleu: 0.0000, time 104.850s, since 7h 11m 50s\n",
      "我的家乡在这里，它的美丽很美丽，它的美丽很美丽，它很美丽，人们很美丽，它很美丽，它很美丽，它很美丽，它很美丽，它很美丽，它很美丽，但它很美丽，但它却很美丽。\n"
     ]
    },
    {
     "name": "stderr",
     "output_type": "stream",
     "text": [
      "625it [01:44,  5.99it/s]\n",
      "625it [01:44,  5.97it/s]\n",
      "625it [01:44,  6.12it/s]\n",
      "625it [01:45,  5.80it/s]\n",
      "625it [01:45,  6.01it/s]\n",
      "0it [00:00, ?it/s]"
     ]
    },
    {
     "name": "stdout",
     "output_type": "stream",
     "text": [
      "epoch 250/300, loss 5.6848, norm 0.1929, predict bleu: 0.0000, time 105.533s, since 7h 20m 35s\n",
      "我的家乡在这里，它的美丽很美丽，它很美丽，人们都很喜欢它。它的生命是那么美丽，它是人们的伟大，它的美丽，它的美丽，它的美丽，它的美丽，它的美丽，它的美丽。\n"
     ]
    },
    {
     "name": "stderr",
     "output_type": "stream",
     "text": [
      "625it [01:44,  5.88it/s]\n",
      "625it [01:45,  5.76it/s]\n",
      "625it [01:45,  5.90it/s]\n",
      "625it [01:45,  6.13it/s]\n",
      "625it [01:45,  5.60it/s]\n",
      "0it [00:00, ?it/s]"
     ]
    },
    {
     "name": "stdout",
     "output_type": "stream",
     "text": [
      "epoch 255/300, loss 5.6846, norm 0.2261, predict bleu: 0.0000, time 105.671s, since 7h 29m 22s\n",
      "我的家乡在这里，它的生命是那么美丽，那么美丽，那么美丽。它是那么美丽，那么美丽。它的美丽，它的美丽，它的美丽，它的美丽，它的美丽，它的美丽，它的美丽，它的美丽，它的美丽，它的美丽，它的美丽，它的美丽，它的美丽，它的美丽，它的美丽，它的美丽，它的美丽，它的美丽，它\n"
     ]
    },
    {
     "name": "stderr",
     "output_type": "stream",
     "text": [
      "625it [01:45,  6.16it/s]\n",
      "625it [01:45,  5.78it/s]\n",
      "625it [01:45,  5.99it/s]\n",
      "625it [01:45,  5.99it/s]\n",
      "625it [01:44,  6.19it/s]\n",
      "0it [00:00, ?it/s]"
     ]
    },
    {
     "name": "stdout",
     "output_type": "stream",
     "text": [
      "epoch 260/300, loss 5.6844, norm 0.2512, predict bleu: 0.0000, time 104.807s, since 7h 38m 10s\n",
      "我的家乡在这里，它的美丽很美，有的像美丽的；有的像雪，有的像美丽的景色。\n"
     ]
    },
    {
     "name": "stderr",
     "output_type": "stream",
     "text": [
      "625it [01:45,  5.99it/s]\n",
      "625it [01:46,  6.04it/s]\n",
      "625it [01:45,  6.04it/s]\n",
      "625it [01:45,  5.89it/s]\n",
      "625it [01:46,  5.91it/s]\n",
      "0it [00:00, ?it/s]"
     ]
    },
    {
     "name": "stdout",
     "output_type": "stream",
     "text": [
      "epoch 265/300, loss 5.6835, norm 0.2235, predict bleu: 0.0000, time 106.055s, since 7h 46m 59s\n",
      "我的家乡在这里，它的美丽很美丽。它的生命是那么美丽，那么美丽，那么美丽。它是那么美丽，那么美丽。它的生命是那么美丽，那么美丽。\n"
     ]
    },
    {
     "name": "stderr",
     "output_type": "stream",
     "text": [
      "625it [01:45,  5.89it/s]\n",
      "625it [01:45,  5.75it/s]\n",
      "625it [01:45,  6.22it/s]\n",
      "625it [01:45,  5.87it/s]\n",
      "625it [01:45,  5.89it/s]\n",
      "0it [00:00, ?it/s]"
     ]
    },
    {
     "name": "stdout",
     "output_type": "stream",
     "text": [
      "epoch 270/300, loss 5.6831, norm 0.2103, predict bleu: 0.0000, time 105.292s, since 7h 55m 46s\n",
      "我的家乡在一个美丽的地方，它在家里的时候，人们都在为人们的“美丽”的夏天来了。\n"
     ]
    },
    {
     "name": "stderr",
     "output_type": "stream",
     "text": [
      "625it [01:45,  5.80it/s]\n",
      "625it [01:45,  6.06it/s]\n",
      "625it [01:45,  6.13it/s]\n",
      "625it [01:44,  5.67it/s]\n",
      "625it [01:45,  5.89it/s]\n",
      "0it [00:00, ?it/s]"
     ]
    },
    {
     "name": "stdout",
     "output_type": "stream",
     "text": [
      "epoch 275/300, loss 5.6831, norm 0.2308, predict bleu: 0.0000, time 105.808s, since 8h 4m 33s\n",
      "我的家乡在一个美丽的地方，它是一个美丽的地方。它的生命是多么美丽，它是人们的伟大，它是一个美丽的地方，它是一个美丽的地方，它是一个美丽的地方。\n"
     ]
    },
    {
     "name": "stderr",
     "output_type": "stream",
     "text": [
      "625it [01:45,  6.03it/s]\n",
      "625it [01:45,  6.03it/s]\n",
      "625it [01:44,  5.96it/s]\n",
      "625it [01:44,  5.92it/s]\n",
      "625it [01:45,  5.80it/s]\n",
      "0it [00:00, ?it/s]"
     ]
    },
    {
     "name": "stdout",
     "output_type": "stream",
     "text": [
      "epoch 280/300, loss 5.6824, norm 0.2241, predict bleu: 0.0000, time 105.719s, since 8h 13m 19s\n",
      "我的家乡是一个美丽的地方，它是一个美丽的季节。它的生命是那么美丽，那么美丽。它是那样的美丽，它是那样美丽，那么美丽。它是那么美丽，那么美丽。\n"
     ]
    },
    {
     "name": "stderr",
     "output_type": "stream",
     "text": [
      "625it [01:45,  6.02it/s]\n",
      "625it [01:45,  5.94it/s]\n",
      "625it [01:45,  6.00it/s]\n",
      "625it [01:45,  5.83it/s]\n",
      "625it [01:45,  5.91it/s]\n",
      "0it [00:00, ?it/s]"
     ]
    },
    {
     "name": "stdout",
     "output_type": "stream",
     "text": [
      "epoch 285/300, loss 5.6821, norm 0.2213, predict bleu: 0.0000, time 105.515s, since 8h 22m 6s\n",
      "我的家乡是一个美丽的地方，它是一个美丽的地方，它是一个美丽的季节。它的美丽很美丽，它的美丽很美丽，它很美丽，它很美丽，它很美丽，它很美丽，但它很美丽，但它很美丽，但它很美丽，但它很美丽，但它很美丽，但它很美丽，但它很美丽，它很美丽，它很美丽，但它很美丽，但\n"
     ]
    },
    {
     "name": "stderr",
     "output_type": "stream",
     "text": [
      "625it [01:45,  6.15it/s]\n",
      "625it [01:45,  5.99it/s]\n",
      "625it [01:45,  5.88it/s]\n",
      "625it [01:45,  5.97it/s]\n",
      "625it [01:45,  6.07it/s]\n",
      "0it [00:00, ?it/s]"
     ]
    },
    {
     "name": "stdout",
     "output_type": "stream",
     "text": [
      "epoch 290/300, loss 5.6809, norm 0.2413, predict bleu: 0.0000, time 105.219s, since 8h 30m 54s\n",
      "我的家乡在这里，它的美丽的。它像一个美丽的大，像一把把它的大眼睛，让人们人们都喜欢它。它的生命是多么美丽，它是多么美丽的。\n"
     ]
    },
    {
     "name": "stderr",
     "output_type": "stream",
     "text": [
      "625it [01:45,  5.97it/s]\n",
      "625it [01:45,  5.95it/s]\n",
      "625it [01:45,  5.97it/s]\n",
      "625it [01:45,  5.79it/s]\n",
      "625it [01:44,  5.94it/s]\n",
      "0it [00:00, ?it/s]"
     ]
    },
    {
     "name": "stdout",
     "output_type": "stream",
     "text": [
      "epoch 295/300, loss 5.6810, norm 0.2288, predict bleu: 0.0000, time 104.904s, since 8h 39m 41s\n",
      "我的家乡是一个美丽的地方，它的人们有一个地方，它很美丽，它很美丽，它很美丽，它很美丽，它很美丽，它很美丽，它很美丽，它很美丽，它很美丽，它很美丽，它很美丽，它很美丽，它很美丽，它很美丽，它很美丽，它很美丽，它很美丽，它很美丽，它很美丽，它很美丽，它很美丽，\n"
     ]
    },
    {
     "name": "stderr",
     "output_type": "stream",
     "text": [
      "625it [01:45,  5.94it/s]\n",
      "625it [01:45,  5.74it/s]\n",
      "625it [01:45,  6.17it/s]\n",
      "625it [01:43,  6.10it/s]\n",
      "625it [01:42,  6.21it/s]\n"
     ]
    },
    {
     "name": "stdout",
     "output_type": "stream",
     "text": [
      "epoch 300/300, loss 5.6804, norm 0.2239, predict bleu: 0.0000, time 102.894s, since 8h 48m 24s\n",
      "我的家乡在我的身边，它的美丽很美丽，它很美丽，人们都是它的生日。它的美丽的美丽，它的美丽，它的美丽，它的美丽，它的美丽，它的美丽，它的美丽，它的美丽，它的美丽，它的美丽，它的美丽，让人们在这美丽的世界里。\n"
     ]
    }
   ],
   "source": [
    "since = time.time()\n",
    "for epoch in range(num_epoch):\n",
    "    start = time.time()\n",
    "    num, total_loss = 0, 0\n",
    "#     if epoch == 5000:\n",
    "#         optimizer.param_groups[0]['lr'] = lr * 0.1\n",
    "    data = tav_data_iterator(\n",
    "        corpus_indice, topics_indice, batch_size, max(length) + 1)\n",
    "#     hidden = model.module.init_hidden(num_layers, batch_size, hidden_dim)\n",
    "    weight = torch.ones(len(vocab))\n",
    "    weight[0] = 0\n",
    "    for X, Y, mask, topics in tqdm(data):\n",
    "        num += 1\n",
    "#         hidden.detach_()\n",
    "        if use_gpu:\n",
    "            #             X = X.to(device)\n",
    "            Y = Y.to(device)\n",
    "            mask = mask.to(device)\n",
    "#             topics = topics.to(device)\n",
    "#             hidden = hidden.to(device)\n",
    "            weight = weight.to(device)\n",
    "        optimizer.zero_grad()\n",
    "#         output, hidden = model(X, topics, hidden)\n",
    "        output, hidden = model(X, topics)\n",
    "        hidden.detach_()\n",
    "#         l = F.cross_entropy(output, Y.t().reshape((-1,)), weight)\n",
    "        l, _ = adaptive_softmax(output, Y.t().reshape((-1,)))\n",
    "        loss = -l.reshape((-1, batch_size)).t() * mask\n",
    "        loss = loss.sum(dim=1) / mask.sum(dim=1)\n",
    "        loss = loss.mean()\n",
    "        loss.backward()\n",
    "        norm = nn.utils.clip_grad_norm_(model.parameters(), 1e-2)\n",
    "        optimizer.step()\n",
    "        total_loss += loss.item()\n",
    "        params = model.state_dict()\n",
    "        params['attn.weight'].clamp_(1)\n",
    "    end = time.time()\n",
    "    s = end - since\n",
    "    h = math.floor(s / 3600)\n",
    "    m = s - h * 3600\n",
    "    m = math.floor(m / 60)\n",
    "    s -= (m * 60 + h * 3600)\n",
    "    if((epoch + 1) % verbose == 0) or (epoch == (num_epoch - 1)):\n",
    "        bleu_score = 0\n",
    "#         for i in range(len(corpus_test)):\n",
    "#             doc = corpus_test[i]\n",
    "#             _, pred = predict_rnn([idx_to_word[x] for x in topics_test[0]],\n",
    "#                                   100, model, device, idx_to_word, word_to_idx)\n",
    "#             bleu_score += bleu([idx_to_word[int(x)] for x in pred],\n",
    "#                                [idx_to_word[x] for x in doc if x not in [0, 2]], k=2)\n",
    "        print('epoch %d/%d, loss %.4f, norm %.4f, predict bleu: %.4f, time %.3fs, since %dh %dm %ds'\n",
    "              % (epoch + 1, num_epoch, total_loss / num, norm, bleu_score / 800, end - start, h, m, s))\n",
    "        print(predict_rnn_ada(['人们', '看看', '展示', '美丽', '夏天'],\n",
    "                              100, model, idx_to_word, word_to_idx)[0])"
   ]
  },
  {
   "cell_type": "code",
   "execution_count": 15,
   "metadata": {
    "ExecuteTime": {
     "end_time": "2018-11-21T19:18:12.187542Z",
     "start_time": "2018-11-21T19:17:04.153224Z"
    }
   },
   "outputs": [],
   "source": [
    "bleu_score = 0\n",
    "for i in range(len(corpus_test)):\n",
    "    doc = corpus_test[i]\n",
    "    _, pred = predict_rnn_ada([idx_to_word[x] for x in topics_test[0]],\n",
    "                              100, model, idx_to_word, word_to_idx)\n",
    "    bleu_score += bleu([idx_to_word[int(x)] for x in pred],\n",
    "                       [idx_to_word[x] for x in doc if x not in [0, 2]], k=2)"
   ]
  },
  {
   "cell_type": "code",
   "execution_count": 16,
   "metadata": {
    "ExecuteTime": {
     "end_time": "2018-11-21T19:18:12.264020Z",
     "start_time": "2018-11-21T19:18:12.189798Z"
    }
   },
   "outputs": [
    {
     "data": {
      "text/plain": [
       "'我的爸爸很高兴，我很喜欢他。他很高兴，我很喜欢看。他很高兴，我很喜欢他。他说：“你是个好学生，我要学习学习。”'"
      ]
     },
     "execution_count": 16,
     "metadata": {},
     "output_type": "execute_result"
    }
   ],
   "source": [
    "predict_rnn_ada(['小朋友', '学习', '英语', '分数', '<PAD>'], 100, model, idx_to_word, word_to_idx)[0]"
   ]
  },
  {
   "cell_type": "code",
   "execution_count": 17,
   "metadata": {
    "ExecuteTime": {
     "end_time": "2018-11-21T19:18:12.268458Z",
     "start_time": "2018-11-21T19:18:12.265419Z"
    }
   },
   "outputs": [
    {
     "name": "stdout",
     "output_type": "stream",
     "text": [
      "我的妈妈是个“小金鱼”的“小”。妈妈说：“妈妈，我是一个好的。”妈妈说：“你是个好的。”妈妈说：“你是谁的吗？”\n"
     ]
    }
   ],
   "source": [
    "print(''.join([idx_to_word[x] for x in pred]))"
   ]
  },
  {
   "cell_type": "code",
   "execution_count": 18,
   "metadata": {
    "ExecuteTime": {
     "end_time": "2018-11-21T19:18:12.272959Z",
     "start_time": "2018-11-21T19:18:12.269902Z"
    }
   },
   "outputs": [
    {
     "name": "stdout",
     "output_type": "stream",
     "text": [
      "音乐 节目 兴奋 响起 小手\n"
     ]
    }
   ],
   "source": [
    "print(' '.join([idx_to_word[x] for x in topics_test[len(topics_test) - 1]]))"
   ]
  }
 ],
 "metadata": {
  "kernelspec": {
   "display_name": "torch",
   "language": "python",
   "name": "torch"
  },
  "language_info": {
   "codemirror_mode": {
    "name": "ipython",
    "version": 3
   },
   "file_extension": ".py",
   "mimetype": "text/x-python",
   "name": "python",
   "nbconvert_exporter": "python",
   "pygments_lexer": "ipython3",
   "version": "3.7.5"
  }
 },
 "nbformat": 4,
 "nbformat_minor": 2
}
