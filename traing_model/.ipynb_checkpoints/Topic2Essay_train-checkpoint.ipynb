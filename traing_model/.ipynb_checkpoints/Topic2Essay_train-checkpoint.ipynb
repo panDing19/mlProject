{
 "cells": [
  {
   "cell_type": "code",
   "execution_count": null,
   "metadata": {
    "ExecuteTime": {
     "end_time": "2018-11-02T07:55:43.311494Z",
     "start_time": "2018-11-02T07:55:42.580411Z"
    }
   },
   "outputs": [],
   "source": [
    "import gensim\n",
    "from gensim.models import KeyedVectors\n",
    "import numpy as np\n",
    "import torch\n",
    "from torch import nn, autograd, optim\n",
    "import torch.nn.functional as F\n",
    "import time\n",
    "from tqdm import tqdm\n",
    "import math"
   ]
  },
  {
   "cell_type": "code",
   "execution_count": 2,
   "metadata": {
    "ExecuteTime": {
     "end_time": "2018-11-02T07:56:37.350905Z",
     "start_time": "2018-11-02T07:55:43.314899Z"
    }
   },
   "outputs": [],
   "source": [
    "fvec = KeyedVectors.load_word2vec_format('vec.txt', binary=False)\n",
    "word_vec = fvec.vectors\n",
    "vocab = ['<PAD>', '<BOS>', '<EOS>', '<UNK>']\n",
    "vocab.extend(list(fvec.vocab.keys()))\n",
    "word_vec = np.concatenate((np.array([[0]*word_vec.shape[1]] * 4), word_vec))\n",
    "word_vec = torch.tensor(word_vec)"
   ]
  },
  {
   "cell_type": "code",
   "execution_count": 3,
   "metadata": {
    "ExecuteTime": {
     "end_time": "2018-11-02T07:56:37.433506Z",
     "start_time": "2018-11-02T07:56:37.354410Z"
    }
   },
   "outputs": [],
   "source": [
    "word_to_idx = {ch: i for i, ch in enumerate(vocab)}\n",
    "idx_to_word = {i: ch for i, ch in enumerate(vocab)}"
   ]
  },
  {
   "cell_type": "code",
   "execution_count": 4,
   "metadata": {
    "ExecuteTime": {
     "end_time": "2018-11-02T07:56:44.088005Z",
     "start_time": "2018-11-02T07:56:37.435650Z"
    }
   },
   "outputs": [],
   "source": [
    "essays = []\n",
    "topics = []\n",
    "with open('composition.txt', 'r') as f:\n",
    "    for line in f:\n",
    "        essay, topic = line.replace('\\n', '').split(' </d> ')\n",
    "        essays.append(essay.split(' '))\n",
    "        topics.append(topic.split(' '))"
   ]
  },
  {
   "cell_type": "code",
   "execution_count": 5,
   "metadata": {
    "ExecuteTime": {
     "end_time": "2018-11-02T07:56:44.192104Z",
     "start_time": "2018-11-02T07:56:44.089889Z"
    }
   },
   "outputs": [],
   "source": [
    "corpus_indice = list(map(lambda x: [word_to_idx[w] for w in x], essays[:8000]))\n",
    "topics_indice = list(map(lambda x: [word_to_idx[w] for w in x], topics[:8000]))"
   ]
  },
  {
   "cell_type": "code",
   "execution_count": 6,
   "metadata": {
    "ExecuteTime": {
     "end_time": "2018-11-02T07:56:44.203362Z",
     "start_time": "2018-11-02T07:56:44.194073Z"
    }
   },
   "outputs": [],
   "source": [
    "length = list(map(lambda x: len(x), corpus_indice))"
   ]
  },
  {
   "cell_type": "code",
   "execution_count": 7,
   "metadata": {
    "ExecuteTime": {
     "end_time": "2018-11-02T07:56:44.270493Z",
     "start_time": "2018-11-02T07:56:44.205440Z"
    }
   },
   "outputs": [],
   "source": [
    "def tav_data_iterator(corpus_indice, topics_indice, batch_size, num_steps):\n",
    "    epoch_size = len(corpus_indice) // batch_size\n",
    "    for i in range(epoch_size):\n",
    "        raw_data = corpus_indice[i*batch_size: (i+1)*batch_size]\n",
    "        key_words = topics_indice[i*batch_size: (i+1)*batch_size]\n",
    "        data = np.zeros((len(raw_data), num_steps+1), dtype=np.int64)\n",
    "        for i in range(batch_size):\n",
    "            doc = raw_data[i]\n",
    "            tmp = [1]\n",
    "            tmp.extend(doc)\n",
    "            tmp.extend([2])\n",
    "            tmp = np.array(tmp, dtype=np.int64)\n",
    "            _size = tmp.shape[0]\n",
    "            data[i][:_size] = tmp\n",
    "        key_words = np.array(key_words, dtype=np.int64)\n",
    "        x = data[:, 0:num_steps]\n",
    "        y = data[:, 1:]\n",
    "        mask = np.float32(x != 0)\n",
    "        x = torch.tensor(x)\n",
    "        y = torch.tensor(y)\n",
    "        mask = torch.tensor(mask)\n",
    "        key_words = torch.tensor(key_words)\n",
    "        yield(x, y, mask, key_words)"
   ]
  },
  {
   "cell_type": "code",
   "execution_count": 8,
   "metadata": {
    "ExecuteTime": {
     "end_time": "2018-11-02T07:56:44.337080Z",
     "start_time": "2018-11-02T07:56:44.273230Z"
    }
   },
   "outputs": [],
   "source": [
    "class TAVLSTM(nn.Module):\n",
    "    def __init__(self, hidden_dim, embed_dim, num_layers, weight,\n",
    "                 num_labels, bidirectional, dropout=0.5, **kwargs):\n",
    "        super(TAVLSTM, self).__init__(**kwargs)\n",
    "        self.hidden_dim = hidden_dim\n",
    "        self.embed_dim = embed_dim\n",
    "        self.num_layers = num_layers\n",
    "        self.num_labels = num_labels\n",
    "        self.bidirectional = bidirectional\n",
    "        if num_layers <= 1:\n",
    "            self.dropout = 0\n",
    "        else:\n",
    "            self.dropout = dropout\n",
    "        self.embedding = nn.Embedding.from_pretrained(weight)\n",
    "        self.embedding.weight.requires_grad = False\n",
    "        self.rnn = nn.GRU(input_size=self.embed_dim, hidden_size=self.hidden_dim,\n",
    "                          num_layers=self.num_layers, bidirectional=self.bidirectional,\n",
    "                          dropout=self.dropout)\n",
    "        if self.bidirectional:\n",
    "            self.decoder = nn.Linear(hidden_dim * 2, self.num_labels)\n",
    "        else:\n",
    "            self.decoder = nn.Linear(hidden_dim, self.num_labels)\n",
    "        \n",
    "    def forward(self, inputs, topics, hidden=None):\n",
    "        embeddings = self.embedding(inputs)\n",
    "        topics_embed = self.embedding(topics)\n",
    "        topics_embed = topics_embed.mean(dim=1)\n",
    "        for i in range(embeddings.shape[0]):\n",
    "            embeddings[i][0] = topics_embed[i]\n",
    "        states, hidden = self.rnn(embeddings.permute([1, 0, 2]).float(), hidden)\n",
    "        outputs = self.decoder(states.reshape((-1, states.shape[-1])))\n",
    "        return(outputs, hidden)\n",
    "    \n",
    "    def init_hidden(self, num_layers, batch_size, hidden_dim, **kwargs):\n",
    "        hidden = torch.zeros(num_layers, batch_size, hidden_dim)\n",
    "        return hidden"
   ]
  },
  {
   "cell_type": "code",
   "execution_count": 9,
   "metadata": {
    "ExecuteTime": {
     "end_time": "2018-11-02T07:56:44.428786Z",
     "start_time": "2018-11-02T07:56:44.339525Z"
    }
   },
   "outputs": [],
   "source": [
    "def predict_rnn(topics, num_chars, model, device, idx_to_word, word_to_idx):\n",
    "    output = [1]\n",
    "    topics = [word_to_idx[x] for x in topics]\n",
    "    topics = torch.tensor(topics)\n",
    "    hidden = torch.zeros(num_layers, 1, hidden_dim)\n",
    "    if use_gpu:\n",
    "        hidden = hidden.to(device)\n",
    "        topics = topics.to(device)\n",
    "#         hidden = hidden.cuda()\n",
    "#         topics = topics.cuda()\n",
    "    for t in range(num_chars):\n",
    "        X = torch.tensor(output).reshape((1, len(output)))\n",
    "        if use_gpu:\n",
    "            X = X.to(device)\n",
    "#             X = X.cuda()\n",
    "        pred, hidden = model(X, topics, hidden)\n",
    "        if pred.argmax(dim=1)[-1] == 2:\n",
    "            break\n",
    "        else:\n",
    "            output.append(int(pred.argmax(dim=1)[-1]))\n",
    "    return(''.join([idx_to_word[i] for i in output[1:]]))"
   ]
  },
  {
   "cell_type": "code",
   "execution_count": 10,
   "metadata": {
    "ExecuteTime": {
     "end_time": "2018-11-02T07:56:44.521171Z",
     "start_time": "2018-11-02T07:56:44.432331Z"
    }
   },
   "outputs": [],
   "source": [
    "embedding_dim = 300\n",
    "hidden_dim = 256\n",
    "lr = 1e2\n",
    "momentum = 0.0\n",
    "num_epoch = 100\n",
    "use_gpu = True\n",
    "num_layers = 1\n",
    "bidirectional = False\n",
    "batch_size = 8\n",
    "device = torch.device('cuda:0')\n",
    "loss_function = nn.CrossEntropyLoss()"
   ]
  },
  {
   "cell_type": "code",
   "execution_count": 11,
   "metadata": {
    "ExecuteTime": {
     "end_time": "2018-11-02T07:56:47.553468Z",
     "start_time": "2018-11-02T07:56:44.524349Z"
    }
   },
   "outputs": [],
   "source": [
    "model = TAVLSTM(hidden_dim=hidden_dim, embed_dim=embedding_dim, num_layers=num_layers,\n",
    "                num_labels=len(vocab), weight=word_vec, bidirectional=bidirectional)\n",
    "optimizer = optim.SGD(model.parameters(), lr=lr, momentum=momentum)\n",
    "if use_gpu:\n",
    "#     model = nn.DataParallel(model)\n",
    "    model.to(device)"
   ]
  },
  {
   "cell_type": "code",
   "execution_count": 12,
   "metadata": {
    "ExecuteTime": {
     "end_time": "2018-11-02T07:56:48.723129Z",
     "start_time": "2018-11-02T07:56:47.555372Z"
    },
    "scrolled": true
   },
   "outputs": [
    {
     "data": {
      "text/plain": [
       "'新欢开放王骞语句驱鬼盆向医术开关机锁于双生子开放泥土墙棕黄色王璐瑶人对祖了应消遥实际意义心爱陈若雨薄纱裙握手言和胶圈翻遍推逝染指王善哲审报狮园和辉实练教具战败断树不明时元时做害做害询询地转线询地转线询询地转线询地转线小王燕道德修养上趣上趣上趣上趣述诉上趣上趣述诉搭配着村谣述诉中数确立夺谢了恩车盘师才会内置毒奶道德败坏雪芊刚短短的个燥小器拒之门外夏虫咪对丧女之痛新欢开放略放林依轮玩鱼诱引金钢滆造完高脚千吨万语吴丝冰小福子书证出事开放父王揭瓦金钢滆造完'"
      ]
     },
     "execution_count": 12,
     "metadata": {},
     "output_type": "execute_result"
    }
   ],
   "source": [
    "predict_rnn(['妈妈', '希望', '长大', '孩子', '母爱'], 100, model, device, idx_to_word, word_to_idx)"
   ]
  },
  {
   "cell_type": "code",
   "execution_count": 13,
   "metadata": {
    "ExecuteTime": {
     "end_time": "2018-11-02T10:16:17.294727Z",
     "start_time": "2018-11-02T07:56:48.726329Z"
    },
    "scrolled": true
   },
   "outputs": [
    {
     "name": "stderr",
     "output_type": "stream",
     "text": [
      "1000it [01:21, 12.29it/s]\n",
      "2it [00:00, 11.76it/s]"
     ]
    },
    {
     "name": "stdout",
     "output_type": "stream",
     "text": [
      "epoch 1/100, loss 7.8234, norm 0.8318, time 81.356s, since 0h 1m 21s\n",
      "，\n"
     ]
    },
    {
     "name": "stderr",
     "output_type": "stream",
     "text": [
      "1000it [01:22, 12.10it/s]\n",
      "1000it [01:22, 12.16it/s]\n",
      "1000it [01:23, 12.28it/s]\n",
      "1000it [01:22, 12.13it/s]\n",
      "1000it [01:23, 12.12it/s]\n",
      "1000it [01:23, 11.64it/s]\n",
      "1000it [01:23, 12.38it/s]\n",
      "1000it [01:22, 12.17it/s]\n",
      "1000it [01:22, 12.00it/s]\n",
      "1000it [01:23, 11.93it/s]\n",
      "0it [00:00, ?it/s]"
     ]
    },
    {
     "name": "stdout",
     "output_type": "stream",
     "text": [
      "epoch 11/100, loss 5.0515, norm 0.7263, time 83.162s, since 0h 15m 12s\n",
      "，我要去寻找，我的心情，我要去看了。\n"
     ]
    },
    {
     "name": "stderr",
     "output_type": "stream",
     "text": [
      "1000it [01:22, 11.82it/s]\n",
      "1000it [01:23, 11.86it/s]\n",
      "1000it [01:22, 12.21it/s]\n",
      "1000it [01:22, 12.12it/s]\n",
      "1000it [01:22, 12.11it/s]\n",
      "1000it [01:22, 12.12it/s]\n",
      "1000it [01:22, 12.07it/s]\n",
      "1000it [01:22, 12.01it/s]\n",
      "1000it [01:23, 12.14it/s]\n",
      "1000it [01:22, 12.00it/s]\n",
      "2it [00:00, 12.03it/s]"
     ]
    },
    {
     "name": "stdout",
     "output_type": "stream",
     "text": [
      "epoch 21/100, loss 4.0981, norm 0.8440, time 82.996s, since 0h 29m 1s\n",
      "的。\n"
     ]
    },
    {
     "name": "stderr",
     "output_type": "stream",
     "text": [
      "1000it [01:22, 11.76it/s]\n",
      "1000it [01:23, 11.87it/s]\n",
      "1000it [01:22, 12.25it/s]\n",
      "1000it [01:22, 11.95it/s]\n",
      "1000it [01:23, 12.18it/s]\n",
      "1000it [01:24, 12.00it/s]\n",
      "1000it [01:23, 12.16it/s]\n",
      "1000it [01:23, 11.97it/s]\n",
      "1000it [01:23, 12.04it/s]\n",
      "1000it [01:24, 11.95it/s]\n"
     ]
    },
    {
     "name": "stdout",
     "output_type": "stream",
     "text": [
      "epoch 31/100, loss 3.6018, norm 1.0026, time 84.238s, since 0h 42m 57s\n"
     ]
    },
    {
     "name": "stderr",
     "output_type": "stream",
     "text": [
      "2it [00:00, 11.57it/s]"
     ]
    },
    {
     "name": "stdout",
     "output_type": "stream",
     "text": [
      "的地方。如果有机会，如果你会有机会，你就会遇到挫折，你会失去了你。”\n"
     ]
    },
    {
     "name": "stderr",
     "output_type": "stream",
     "text": [
      "1000it [01:24, 11.61it/s]\n",
      "1000it [01:24, 11.83it/s]\n",
      "1000it [01:23, 12.06it/s]\n",
      "1000it [01:23, 12.04it/s]\n",
      "1000it [01:23, 11.84it/s]\n",
      "1000it [01:23, 12.00it/s]\n",
      "1000it [01:23, 12.01it/s]\n",
      "1000it [01:23, 12.07it/s]\n",
      "1000it [01:23, 11.60it/s]\n",
      "1000it [01:23, 11.93it/s]\n"
     ]
    },
    {
     "name": "stdout",
     "output_type": "stream",
     "text": [
      "epoch 41/100, loss 3.3253, norm 1.2088, time 83.560s, since 0h 56m 55s\n"
     ]
    },
    {
     "name": "stderr",
     "output_type": "stream",
     "text": [
      "2it [00:00, 11.86it/s]"
     ]
    },
    {
     "name": "stdout",
     "output_type": "stream",
     "text": [
      "。如果你能看见你会说“你遇到什么事，就会有时间。”\n"
     ]
    },
    {
     "name": "stderr",
     "output_type": "stream",
     "text": [
      "1000it [01:23, 11.94it/s]\n",
      "1000it [01:23, 12.03it/s]\n",
      "1000it [01:23, 12.09it/s]\n",
      "1000it [01:23, 11.99it/s]\n",
      "1000it [01:23, 12.16it/s]\n",
      "1000it [01:24, 12.20it/s]\n",
      "1000it [01:24, 12.02it/s]\n",
      "1000it [01:24, 11.60it/s]\n",
      "1000it [01:24, 11.65it/s]\n",
      "1000it [01:23, 11.76it/s]\n",
      "0it [00:00, ?it/s]"
     ]
    },
    {
     "name": "stdout",
     "output_type": "stream",
     "text": [
      "epoch 51/100, loss 3.1635, norm 1.1696, time 83.969s, since 1h 10m 3655s\n",
      "。如果你有机会，我要珍惜时间。”\n"
     ]
    },
    {
     "name": "stderr",
     "output_type": "stream",
     "text": [
      "1000it [01:23, 11.67it/s]\n",
      "1000it [01:24, 11.84it/s]\n",
      "1000it [01:24, 11.95it/s]\n",
      "1000it [01:23, 11.84it/s]\n",
      "1000it [01:23, 12.04it/s]\n",
      "1000it [01:23, 11.91it/s]\n",
      "1000it [01:23, 11.44it/s]\n",
      "1000it [01:23, 11.99it/s]\n",
      "1000it [01:23, 11.91it/s]\n",
      "1000it [01:23, 12.07it/s]\n"
     ]
    },
    {
     "name": "stdout",
     "output_type": "stream",
     "text": [
      "epoch 61/100, loss 3.0867, norm 1.6841, time 83.741s, since 1h 24m 3654s\n"
     ]
    },
    {
     "name": "stderr",
     "output_type": "stream",
     "text": [
      "2it [00:00, 12.01it/s]"
     ]
    },
    {
     "name": "stdout",
     "output_type": "stream",
     "text": [
      "。如果你如果你来了，我就会遇到什么困难，你就会去尝试。\n"
     ]
    },
    {
     "name": "stderr",
     "output_type": "stream",
     "text": [
      "1000it [01:23, 11.68it/s]\n",
      "1000it [01:23, 11.66it/s]\n",
      "1000it [01:23, 12.13it/s]\n",
      "1000it [01:23, 12.10it/s]\n",
      "1000it [01:23, 11.56it/s]\n",
      "1000it [01:23, 12.14it/s]\n",
      "1000it [01:24, 12.13it/s]\n",
      "1000it [01:23, 12.11it/s]\n",
      "1000it [01:23, 11.87it/s]\n",
      "1000it [01:23, 11.97it/s]\n"
     ]
    },
    {
     "name": "stdout",
     "output_type": "stream",
     "text": [
      "epoch 71/100, loss 3.1119, norm 4.3726, time 83.946s, since 1h 38m 3653s\n"
     ]
    },
    {
     "name": "stderr",
     "output_type": "stream",
     "text": [
      "2it [00:00, 12.17it/s]"
     ]
    },
    {
     "name": "stdout",
     "output_type": "stream",
     "text": [
      "。如果你能看见你的朋友之间，你会在你面前的你会生气地对你说：“你一定会开花，所以我要珍惜，爱护你们的。”\n"
     ]
    },
    {
     "name": "stderr",
     "output_type": "stream",
     "text": [
      "1000it [01:24, 12.23it/s]\n",
      "1000it [01:24, 11.93it/s]\n",
      "1000it [01:23, 12.19it/s]\n",
      "1000it [01:23, 11.42it/s]\n",
      "1000it [01:24, 11.99it/s]\n",
      "1000it [01:24, 11.73it/s]\n",
      "1000it [01:23, 12.04it/s]\n",
      "1000it [01:24, 11.41it/s]\n",
      "1000it [01:23, 11.90it/s]\n",
      "1000it [01:24, 11.91it/s]\n"
     ]
    },
    {
     "name": "stdout",
     "output_type": "stream",
     "text": [
      "epoch 81/100, loss 3.3210, norm 3.7118, time 84.119s, since 1h 52m 3653s\n"
     ]
    },
    {
     "name": "stderr",
     "output_type": "stream",
     "text": [
      "2it [00:00, 11.47it/s]"
     ]
    },
    {
     "name": "stdout",
     "output_type": "stream",
     "text": [
      "。如果你看你会发现你，你就会在你面前炫耀，你一定会在你面前炫耀。\n"
     ]
    },
    {
     "name": "stderr",
     "output_type": "stream",
     "text": [
      "1000it [01:23, 11.95it/s]\n",
      "1000it [01:24, 11.53it/s]\n",
      "1000it [01:23, 12.00it/s]\n",
      "1000it [01:24, 12.03it/s]\n",
      "1000it [01:23, 12.05it/s]\n",
      "1000it [01:23, 12.04it/s]\n",
      "1000it [01:23, 12.15it/s]\n",
      "1000it [01:24, 11.44it/s]\n",
      "1000it [01:24, 12.07it/s]\n",
      "1000it [01:23, 11.98it/s]\n"
     ]
    },
    {
     "name": "stdout",
     "output_type": "stream",
     "text": [
      "epoch 91/100, loss 3.7038, norm 13.2962, time 83.470s, since 2h 6m 7252s\n"
     ]
    },
    {
     "name": "stderr",
     "output_type": "stream",
     "text": [
      "\r",
      "0it [00:00, ?it/s]"
     ]
    },
    {
     "name": "stdout",
     "output_type": "stream",
     "text": [
      "。我终于到了，我的手上拿着一只袜子，有的耳朵，想，我想，长大了，我想，长大了，我想长大了。\n"
     ]
    },
    {
     "name": "stderr",
     "output_type": "stream",
     "text": [
      "1000it [01:23, 11.69it/s]\n",
      "1000it [01:23, 11.92it/s]\n",
      "1000it [01:24, 12.03it/s]\n",
      "1000it [01:23, 11.46it/s]\n",
      "1000it [01:23, 12.01it/s]\n",
      "1000it [01:23, 12.08it/s]\n",
      "1000it [01:23, 11.86it/s]\n",
      "1000it [01:23, 12.03it/s]\n",
      "1000it [01:23, 12.21it/s]\n"
     ]
    },
    {
     "name": "stdout",
     "output_type": "stream",
     "text": [
      "epoch 100/100, loss 5.3755, norm 407.2407, time 83.604s, since 2h 19m 7227s\n",
      "的教室里，在这个时候，我的哦！’，我的哦！啊！我的，像一面，活的眼泪。我感谢的是呀！我爱的，爱叶的天使，像一面的仙女，高高高，但她的是农民伯伯伯伯伯伯说：“孩子们，微笑”理解的，感谢的孩子们感谢的孩子们感谢感恩感恩感恩感恩感恩感恩感恩感恩感恩感恩感恩感恩感恩感恩感恩感恩感恩感恩\n"
     ]
    }
   ],
   "source": [
    "since = time.time()\n",
    "for epoch in range(num_epoch):\n",
    "    start = time.time()\n",
    "    num, total_loss = 0, 0\n",
    "#     if epoch == 5000:\n",
    "#         optimizer.param_groups[0]['lr'] = lr * 0.1\n",
    "    data = tav_data_iterator(corpus_indice, topics_indice, batch_size, max(length)+1)\n",
    "    hidden = model.init_hidden(num_layers, batch_size, hidden_dim)\n",
    "    weight = torch.ones(len(vocab))\n",
    "    weight[0] = 0\n",
    "    for X, Y, mask, topics in tqdm(data):\n",
    "        num += 1\n",
    "        hidden.detach_()\n",
    "        if use_gpu:\n",
    "            X = X.to(device)\n",
    "            Y = Y.to(device)\n",
    "            mask = mask.to(device)\n",
    "            topics = topics.to(device)\n",
    "            hidden = hidden.to(device)\n",
    "            weight = weight.to(device)\n",
    "#             X = X.cuda()\n",
    "#             Y = Y.cuda()\n",
    "#             mask = mask.cuda()\n",
    "#             topics = topics.cuda()\n",
    "#             hidden = hidden.cuda()\n",
    "        optimizer.zero_grad()\n",
    "        output, hidden = model(X, topics, hidden)\n",
    "        l = F.cross_entropy(output, Y.t().reshape((-1,)), weight)\n",
    "        l.backward()\n",
    "        norm = nn.utils.clip_grad_norm_(model.parameters(), 1e-2)\n",
    "        optimizer.step()\n",
    "        total_loss += l.item()\n",
    "    end = time.time()\n",
    "    s = end - since\n",
    "    h = math.floor(s / 3600)\n",
    "    m = s - h * 3600\n",
    "    m = math.floor(m / 60)\n",
    "    s -= m * 60\n",
    "    if(epoch % 10 == 0) or (epoch == (num_epoch - 1)):\n",
    "        print('epoch %d/%d, loss %.4f, norm %.4f, time %.3fs, since %dh %dm %ds'\n",
    "              %(epoch+1, num_epoch, total_loss / num, norm, end-start, h, m, s))\n",
    "        print(predict_rnn(['妈妈', '希望', '长大', '孩子', '母爱'], 100, model, device, idx_to_word, word_to_idx))"
   ]
  }
 ],
 "metadata": {
  "kernelspec": {
   "display_name": "Python 3",
   "language": "python",
   "name": "python3"
  },
  "language_info": {
   "codemirror_mode": {
    "name": "ipython",
    "version": 3
   },
   "file_extension": ".py",
   "mimetype": "text/x-python",
   "name": "python",
   "nbconvert_exporter": "python",
   "pygments_lexer": "ipython3",
   "version": "3.6.6"
  }
 },
 "nbformat": 4,
 "nbformat_minor": 2
}
