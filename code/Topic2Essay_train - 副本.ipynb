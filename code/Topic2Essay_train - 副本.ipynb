{
 "cells": [
  {
   "cell_type": "code",
   "execution_count": 1,
   "metadata": {
    "ExecuteTime": {
     "end_time": "2018-11-02T07:55:43.311494Z",
     "start_time": "2018-11-02T07:55:42.580411Z"
    }
   },
   "outputs": [],
   "source": [
    "import gensim\n",
    "from gensim.models import KeyedVectors\n",
    "import numpy as np\n",
    "import torch\n",
    "from torch import nn, autograd, optim\n",
    "import torch.nn.functional as F\n",
    "import time\n",
    "from tqdm import tqdm\n",
    "import math"
   ]
  },
  {
   "cell_type": "code",
   "execution_count": 3,
   "metadata": {
    "ExecuteTime": {
     "end_time": "2018-11-02T07:56:37.350905Z",
     "start_time": "2018-11-02T07:55:43.314899Z"
    }
   },
   "outputs": [],
   "source": [
    "fvec = KeyedVectors.load_word2vec_format('vec_100d.txt', binary=False)\n",
    "word_vec = fvec.vectors\n",
    "vocab = ['<PAD>', '<BOS>', '<EOS>', '<UNK>']\n",
    "vocab.extend(list(fvec.vocab.keys()))\n",
    "word_vec = np.concatenate((np.array([[0]*word_vec.shape[1]] * 4), word_vec))\n",
    "word_vec = torch.tensor(word_vec)"
   ]
  },
  {
   "cell_type": "code",
   "execution_count": 4,
   "metadata": {
    "ExecuteTime": {
     "end_time": "2018-11-02T07:56:37.433506Z",
     "start_time": "2018-11-02T07:56:37.354410Z"
    }
   },
   "outputs": [],
   "source": [
    "word_to_idx = {ch: i for i, ch in enumerate(vocab)}\n",
    "idx_to_word = {i: ch for i, ch in enumerate(vocab)}"
   ]
  },
  {
   "cell_type": "code",
   "execution_count": 6,
   "metadata": {
    "ExecuteTime": {
     "end_time": "2018-11-02T07:56:44.088005Z",
     "start_time": "2018-11-02T07:56:37.435650Z"
    },
    "scrolled": true
   },
   "outputs": [],
   "source": [
    "essays = []\n",
    "topics = []\n",
    "with open('composition.txt', 'r') as f:\n",
    "    for line in f:\n",
    "        essay, topic = line.replace('\\n', '').split(' </d> ')\n",
    "        words = essay.split(' ')\n",
    "        new_words = []\n",
    "        for word in words:\n",
    "            if word in word_to_idx:\n",
    "                new_words.append(word)\n",
    "            else:\n",
    "                for i in range(len(word)):\n",
    "                    new_words.append(word[i])\n",
    "        essays.append(new_words)\n",
    "        topics.append(topic.split(' '))"
   ]
  },
  {
   "cell_type": "code",
   "execution_count": 8,
   "metadata": {
    "ExecuteTime": {
     "end_time": "2018-11-02T07:56:44.192104Z",
     "start_time": "2018-11-02T07:56:44.089889Z"
    }
   },
   "outputs": [],
   "source": [
    "corpus_indice = list(map(lambda x: [word_to_idx[w] for w in x], essays[:8000]))\n",
    "topics_indice = list(map(lambda x: [word_to_idx[w] for w in x], topics[:8000]))"
   ]
  },
  {
   "cell_type": "code",
   "execution_count": 9,
   "metadata": {
    "ExecuteTime": {
     "end_time": "2018-11-02T07:56:44.203362Z",
     "start_time": "2018-11-02T07:56:44.194073Z"
    }
   },
   "outputs": [],
   "source": [
    "length = list(map(lambda x: len(x), corpus_indice))"
   ]
  },
  {
   "cell_type": "code",
   "execution_count": 10,
   "metadata": {
    "ExecuteTime": {
     "end_time": "2018-11-02T07:56:44.270493Z",
     "start_time": "2018-11-02T07:56:44.205440Z"
    }
   },
   "outputs": [],
   "source": [
    "def tav_data_iterator(corpus_indice, topics_indice, batch_size, num_steps):\n",
    "    epoch_size = len(corpus_indice) // batch_size\n",
    "    for i in range(epoch_size):\n",
    "        raw_data = corpus_indice[i*batch_size: (i+1)*batch_size]\n",
    "        key_words = topics_indice[i*batch_size: (i+1)*batch_size]\n",
    "        data = np.zeros((len(raw_data), num_steps+1), dtype=np.int64)\n",
    "        for i in range(batch_size):\n",
    "            doc = raw_data[i]\n",
    "            tmp = [1]\n",
    "            tmp.extend(doc)\n",
    "            tmp.extend([2])\n",
    "            tmp = np.array(tmp, dtype=np.int64)\n",
    "            _size = tmp.shape[0]\n",
    "            data[i][:_size] = tmp\n",
    "        key_words = np.array(key_words, dtype=np.int64)\n",
    "        x = data[:, 0:num_steps]\n",
    "        y = data[:, 1:]\n",
    "        mask = np.float32(x != 0)\n",
    "        x = torch.tensor(x)\n",
    "        y = torch.tensor(y)\n",
    "        mask = torch.tensor(mask)\n",
    "        key_words = torch.tensor(key_words)\n",
    "        yield(x, y, mask, key_words)"
   ]
  },
  {
   "cell_type": "code",
   "execution_count": 11,
   "metadata": {
    "ExecuteTime": {
     "end_time": "2018-11-02T07:56:44.337080Z",
     "start_time": "2018-11-02T07:56:44.273230Z"
    }
   },
   "outputs": [],
   "source": [
    "class TAVLSTM(nn.Module):\n",
    "    def __init__(self, hidden_dim, embed_dim, num_layers, weight,\n",
    "                 num_labels, bidirectional, dropout=0.5, **kwargs):\n",
    "        super(TAVLSTM, self).__init__(**kwargs)\n",
    "        self.hidden_dim = hidden_dim\n",
    "        self.embed_dim = embed_dim\n",
    "        self.num_layers = num_layers\n",
    "        self.num_labels = num_labels\n",
    "        self.bidirectional = bidirectional\n",
    "        if num_layers <= 1:\n",
    "            self.dropout = 0\n",
    "        else:\n",
    "            self.dropout = dropout\n",
    "        self.embedding = nn.Embedding.from_pretrained(weight)\n",
    "        self.embedding.weight.requires_grad = False\n",
    "        self.rnn = nn.GRU(input_size=self.embed_dim, hidden_size=self.hidden_dim,\n",
    "                          num_layers=self.num_layers, bidirectional=self.bidirectional,\n",
    "                          dropout=self.dropout)\n",
    "        if self.bidirectional:\n",
    "            self.decoder = nn.Linear(hidden_dim * 2, self.num_labels)\n",
    "        else:\n",
    "            self.decoder = nn.Linear(hidden_dim, self.num_labels)\n",
    "        \n",
    "    def forward(self, inputs, topics, hidden=None):\n",
    "        embeddings = self.embedding(inputs)\n",
    "        topics_embed = self.embedding(topics)\n",
    "        topics_embed = topics_embed.mean(dim=1)\n",
    "        for i in range(embeddings.shape[0]):\n",
    "            embeddings[i][0] = topics_embed[i]\n",
    "        states, hidden = self.rnn(embeddings.permute([1, 0, 2]).float(), hidden)\n",
    "        outputs = self.decoder(states.reshape((-1, states.shape[-1])))\n",
    "        return(outputs, hidden)\n",
    "    \n",
    "    def init_hidden(self, num_layers, batch_size, hidden_dim, **kwargs):\n",
    "        hidden = torch.zeros(num_layers, batch_size, hidden_dim)\n",
    "        return hidden"
   ]
  },
  {
   "cell_type": "code",
   "execution_count": 12,
   "metadata": {
    "ExecuteTime": {
     "end_time": "2018-11-02T07:56:44.428786Z",
     "start_time": "2018-11-02T07:56:44.339525Z"
    }
   },
   "outputs": [],
   "source": [
    "def predict_rnn(topics, num_chars, model, device, idx_to_word, word_to_idx):\n",
    "    output = [1]\n",
    "    topics = [word_to_idx[x] for x in topics]\n",
    "    topics = torch.tensor(topics)\n",
    "    hidden = torch.zeros(num_layers, 1, hidden_dim)\n",
    "    if use_gpu:\n",
    "        hidden = hidden.to(device)\n",
    "        topics = topics.to(device)\n",
    "#         hidden = hidden.cuda()\n",
    "#         topics = topics.cuda()\n",
    "    for t in range(num_chars):\n",
    "        X = torch.tensor(output).reshape((1, len(output)))\n",
    "        if use_gpu:\n",
    "            X = X.to(device)\n",
    "#             X = X.cuda()\n",
    "        pred, hidden = model(X, topics, hidden)\n",
    "        if pred.argmax(dim=1)[-1] == 2:\n",
    "            break\n",
    "        else:\n",
    "            output.append(int(pred.argmax(dim=1)[-1]))\n",
    "    return(''.join([idx_to_word[i] for i in output[1:]]))"
   ]
  },
  {
   "cell_type": "code",
   "execution_count": 13,
   "metadata": {
    "ExecuteTime": {
     "end_time": "2018-11-02T07:56:44.521171Z",
     "start_time": "2018-11-02T07:56:44.432331Z"
    }
   },
   "outputs": [],
   "source": [
    "embedding_dim = 300\n",
    "hidden_dim = 256\n",
    "lr = 1e2\n",
    "momentum = 0.0\n",
    "num_epoch = 50\n",
    "use_gpu = True\n",
    "num_layers = 1\n",
    "bidirectional = False\n",
    "batch_size = 1\n",
    "device = torch.device('cuda:0')\n",
    "loss_function = nn.CrossEntropyLoss()"
   ]
  },
  {
   "cell_type": "code",
   "execution_count": 14,
   "metadata": {
    "ExecuteTime": {
     "end_time": "2018-11-02T07:56:47.553468Z",
     "start_time": "2018-11-02T07:56:44.524349Z"
    },
    "scrolled": true
   },
   "outputs": [],
   "source": [
    "model = TAVLSTM(hidden_dim=hidden_dim, embed_dim=embedding_dim, num_layers=num_layers,\n",
    "                num_labels=len(vocab), weight=word_vec, bidirectional=bidirectional)\n",
    "optimizer = optim.SGD(model.parameters(), lr=lr, momentum=momentum)\n",
    "if use_gpu:\n",
    "#     model = nn.DataParallel(model)\n",
    "    model.to(device)"
   ]
  },
  {
   "cell_type": "code",
   "execution_count": 15,
   "metadata": {
    "ExecuteTime": {
     "end_time": "2018-11-02T07:56:48.723129Z",
     "start_time": "2018-11-02T07:56:47.555372Z"
    },
    "scrolled": true
   },
   "outputs": [
    {
     "data": {
      "text/plain": [
       "'钝化妖怪韩梓轩梦还在梦还在'"
      ]
     },
     "execution_count": 15,
     "metadata": {},
     "output_type": "execute_result"
    }
   ],
   "source": [
    "predict_rnn(['变形金刚', '三星级'], 5, model, device, idx_to_word, word_to_idx)"
   ]
  },
  {
   "cell_type": "code",
   "execution_count": 16,
   "metadata": {
    "ExecuteTime": {
     "end_time": "2018-11-02T10:16:17.294727Z",
     "start_time": "2018-11-02T07:56:48.726329Z"
    },
    "scrolled": true
   },
   "outputs": [
    {
     "name": "stderr",
     "output_type": "stream",
     "text": [
      "47it [00:01, 24.18it/s]\n"
     ]
    },
    {
     "name": "stdout",
     "output_type": "stream",
     "text": [
      "epoch 1/50, loss 10.2006, norm 1.5977, time 1.962s, since 0h 0m 1s\n"
     ]
    },
    {
     "name": "stderr",
     "output_type": "stream",
     "text": [
      "3it [00:00, 25.28it/s]"
     ]
    },
    {
     "name": "stdout",
     "output_type": "stream",
     "text": [
      "，，，，，，，，，，，，，，，，，，，，，，，，，，，，，，，，，，，，，，，，，，，，，，，，，，，，，，，，，，，，，，，，，，，，，，，，，，，，，，，，，，，，，，，，，，，，，，，，，，，，\n"
     ]
    },
    {
     "name": "stderr",
     "output_type": "stream",
     "text": [
      "47it [00:01, 24.76it/s]\n",
      "47it [00:01, 24.88it/s]\n",
      "47it [00:01, 24.93it/s]\n",
      "47it [00:01, 24.95it/s]\n",
      "47it [00:01, 24.92it/s]\n",
      "47it [00:01, 24.87it/s]\n",
      "47it [00:01, 24.88it/s]\n",
      "47it [00:01, 24.88it/s]\n",
      "47it [00:01, 24.80it/s]\n",
      "47it [00:01, 24.82it/s]\n"
     ]
    },
    {
     "name": "stdout",
     "output_type": "stream",
     "text": [
      "epoch 11/50, loss 3.8157, norm 2.3492, time 1.896s, since 0h 0m 21s\n"
     ]
    },
    {
     "name": "stderr",
     "output_type": "stream",
     "text": [
      "3it [00:00, 24.46it/s]"
     ]
    },
    {
     "name": "stdout",
     "output_type": "stream",
     "text": [
      "的童年记忆给了。。。。。。。。。。。。。。。。。。。。。。。。。。。。。。。。。。。。。。。。。。。。。。。。。。。。。。。。。。。。。。。。。。。。。。。。。。。。。。。。。。。。。。。。。。。。。。。\n"
     ]
    },
    {
     "name": "stderr",
     "output_type": "stream",
     "text": [
      "47it [00:01, 24.35it/s]\n",
      "47it [00:01, 24.56it/s]\n",
      "47it [00:01, 24.44it/s]\n",
      "47it [00:01, 24.43it/s]\n",
      "47it [00:01, 24.57it/s]\n",
      "47it [00:01, 24.59it/s]\n",
      "47it [00:01, 24.50it/s]\n",
      "47it [00:01, 24.57it/s]\n",
      "47it [00:01, 24.59it/s]\n",
      "47it [00:01, 24.62it/s]\n",
      "3it [00:00, 25.49it/s]"
     ]
    },
    {
     "name": "stdout",
     "output_type": "stream",
     "text": [
      "epoch 21/50, loss 1.1694, norm 1.8823, time 1.912s, since 0h 0m 41s\n",
      "不知道为什么我一看见机器人打架咯吱咯吱的就觉得各种治愈……\n"
     ]
    },
    {
     "name": "stderr",
     "output_type": "stream",
     "text": [
      "47it [00:01, 24.38it/s]\n",
      "47it [00:01, 24.49it/s]\n",
      "47it [00:01, 24.39it/s]\n",
      "47it [00:01, 24.39it/s]\n",
      "47it [00:01, 24.53it/s]\n",
      "47it [00:01, 24.44it/s]\n",
      "47it [00:01, 24.53it/s]\n",
      "47it [00:01, 24.45it/s]\n",
      "47it [00:01, 24.38it/s]\n",
      "47it [00:01, 24.53it/s]\n",
      "3it [00:00, 25.70it/s]"
     ]
    },
    {
     "name": "stdout",
     "output_type": "stream",
     "text": [
      "epoch 31/50, loss 0.4017, norm 0.7018, time 1.918s, since 0h 1m 0s\n",
      "不知道为什么我一看见机器人打架咯吱咯吱的就觉得各种治愈……\n"
     ]
    },
    {
     "name": "stderr",
     "output_type": "stream",
     "text": [
      "47it [00:01, 24.28it/s]\n",
      "47it [00:01, 24.34it/s]\n",
      "47it [00:01, 24.39it/s]\n",
      "47it [00:01, 24.06it/s]\n",
      "47it [00:01, 24.17it/s]\n",
      "47it [00:01, 24.09it/s]\n",
      "47it [00:01, 24.18it/s]\n",
      "47it [00:01, 24.27it/s]\n",
      "47it [00:01, 24.25it/s]\n",
      "47it [00:01, 24.15it/s]\n",
      "3it [00:00, 25.07it/s]"
     ]
    },
    {
     "name": "stdout",
     "output_type": "stream",
     "text": [
      "epoch 41/50, loss 0.2562, norm 0.2438, time 1.949s, since 0h 1m 20s\n",
      "不知道为什么我一看见机器人打架咯吱咯吱的就觉得各种治愈……\n"
     ]
    },
    {
     "name": "stderr",
     "output_type": "stream",
     "text": [
      "47it [00:01, 24.03it/s]\n",
      "47it [00:01, 24.16it/s]\n",
      "47it [00:01, 24.24it/s]\n",
      "47it [00:01, 24.27it/s]\n",
      "47it [00:01, 24.36it/s]\n",
      "47it [00:01, 24.20it/s]\n",
      "47it [00:01, 24.13it/s]\n",
      "47it [00:01, 24.36it/s]\n",
      "47it [00:01, 23.95it/s]"
     ]
    },
    {
     "name": "stdout",
     "output_type": "stream",
     "text": [
      "epoch 50/50, loss 0.2541, norm 0.2653, time 1.964s, since 0h 1m 37s\n",
      "不知道为什么我一看见机器人打架咯吱咯吱的就觉得各种治愈……\n"
     ]
    },
    {
     "name": "stderr",
     "output_type": "stream",
     "text": [
      "\n"
     ]
    }
   ],
   "source": [
    "since = time.time()\n",
    "for epoch in range(num_epoch):\n",
    "    start = time.time()\n",
    "    num, total_loss = 0, 0\n",
    "#     if epoch == 5000:\n",
    "#         optimizer.param_groups[0]['lr'] = lr * 0.1\n",
    "    data = tav_data_iterator(corpus_indice, topics_indice, batch_size, max(length)+1)\n",
    "    hidden = model.init_hidden(num_layers, batch_size, hidden_dim)\n",
    "    weight = torch.ones(len(vocab))\n",
    "    weight[0] = 0\n",
    "    for X, Y, mask, topics in tqdm(data):\n",
    "        num += 1\n",
    "        hidden.detach_()\n",
    "        if use_gpu:\n",
    "            X = X.to(device)\n",
    "            Y = Y.to(device)\n",
    "            mask = mask.to(device)\n",
    "            topics = topics.to(device)\n",
    "            hidden = hidden.to(device)\n",
    "            weight = weight.to(device)\n",
    "#             X = X.cuda()\n",
    "#             Y = Y.cuda()\n",
    "#             mask = mask.cuda()\n",
    "#             topics = topics.cuda()\n",
    "#             hidden = hidden.cuda()\n",
    "        optimizer.zero_grad()\n",
    "        output, hidden = model(X, topics, hidden)\n",
    "        l = F.cross_entropy(output, Y.t().reshape((-1,)), weight)\n",
    "        l.backward()\n",
    "        norm = nn.utils.clip_grad_norm_(model.parameters(), 1e-2)\n",
    "        optimizer.step()\n",
    "        total_loss += l.item()\n",
    "    end = time.time()\n",
    "    s = end - since\n",
    "    h = math.floor(s / 3600)\n",
    "    m = s - h * 3600\n",
    "    m = math.floor(m / 60)\n",
    "    s -= m * 60\n",
    "    if(epoch % 10 == 0) or (epoch == (num_epoch - 1)):\n",
    "        print('epoch %d/%d, loss %.4f, norm %.4f, time %.3fs, since %dh %dm %ds'\n",
    "              %(epoch+1, num_epoch, total_loss / num, norm, end-start, h, m, s))\n",
    "        print(predict_rnn(['变形金刚', '三星级'], 100, model, device, idx_to_word, word_to_idx))"
   ]
  },
  {
   "cell_type": "code",
   "execution_count": null,
   "metadata": {},
   "outputs": [],
   "source": []
  }
 ],
 "metadata": {
  "kernelspec": {
   "display_name": "torch",
   "language": "python",
   "name": "torch"
  },
  "language_info": {
   "codemirror_mode": {
    "name": "ipython",
    "version": 3
   },
   "file_extension": ".py",
   "mimetype": "text/x-python",
   "name": "python",
   "nbconvert_exporter": "python",
   "pygments_lexer": "ipython3",
   "version": "3.7.5"
  }
 },
 "nbformat": 4,
 "nbformat_minor": 2
}
