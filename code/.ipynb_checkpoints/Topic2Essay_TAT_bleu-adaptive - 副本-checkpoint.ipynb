{
 "cells": [
  {
   "cell_type": "code",
   "execution_count": 2,
   "metadata": {
    "ExecuteTime": {
     "end_time": "2018-11-21T10:28:03.326578Z",
     "start_time": "2018-11-21T10:28:02.633417Z"
    }
   },
   "outputs": [],
   "source": [
    "import gensim\n",
    "from gensim.models import KeyedVectors\n",
    "import numpy as np\n",
    "import torch\n",
    "from torch import nn, autograd, optim\n",
    "import torch.nn.functional as F\n",
    "from sru import SRU, SRUCell\n",
    "import time\n",
    "import math\n",
    "from tqdm import tqdm\n",
    "import collections\n",
    "import random"
   ]
  },
  {
   "cell_type": "code",
   "execution_count": 3,
   "metadata": {
    "ExecuteTime": {
     "end_time": "2018-11-21T10:28:22.862358Z",
     "start_time": "2018-11-21T10:28:03.331094Z"
    }
   },
   "outputs": [],
   "source": [
    "fvec = KeyedVectors.load_word2vec_format('vec_100d.txt', binary=False)\n",
    "word_vec = fvec.vectors\n",
    "vocab = ['<PAD>', '<BOS>', '<EOS>', '<UNK>']\n",
    "vocab.extend(list(fvec.vocab.keys()))\n",
    "word_vec = np.concatenate((np.array([[0]*word_vec.shape[1]] * 4), word_vec))\n",
    "word_vec = torch.tensor(word_vec).float()"
   ]
  },
  {
   "cell_type": "code",
   "execution_count": 4,
   "metadata": {
    "ExecuteTime": {
     "end_time": "2018-11-21T10:28:22.945147Z",
     "start_time": "2018-11-21T10:28:22.865910Z"
    }
   },
   "outputs": [],
   "source": [
    "word_to_idx = {ch: i for i, ch in enumerate(vocab)}\n",
    "idx_to_word = {i: ch for i, ch in enumerate(vocab)}"
   ]
  },
  {
   "cell_type": "code",
   "execution_count": 5,
   "metadata": {
    "ExecuteTime": {
     "end_time": "2018-11-21T10:28:34.852503Z",
     "start_time": "2018-11-21T10:28:22.947358Z"
    }
   },
   "outputs": [],
   "source": [
    "essays = []\n",
    "topics = []\n",
    "with open('composition.txt', 'r') as f:\n",
    "    for line in f:\n",
    "        essay, topic = line.replace('\\n', '').split(' </d> ')\n",
    "        words = essay.split(' ')\n",
    "        new_words = []\n",
    "        for word in words:\n",
    "            if word in word_to_idx:\n",
    "                new_words.append(word)\n",
    "            else:\n",
    "                for i in range(len(word)):\n",
    "                    new_words.append(word[i])\n",
    "        essays.append(new_words)\n",
    "        topics.append(topic.split(' '))"
   ]
  },
  {
   "cell_type": "code",
   "execution_count": 24,
   "metadata": {
    "ExecuteTime": {
     "end_time": "2018-11-21T10:28:36.634397Z",
     "start_time": "2018-11-21T10:28:34.854352Z"
    }
   },
   "outputs": [],
   "source": [
    "corpus_indice = list(map(lambda x: [word_to_idx[w] for w in x], essays[:80]))\n",
    "topics_indice = list(map(lambda x: [word_to_idx[w] for w in x], topics[:80]))\n",
    "corpus_test = list(map(lambda x: [word_to_idx[w] for w in x], essays[80:100]))\n",
    "topics_test = list(map(lambda x: [word_to_idx[w] for w in x], topics[80:100]))"
   ]
  },
  {
   "cell_type": "code",
   "execution_count": 25,
   "metadata": {
    "ExecuteTime": {
     "end_time": "2018-11-21T10:28:36.646993Z",
     "start_time": "2018-11-21T10:28:36.636026Z"
    }
   },
   "outputs": [],
   "source": [
    "length = list(map(lambda x: len(x), corpus_indice))"
   ]
  },
  {
   "cell_type": "code",
   "execution_count": 51,
   "metadata": {
    "ExecuteTime": {
     "end_time": "2018-11-21T10:28:36.656442Z",
     "start_time": "2018-11-21T10:28:36.648540Z"
    }
   },
   "outputs": [],
   "source": [
    "def tav_data_iterator(corpus_indice, topics_indice, batch_size, num_steps):\n",
    "    epoch_size = len(corpus_indice + batch_size - 1) // batch_size\n",
    "    for i in range(epoch_size):\n",
    "        raw_data = corpus_indice[i*batch_size: (i+1)*batch_size]\n",
    "        key_words = topics_indice[i*batch_size: (i+1)*batch_size]\n",
    "        data = np.zeros((len(raw_data), num_steps+1), dtype=np.int64)\n",
    "        for i in range(batch_size):\n",
    "            doc = raw_data[i]\n",
    "            tmp = [1]\n",
    "            tmp.extend(doc)\n",
    "            tmp.extend([2])\n",
    "            tmp = np.array(tmp, dtype=np.int64)\n",
    "            _size = tmp.shape[0]\n",
    "            data[i][:_size] = tmp\n",
    "        key_words = np.array(key_words, dtype=np.int64)\n",
    "        x = data[:, 0:num_steps]\n",
    "        y = data[:, 1:]\n",
    "        mask = np.float32(x != 0)\n",
    "        x = torch.tensor(x)\n",
    "        y = torch.tensor(y)\n",
    "        mask = torch.tensor(mask)\n",
    "        key_words = torch.tensor(key_words)\n",
    "        yield(x, y, mask, key_words)"
   ]
  },
  {
   "cell_type": "code",
   "execution_count": 41,
   "metadata": {
    "ExecuteTime": {
     "end_time": "2018-11-21T10:28:36.670973Z",
     "start_time": "2018-11-21T10:28:36.658108Z"
    }
   },
   "outputs": [],
   "source": [
    "class TATLSTM(nn.Module):\n",
    "    def __init__(self, hidden_dim, embed_dim, num_layers, weight,\n",
    "                 num_labels, bidirectional, dropout=0.5, **kwargs):\n",
    "        super(TATLSTM, self).__init__(**kwargs)\n",
    "        self.hidden_dim = hidden_dim\n",
    "        self.embed_dim = embed_dim\n",
    "        self.num_layers = num_layers\n",
    "        self.num_labels = num_labels\n",
    "        self.bidirectional = bidirectional\n",
    "        if num_layers <= 1:\n",
    "            self.dropout = 0\n",
    "        else:\n",
    "            self.dropout = dropout\n",
    "        self.embedding = nn.Embedding.from_pretrained(weight)\n",
    "        self.embedding.weight.requires_grad = False\n",
    "        self.rnn = nn.GRU(input_size=self.embed_dim, hidden_size=self.hidden_dim,\n",
    "                          num_layers=self.num_layers, bidirectional=self.bidirectional,\n",
    "                          dropout=self.dropout).to(device)\n",
    "        if self.bidirectional:\n",
    "            self.decoder = nn.Linear(\n",
    "                hidden_dim * 2 + self.embed_dim, 1000).to(device)\n",
    "        else:\n",
    "            self.decoder = nn.Linear(\n",
    "                hidden_dim + self.embed_dim, 1000).to(device)\n",
    "#         self.attn = nn.Linear(self.embed_dim * 5, self.embed_dim)\n",
    "        self.attn = nn.Linear(2, 1, bias=False)\n",
    "        self.attn.weight.data.fill_(1)\n",
    "        \n",
    "\n",
    "    def forward(self, inputs, topics, hidden=None):\n",
    "        embeddings = self.embedding(inputs).to(device)\n",
    "        topics_embed = self.embedding(topics)\n",
    "        topics_attn = torch.zeros(\n",
    "            topics_embed.shape[0], 1, self.embed_dim)\n",
    "        for i in range(len(topics_embed)):\n",
    "            topics_attn[i] = self.attn(topics_embed[i].t()).t()\n",
    "#         topics_attn = self.attn(topics_embed.reshape((topics_embed.shape[0], -1)))\n",
    "#         topics_attn.unsqueeze_(-1)\n",
    "        topics_attn = topics_attn.permute([0, 2, 1])\n",
    "        self.rnn.flatten_parameters()\n",
    "        if hidden is None:\n",
    "            states, hidden = self.rnn(embeddings.permute([1, 0, 2]))\n",
    "        else:\n",
    "            states, hidden = self.rnn(\n",
    "                embeddings.permute([1, 0, 2]), hidden)\n",
    "        topics_attn = topics_attn.expand(\n",
    "            topics_attn.shape[0], topics_attn.shape[1], states.shape[0])\n",
    "        topics_attn = topics_attn.permute([2, 0, 1]).to(device)\n",
    "        states_with_topic = torch.cat([states, topics_attn], dim=2)\n",
    "        outputs = self.decoder(states_with_topic.reshape(\n",
    "            (-1, states_with_topic.shape[-1])))\n",
    "        return(outputs, hidden)\n",
    "\n",
    "    def init_hidden(self, num_layers, batch_size, hidden_dim, **kwargs):\n",
    "        hidden = torch.zeros(num_layers, batch_size, hidden_dim)\n",
    "        return hidden"
   ]
  },
  {
   "cell_type": "code",
   "execution_count": 42,
   "metadata": {
    "ExecuteTime": {
     "end_time": "2018-11-21T10:28:36.678532Z",
     "start_time": "2018-11-21T10:28:36.672476Z"
    }
   },
   "outputs": [],
   "source": [
    "def predict_rnn_ada(topics, num_chars, model, idx_to_word, word_to_idx):\n",
    "    output = [1]\n",
    "    topics = [word_to_idx[x] for x in topics]\n",
    "    topics = torch.tensor(topics)\n",
    "    topics = topics.reshape((1, topics.shape[0]))\n",
    "    hidden = torch.zeros(num_layers, 1, hidden_dim)\n",
    "    if use_gpu:\n",
    "        hidden = hidden.to(device)\n",
    "        adaptive_softmax.to(device)\n",
    "#         topics = topics.to(device)\n",
    "    for t in range(num_chars):\n",
    "        X = torch.tensor(output[-1]).reshape((1, 1))\n",
    "#         X = torch.tensor(output).reshape((1, len(output)))\n",
    "#         if use_gpu:\n",
    "#             X = X.to(device)\n",
    "        pred, hidden = model(X, topics, hidden)\n",
    "        pred = adaptive_softmax.predict(pred)\n",
    "        if pred[-1] == 2:\n",
    "            break\n",
    "        else:\n",
    "            output.append(int(pred[-1]))\n",
    "#             output.append(int(pred.argmax(dim=1)[-1]))\n",
    "    return(''.join([idx_to_word[i] for i in output[1:]]), output[1:])"
   ]
  },
  {
   "cell_type": "code",
   "execution_count": 43,
   "metadata": {
    "ExecuteTime": {
     "end_time": "2018-11-21T10:28:36.686499Z",
     "start_time": "2018-11-21T10:28:36.682034Z"
    }
   },
   "outputs": [],
   "source": [
    "def bleu(pred_tokens, label_tokens, k):\n",
    "    len_pred, len_label = len(pred_tokens), len(label_tokens)\n",
    "    score = math.exp(min(0, 1 - len_label / len_pred))\n",
    "    for n in range(1, k+1):\n",
    "        num_matches = 0\n",
    "        for i in range(len_pred - n + 1):\n",
    "            if ' '.join(pred_tokens[i: i + n]) in ' '.join(label_tokens):\n",
    "                num_matches += 1\n",
    "        score *= math.pow(num_matches / (len_pred - n + 1), math.pow(0.5, n))\n",
    "    return score"
   ]
  },
  {
   "cell_type": "code",
   "execution_count": 57,
   "metadata": {
    "ExecuteTime": {
     "end_time": "2018-11-21T10:28:37.007828Z",
     "start_time": "2018-11-21T10:28:36.688409Z"
    }
   },
   "outputs": [],
   "source": [
    "embedding_dim = 300\n",
    "hidden_dim = 256\n",
    "lr = 1e2\n",
    "momentum = 0.1\n",
    "num_epoch = 300\n",
    "use_gpu = True\n",
    "num_layers = 1\n",
    "bidirectional = False\n",
    "batch_size = 1\n",
    "verbose = 5\n",
    "vocab_size = len(vocab)\n",
    "device = torch.device('cuda:0')\n",
    "loss_function = nn.CrossEntropyLoss()\n",
    "adaptive_softmax = nn.AdaptiveLogSoftmaxWithLoss(\n",
    "    1000, len(vocab), cutoffs=[round(vocab_size / 20), 4*round(vocab_size / 20)])"
   ]
  },
  {
   "cell_type": "code",
   "execution_count": 58,
   "metadata": {
    "ExecuteTime": {
     "end_time": "2018-11-21T10:28:39.295855Z",
     "start_time": "2018-11-21T10:28:37.009415Z"
    }
   },
   "outputs": [],
   "source": [
    "model = TATLSTM(hidden_dim=hidden_dim, embed_dim=embedding_dim, num_layers=num_layers,\n",
    "                num_labels=len(vocab), weight=word_vec, bidirectional=bidirectional)\n",
    "optimizer = optim.SGD(model.parameters(), lr=lr, momentum=momentum)\n",
    "# if use_gpu:\n",
    "#     model = nn.DataParallel(model)\n",
    "#     model.to(device)\n",
    "# optimizer = hvd.DistributedOptimizer(optimizer, named_parameters=model.named_parameters)\n",
    "# hvd.broadcast_parameters(model.state_dict(), root_rank=0)"
   ]
  },
  {
   "cell_type": "code",
   "execution_count": 59,
   "metadata": {
    "ExecuteTime": {
     "end_time": "2018-11-21T10:28:39.510395Z",
     "start_time": "2018-11-21T10:28:39.298668Z"
    },
    "scrolled": true
   },
   "outputs": [
    {
     "data": {
      "text/plain": [
       "'即便即便炒饭炒饭炒饭炒饭炒饭炒饭炒饭炒饭炒饭炒饭炒饭炒饭炒饭炒饭炒饭炒饭炒饭炒饭炒饭炒饭炒饭炒饭炒饭炒饭炒饭炒饭炒饭炒饭炒饭炒饭炒饭炒饭炒饭炒饭炒饭炒饭炒饭炒饭炒饭炒饭炒饭炒饭炒饭炒饭炒饭炒饭炒饭炒饭炒饭炒饭炒饭炒饭炒饭炒饭炒饭炒饭炒饭炒饭炒饭炒饭炒饭炒饭炒饭炒饭炒饭炒饭炒饭炒饭炒饭炒饭炒饭炒饭炒饭炒饭炒饭炒饭炒饭炒饭炒饭炒饭炒饭炒饭炒饭炒饭炒饭炒饭炒饭炒饭炒饭炒饭炒饭炒饭炒饭炒饭炒饭炒饭炒饭炒饭'"
      ]
     },
     "execution_count": 59,
     "metadata": {},
     "output_type": "execute_result"
    }
   ],
   "source": [
    "predict_rnn_ada(['变形金刚', '三星级'], 100, model, idx_to_word, word_to_idx)[0]"
   ]
  },
  {
   "cell_type": "code",
   "execution_count": 60,
   "metadata": {
    "ExecuteTime": {
     "end_time": "2018-11-21T19:17:04.151020Z",
     "start_time": "2018-11-21T10:28:39.512305Z"
    },
    "scrolled": false
   },
   "outputs": [
    {
     "name": "stderr",
     "output_type": "stream",
     "text": [
      "47it [00:00, 49.76it/s]\n",
      "47it [00:00, 53.37it/s]\n",
      "47it [00:00, 52.11it/s]\n",
      "47it [00:00, 52.21it/s]\n",
      "47it [00:00, 52.24it/s]\n"
     ]
    },
    {
     "name": "stdout",
     "output_type": "stream",
     "text": [
      "epoch 5/300, loss 6.6303, norm 1.1307, predict bleu: 0.0000, time 0.902s, since 0h 0m 4s\n"
     ]
    },
    {
     "name": "stderr",
     "output_type": "stream",
     "text": [
      "10it [00:00, 48.39it/s]"
     ]
    },
    {
     "name": "stdout",
     "output_type": "stream",
     "text": [
      "<PAD><PAD><PAD><PAD><PAD><PAD><PAD><PAD><PAD><PAD><PAD><PAD><PAD><PAD><PAD><PAD><PAD><PAD><PAD><PAD><PAD><PAD><PAD><PAD><PAD><PAD><PAD><PAD><PAD><PAD><PAD><PAD><PAD><PAD><PAD><PAD><PAD><PAD><PAD><PAD><PAD><PAD><PAD><PAD><PAD><PAD><PAD><PAD><PAD><PAD><PAD><PAD><PAD><PAD><PAD><PAD><PAD><PAD><PAD><PAD><PAD><PAD><PAD><PAD><PAD><PAD><PAD><PAD><PAD><PAD><PAD><PAD><PAD><PAD><PAD><PAD><PAD><PAD><PAD><PAD><PAD><PAD><PAD><PAD><PAD><PAD><PAD><PAD><PAD><PAD><PAD><PAD><PAD><PAD><PAD><PAD><PAD><PAD><PAD><PAD>\n"
     ]
    },
    {
     "name": "stderr",
     "output_type": "stream",
     "text": [
      "47it [00:00, 53.16it/s]\n",
      "47it [00:00, 50.30it/s]\n",
      "47it [00:00, 51.62it/s]\n",
      "47it [00:00, 52.58it/s]\n",
      "47it [00:00, 52.54it/s]\n",
      "5it [00:00, 47.30it/s]"
     ]
    },
    {
     "name": "stdout",
     "output_type": "stream",
     "text": [
      "epoch 10/300, loss 5.3223, norm 1.5192, predict bleu: 0.0000, time 0.896s, since 0h 0m 9s\n",
      "你你童年梦\n"
     ]
    },
    {
     "name": "stderr",
     "output_type": "stream",
     "text": [
      "47it [00:00, 52.42it/s]\n",
      "47it [00:00, 52.19it/s]\n",
      "47it [00:00, 52.42it/s]\n",
      "47it [00:00, 51.90it/s]\n",
      "47it [00:00, 53.80it/s]\n",
      "5it [00:00, 47.30it/s]"
     ]
    },
    {
     "name": "stdout",
     "output_type": "stream",
     "text": [
      "epoch 15/300, loss 3.8957, norm 1.8362, predict bleu: 0.0000, time 0.877s, since 0h 0m 13s\n",
      "你把我的童年记忆给毁的了\n"
     ]
    },
    {
     "name": "stderr",
     "output_type": "stream",
     "text": [
      "47it [00:00, 51.87it/s]\n",
      "47it [00:00, 51.58it/s]\n",
      "47it [00:00, 52.56it/s]\n",
      "47it [00:00, 52.54it/s]\n",
      "47it [00:00, 53.27it/s]\n",
      "6it [00:00, 53.24it/s]"
     ]
    },
    {
     "name": "stdout",
     "output_type": "stream",
     "text": [
      "epoch 20/300, loss 2.6489, norm 1.5467, predict bleu: 0.0000, time 0.885s, since 0h 0m 18s\n",
      "你把我的童年记忆给毁的了\n"
     ]
    },
    {
     "name": "stderr",
     "output_type": "stream",
     "text": [
      "47it [00:00, 54.42it/s]\n",
      "47it [00:00, 51.84it/s]\n",
      "47it [00:00, 51.39it/s]\n",
      "47it [00:00, 52.71it/s]\n",
      "47it [00:00, 52.62it/s]\n",
      "5it [00:00, 46.86it/s]"
     ]
    },
    {
     "name": "stdout",
     "output_type": "stream",
     "text": [
      "epoch 25/300, loss 1.7989, norm 1.3062, predict bleu: 0.0000, time 0.895s, since 0h 0m 22s\n",
      "你把我的童年记忆给毁的了\n"
     ]
    },
    {
     "name": "stderr",
     "output_type": "stream",
     "text": [
      "47it [00:00, 53.19it/s]\n",
      "47it [00:00, 52.30it/s]\n",
      "47it [00:00, 52.38it/s]\n",
      "47it [00:00, 51.95it/s]\n",
      "47it [00:00, 51.90it/s]\n",
      "5it [00:00, 47.75it/s]"
     ]
    },
    {
     "name": "stdout",
     "output_type": "stream",
     "text": [
      "epoch 30/300, loss 1.2048, norm 0.4773, predict bleu: 0.0000, time 0.908s, since 0h 0m 27s\n",
      "你把我的童年记忆给毁的了\n"
     ]
    },
    {
     "name": "stderr",
     "output_type": "stream",
     "text": [
      "47it [00:00, 51.27it/s]\n",
      "47it [00:00, 52.22it/s]\n",
      "47it [00:00, 52.59it/s]\n",
      "47it [00:00, 52.48it/s]\n",
      "47it [00:00, 51.43it/s]\n",
      "5it [00:00, 48.67it/s]"
     ]
    },
    {
     "name": "stdout",
     "output_type": "stream",
     "text": [
      "epoch 35/300, loss 0.8187, norm 0.2958, predict bleu: 0.0000, time 0.917s, since 0h 0m 32s\n",
      "你把我的童年记忆给毁的了\n"
     ]
    },
    {
     "name": "stderr",
     "output_type": "stream",
     "text": [
      "47it [00:00, 51.52it/s]\n",
      "47it [00:00, 53.36it/s]\n",
      "47it [00:00, 51.77it/s]\n",
      "47it [00:00, 53.21it/s]\n",
      "47it [00:00, 52.62it/s]\n",
      "5it [00:00, 45.17it/s]"
     ]
    },
    {
     "name": "stdout",
     "output_type": "stream",
     "text": [
      "epoch 40/300, loss 0.5628, norm 0.1772, predict bleu: 0.0000, time 0.896s, since 0h 0m 36s\n",
      "你把我的童年记忆给毁的了\n"
     ]
    },
    {
     "name": "stderr",
     "output_type": "stream",
     "text": [
      "47it [00:00, 52.06it/s]\n",
      "47it [00:00, 51.38it/s]\n",
      "47it [00:00, 53.53it/s]\n",
      "47it [00:00, 52.12it/s]\n",
      "47it [00:00, 53.46it/s]\n",
      "5it [00:00, 49.15it/s]"
     ]
    },
    {
     "name": "stdout",
     "output_type": "stream",
     "text": [
      "epoch 45/300, loss 0.4038, norm 0.1618, predict bleu: 0.0000, time 0.882s, since 0h 0m 41s\n",
      "你把我的童年记忆给毁的了\n"
     ]
    },
    {
     "name": "stderr",
     "output_type": "stream",
     "text": [
      "47it [00:00, 53.16it/s]\n",
      "47it [00:00, 52.47it/s]\n",
      "47it [00:00, 52.35it/s]\n",
      "47it [00:00, 53.20it/s]\n",
      "47it [00:00, 52.02it/s]\n",
      "5it [00:00, 47.26it/s]"
     ]
    },
    {
     "name": "stdout",
     "output_type": "stream",
     "text": [
      "epoch 50/300, loss 0.3274, norm 0.1691, predict bleu: 0.0000, time 0.907s, since 0h 0m 45s\n",
      "你把我的童年记忆给毁的了\n"
     ]
    },
    {
     "name": "stderr",
     "output_type": "stream",
     "text": [
      "47it [00:00, 52.07it/s]\n",
      "47it [00:00, 51.12it/s]\n",
      "47it [00:00, 50.97it/s]\n",
      "47it [00:00, 51.13it/s]\n",
      "47it [00:00, 50.52it/s]\n",
      "6it [00:00, 51.42it/s]"
     ]
    },
    {
     "name": "stdout",
     "output_type": "stream",
     "text": [
      "epoch 55/300, loss 0.3009, norm 0.1814, predict bleu: 0.0000, time 0.935s, since 0h 0m 50s\n",
      "你把我的童年记忆给毁的了\n"
     ]
    },
    {
     "name": "stderr",
     "output_type": "stream",
     "text": [
      "47it [00:00, 51.84it/s]\n",
      "47it [00:00, 51.79it/s]\n",
      "47it [00:00, 53.19it/s]\n",
      "47it [00:00, 52.38it/s]\n",
      "47it [00:00, 52.53it/s]\n",
      "6it [00:00, 50.13it/s]"
     ]
    },
    {
     "name": "stdout",
     "output_type": "stream",
     "text": [
      "epoch 60/300, loss 0.2843, norm 0.1858, predict bleu: 0.0000, time 0.897s, since 0h 0m 54s\n",
      "这个魔方居然还有和如意金箍棒一样的缩放功能。\n"
     ]
    },
    {
     "name": "stderr",
     "output_type": "stream",
     "text": [
      "47it [00:00, 53.20it/s]\n",
      "47it [00:00, 51.20it/s]\n",
      "47it [00:00, 51.90it/s]\n",
      "47it [00:00, 52.41it/s]\n",
      "47it [00:00, 52.58it/s]\n",
      "5it [00:00, 46.43it/s]"
     ]
    },
    {
     "name": "stdout",
     "output_type": "stream",
     "text": [
      "epoch 65/300, loss 0.2711, norm 0.1878, predict bleu: 0.0000, time 0.896s, since 0h 0m 59s\n",
      "这个魔方居然还有和如意金箍棒一样的缩放功能。\n"
     ]
    },
    {
     "name": "stderr",
     "output_type": "stream",
     "text": [
      "47it [00:00, 51.77it/s]\n",
      "47it [00:00, 52.07it/s]\n",
      "47it [00:00, 53.03it/s]\n",
      "47it [00:00, 52.63it/s]\n",
      "47it [00:00, 50.06it/s]\n",
      "5it [00:00, 44.76it/s]"
     ]
    },
    {
     "name": "stdout",
     "output_type": "stream",
     "text": [
      "epoch 70/300, loss 0.2618, norm 0.1905, predict bleu: 0.0000, time 0.941s, since 0h 1m 3s\n",
      "这个魔方居然还有和如意金箍棒一样的缩放功能。\n"
     ]
    },
    {
     "name": "stderr",
     "output_type": "stream",
     "text": [
      "47it [00:00, 49.24it/s]\n",
      "47it [00:00, 49.45it/s]\n",
      "47it [00:00, 49.46it/s]\n",
      "47it [00:00, 49.73it/s]\n",
      "47it [00:00, 52.06it/s]\n",
      "5it [00:00, 49.15it/s]"
     ]
    },
    {
     "name": "stdout",
     "output_type": "stream",
     "text": [
      "epoch 75/300, loss 0.2563, norm 0.1904, predict bleu: 0.0000, time 0.904s, since 0h 1m 8s\n",
      "这个魔方居然还有和如意金箍棒一样的缩放功能。\n"
     ]
    },
    {
     "name": "stderr",
     "output_type": "stream",
     "text": [
      "47it [00:00, 52.59it/s]\n",
      "47it [00:00, 51.73it/s]\n",
      "47it [00:00, 52.05it/s]\n",
      "47it [00:00, 51.38it/s]\n",
      "47it [00:00, 52.19it/s]\n",
      "5it [00:00, 46.77it/s]"
     ]
    },
    {
     "name": "stdout",
     "output_type": "stream",
     "text": [
      "epoch 80/300, loss 0.2483, norm 0.1869, predict bleu: 0.0000, time 0.904s, since 0h 1m 13s\n",
      "这个魔方居然还有和如意金箍棒一样的缩放功能。\n"
     ]
    },
    {
     "name": "stderr",
     "output_type": "stream",
     "text": [
      "47it [00:00, 52.09it/s]\n",
      "47it [00:00, 52.82it/s]\n",
      "47it [00:00, 51.23it/s]\n",
      "47it [00:00, 52.76it/s]\n",
      "47it [00:00, 51.39it/s]\n",
      "5it [00:00, 45.78it/s]"
     ]
    },
    {
     "name": "stdout",
     "output_type": "stream",
     "text": [
      "epoch 85/300, loss 0.2427, norm 0.1818, predict bleu: 0.0000, time 0.916s, since 0h 1m 17s\n",
      "这个魔方居然还有和如意金箍棒一样的缩放功能。\n"
     ]
    },
    {
     "name": "stderr",
     "output_type": "stream",
     "text": [
      "47it [00:00, 51.80it/s]\n",
      "47it [00:00, 52.52it/s]\n",
      "47it [00:00, 51.94it/s]\n",
      "47it [00:00, 52.25it/s]\n",
      "47it [00:00, 52.20it/s]\n",
      "5it [00:00, 47.75it/s]"
     ]
    },
    {
     "name": "stdout",
     "output_type": "stream",
     "text": [
      "epoch 90/300, loss 0.2377, norm 0.1750, predict bleu: 0.0000, time 0.903s, since 0h 1m 22s\n",
      "这个魔方居然还有和如意金箍棒一样的缩放功能。\n"
     ]
    },
    {
     "name": "stderr",
     "output_type": "stream",
     "text": [
      "47it [00:00, 51.81it/s]\n",
      "47it [00:00, 52.89it/s]\n",
      "47it [00:00, 51.96it/s]\n",
      "47it [00:00, 52.15it/s]\n",
      "47it [00:00, 53.15it/s]\n",
      "5it [00:00, 48.21it/s]"
     ]
    },
    {
     "name": "stdout",
     "output_type": "stream",
     "text": [
      "epoch 95/300, loss 0.2336, norm 0.1673, predict bleu: 0.0000, time 0.885s, since 0h 1m 26s\n",
      "这个魔方居然还有和如意金箍棒一样的缩放功能。\n"
     ]
    },
    {
     "name": "stderr",
     "output_type": "stream",
     "text": [
      "47it [00:00, 51.42it/s]\n",
      "47it [00:00, 52.99it/s]\n",
      "47it [00:00, 48.92it/s]\n",
      "47it [00:00, 49.70it/s]\n",
      "47it [00:00, 51.46it/s]\n",
      "5it [00:00, 46.42it/s]"
     ]
    },
    {
     "name": "stdout",
     "output_type": "stream",
     "text": [
      "epoch 100/300, loss 0.2303, norm 0.1595, predict bleu: 0.0000, time 0.917s, since 0h 1m 31s\n",
      "这个魔方居然还有和如意金箍棒一样的缩放功能。\n"
     ]
    },
    {
     "name": "stderr",
     "output_type": "stream",
     "text": [
      "47it [00:00, 51.44it/s]\n",
      "47it [00:00, 51.22it/s]\n",
      "47it [00:00, 51.89it/s]\n",
      "47it [00:00, 52.59it/s]\n",
      "47it [00:00, 50.08it/s]\n",
      "5it [00:00, 42.85it/s]"
     ]
    },
    {
     "name": "stdout",
     "output_type": "stream",
     "text": [
      "epoch 105/300, loss 0.2271, norm 0.1514, predict bleu: 0.0000, time 0.941s, since 0h 1m 36s\n",
      "这个魔方居然还有和如意金箍棒一样的缩放功能。\n"
     ]
    },
    {
     "name": "stderr",
     "output_type": "stream",
     "text": [
      "47it [00:00, 49.34it/s]\n",
      "47it [00:00, 51.90it/s]\n",
      "47it [00:00, 51.19it/s]\n",
      "47it [00:00, 51.33it/s]\n",
      "47it [00:00, 51.45it/s]\n",
      "5it [00:00, 46.63it/s]"
     ]
    },
    {
     "name": "stdout",
     "output_type": "stream",
     "text": [
      "epoch 110/300, loss 0.2237, norm 0.1435, predict bleu: 0.0000, time 0.917s, since 0h 1m 40s\n",
      "这个魔方居然还有和如意金箍棒一样的缩放功能。\n"
     ]
    },
    {
     "name": "stderr",
     "output_type": "stream",
     "text": [
      "47it [00:00, 51.64it/s]\n",
      "47it [00:00, 52.02it/s]\n",
      "47it [00:00, 51.88it/s]\n",
      "47it [00:00, 51.50it/s]\n",
      "47it [00:00, 53.01it/s]\n",
      "6it [00:00, 53.24it/s]"
     ]
    },
    {
     "name": "stdout",
     "output_type": "stream",
     "text": [
      "epoch 115/300, loss 0.2207, norm 0.1381, predict bleu: 0.0000, time 0.890s, since 0h 1m 45s\n",
      "这个魔方居然还有和如意金箍棒一样的缩放功能。\n"
     ]
    },
    {
     "name": "stderr",
     "output_type": "stream",
     "text": [
      "47it [00:00, 53.43it/s]\n",
      "47it [00:00, 52.42it/s]\n",
      "47it [00:00, 52.08it/s]\n",
      "47it [00:00, 52.83it/s]\n",
      "47it [00:00, 50.68it/s]\n",
      "5it [00:00, 48.91it/s]"
     ]
    },
    {
     "name": "stdout",
     "output_type": "stream",
     "text": [
      "epoch 120/300, loss 0.2177, norm 0.1363, predict bleu: 0.0000, time 0.929s, since 0h 1m 49s\n",
      "这个魔方居然还有和如意金箍棒一样的缩放功能。\n"
     ]
    },
    {
     "name": "stderr",
     "output_type": "stream",
     "text": [
      "47it [00:01, 46.95it/s]\n",
      "47it [00:00, 50.55it/s]\n",
      "47it [00:00, 52.36it/s]\n",
      "47it [00:00, 51.61it/s]\n",
      "47it [00:00, 52.11it/s]\n",
      "5it [00:00, 47.31it/s]"
     ]
    },
    {
     "name": "stdout",
     "output_type": "stream",
     "text": [
      "epoch 125/300, loss 0.2152, norm 0.1369, predict bleu: 0.0000, time 0.905s, since 0h 1m 54s\n",
      "这个魔方居然还有和如意金箍棒一样的缩放功能。\n"
     ]
    },
    {
     "name": "stderr",
     "output_type": "stream",
     "text": [
      "47it [00:00, 51.56it/s]\n",
      "47it [00:00, 53.19it/s]\n",
      "47it [00:00, 51.73it/s]\n",
      "47it [00:00, 52.59it/s]\n",
      "47it [00:00, 52.05it/s]\n",
      "6it [00:00, 50.98it/s]"
     ]
    },
    {
     "name": "stdout",
     "output_type": "stream",
     "text": [
      "epoch 130/300, loss 0.2129, norm 0.1392, predict bleu: 0.0000, time 0.905s, since 0h 1m 59s\n",
      "这个魔方居然还有和如意金箍棒一样的缩放功能。\n"
     ]
    },
    {
     "name": "stderr",
     "output_type": "stream",
     "text": [
      "47it [00:00, 52.89it/s]\n",
      "47it [00:00, 51.46it/s]\n",
      "47it [00:00, 51.96it/s]\n",
      "47it [00:00, 49.40it/s]\n",
      "47it [00:00, 49.68it/s]\n",
      "5it [00:00, 46.85it/s]"
     ]
    },
    {
     "name": "stdout",
     "output_type": "stream",
     "text": [
      "epoch 135/300, loss 0.2111, norm 0.1418, predict bleu: 0.0000, time 0.949s, since 0h 2m 3s\n",
      "这个魔方居然还有和如意金箍棒一样的缩放功能。\n"
     ]
    },
    {
     "name": "stderr",
     "output_type": "stream",
     "text": [
      "47it [00:00, 50.45it/s]\n",
      "47it [00:00, 49.00it/s]\n",
      "47it [00:00, 49.64it/s]\n",
      "47it [00:00, 49.97it/s]\n",
      "47it [00:00, 50.07it/s]\n",
      "5it [00:00, 45.99it/s]"
     ]
    },
    {
     "name": "stdout",
     "output_type": "stream",
     "text": [
      "epoch 140/300, loss 0.2092, norm 0.1418, predict bleu: 0.0000, time 0.942s, since 0h 2m 8s\n",
      "这个魔方居然还有和如意金箍棒一样的缩放功能。\n"
     ]
    },
    {
     "name": "stderr",
     "output_type": "stream",
     "text": [
      "47it [00:00, 48.94it/s]\n",
      "47it [00:00, 50.08it/s]\n",
      "47it [00:00, 49.30it/s]\n",
      "47it [00:00, 51.72it/s]\n",
      "47it [00:00, 51.31it/s]\n",
      "5it [00:00, 47.29it/s]"
     ]
    },
    {
     "name": "stdout",
     "output_type": "stream",
     "text": [
      "epoch 145/300, loss 0.2077, norm 0.1402, predict bleu: 0.0000, time 0.919s, since 0h 2m 13s\n",
      "这个魔方居然还有和如意金箍棒一样的缩放功能。\n"
     ]
    },
    {
     "name": "stderr",
     "output_type": "stream",
     "text": [
      "47it [00:00, 50.95it/s]\n",
      "47it [00:00, 52.82it/s]\n",
      "47it [00:00, 52.86it/s]\n",
      "47it [00:00, 52.95it/s]\n",
      "47it [00:00, 51.50it/s]\n",
      "5it [00:00, 48.67it/s]"
     ]
    },
    {
     "name": "stdout",
     "output_type": "stream",
     "text": [
      "epoch 150/300, loss 0.2065, norm 0.1378, predict bleu: 0.0000, time 0.916s, since 0h 2m 17s\n",
      "这个魔方居然还有和如意金箍棒一样的缩放功能。\n"
     ]
    },
    {
     "name": "stderr",
     "output_type": "stream",
     "text": [
      "47it [00:00, 51.51it/s]\n",
      "47it [00:00, 51.96it/s]\n",
      "47it [00:00, 52.19it/s]\n",
      "47it [00:00, 51.66it/s]\n",
      "47it [00:00, 51.38it/s]\n",
      "5it [00:00, 48.21it/s]"
     ]
    },
    {
     "name": "stdout",
     "output_type": "stream",
     "text": [
      "epoch 155/300, loss 0.2059, norm 0.1364, predict bleu: 0.0000, time 0.917s, since 0h 2m 22s\n",
      "这个魔方居然还有和如意金箍棒一样的缩放功能。\n"
     ]
    },
    {
     "name": "stderr",
     "output_type": "stream",
     "text": [
      "47it [00:00, 47.61it/s]\n",
      "47it [00:01, 45.75it/s]\n",
      "47it [00:01, 39.15it/s]\n",
      "47it [00:01, 43.65it/s]\n",
      "47it [00:00, 52.84it/s]\n",
      "5it [00:00, 49.65it/s]"
     ]
    },
    {
     "name": "stdout",
     "output_type": "stream",
     "text": [
      "epoch 160/300, loss 0.2052, norm 0.1335, predict bleu: 0.0000, time 0.892s, since 0h 2m 27s\n",
      "这个魔方居然还有和如意金箍棒一样的缩放功能。\n"
     ]
    },
    {
     "name": "stderr",
     "output_type": "stream",
     "text": [
      "47it [00:00, 51.19it/s]\n",
      "47it [00:00, 50.83it/s]\n",
      "47it [00:01, 42.51it/s]\n",
      "47it [00:01, 44.63it/s]\n",
      "47it [00:01, 42.60it/s]\n",
      "5it [00:00, 46.42it/s]"
     ]
    },
    {
     "name": "stdout",
     "output_type": "stream",
     "text": [
      "epoch 165/300, loss 0.2046, norm 0.1299, predict bleu: 0.0000, time 1.107s, since 0h 2m 32s\n",
      "这个魔方居然还有和如意金箍棒一样的缩放功能。\n"
     ]
    },
    {
     "name": "stderr",
     "output_type": "stream",
     "text": [
      "47it [00:00, 50.24it/s]\n",
      "47it [00:00, 50.33it/s]\n",
      "47it [00:00, 51.16it/s]\n",
      "47it [00:00, 51.79it/s]\n",
      "47it [00:01, 45.89it/s]\n",
      "5it [00:00, 45.11it/s]"
     ]
    },
    {
     "name": "stdout",
     "output_type": "stream",
     "text": [
      "epoch 170/300, loss 0.2040, norm 0.1265, predict bleu: 0.0000, time 1.026s, since 0h 2m 37s\n",
      "这个魔方居然还有和如意金箍棒一样的缩放功能。\n"
     ]
    },
    {
     "name": "stderr",
     "output_type": "stream",
     "text": [
      "47it [00:00, 49.89it/s]\n",
      "47it [00:00, 48.67it/s]\n",
      "47it [00:00, 49.68it/s]\n",
      "47it [00:01, 43.45it/s]\n",
      "47it [00:00, 48.91it/s]\n",
      "5it [00:00, 45.90it/s]"
     ]
    },
    {
     "name": "stdout",
     "output_type": "stream",
     "text": [
      "epoch 175/300, loss 0.2035, norm 0.1237, predict bleu: 0.0000, time 0.964s, since 0h 2m 42s\n",
      "这个魔方居然还有和如意金箍棒一样的缩放功能。\n"
     ]
    },
    {
     "name": "stderr",
     "output_type": "stream",
     "text": [
      "47it [00:00, 51.10it/s]\n",
      "47it [00:00, 51.25it/s]\n",
      "47it [00:00, 52.67it/s]\n",
      "47it [00:00, 53.19it/s]\n",
      "47it [00:00, 52.65it/s]\n",
      "5it [00:00, 46.42it/s]"
     ]
    },
    {
     "name": "stdout",
     "output_type": "stream",
     "text": [
      "epoch 180/300, loss 0.2031, norm 0.1224, predict bleu: 0.0000, time 0.894s, since 0h 2m 47s\n",
      "这个魔方居然还有和如意金箍棒一样的缩放功能。\n"
     ]
    },
    {
     "name": "stderr",
     "output_type": "stream",
     "text": [
      "47it [00:00, 52.19it/s]\n",
      "47it [00:00, 52.00it/s]\n",
      "47it [00:00, 50.08it/s]\n",
      "47it [00:00, 49.49it/s]\n",
      "47it [00:00, 50.49it/s]\n",
      "5it [00:00, 44.16it/s]"
     ]
    },
    {
     "name": "stdout",
     "output_type": "stream",
     "text": [
      "epoch 185/300, loss 0.2026, norm 0.1216, predict bleu: 0.0000, time 0.935s, since 0h 2m 51s\n",
      "这个魔方居然还有和如意金箍棒一样的缩放功能。\n"
     ]
    },
    {
     "name": "stderr",
     "output_type": "stream",
     "text": [
      "47it [00:00, 50.15it/s]\n",
      "47it [00:00, 50.58it/s]\n",
      "47it [00:00, 49.18it/s]\n",
      "47it [00:00, 48.42it/s]\n",
      "47it [00:01, 46.55it/s]\n",
      "5it [00:00, 45.17it/s]"
     ]
    },
    {
     "name": "stdout",
     "output_type": "stream",
     "text": [
      "epoch 190/300, loss 0.2023, norm 0.1207, predict bleu: 0.0000, time 1.012s, since 0h 2m 56s\n",
      "这个魔方居然还有和如意金箍棒一样的缩放功能。\n"
     ]
    },
    {
     "name": "stderr",
     "output_type": "stream",
     "text": [
      "47it [00:00, 49.06it/s]\n",
      "47it [00:00, 50.08it/s]\n",
      "47it [00:00, 48.63it/s]\n",
      "47it [00:01, 46.36it/s]\n",
      "47it [00:00, 48.63it/s]\n",
      "4it [00:00, 39.31it/s]"
     ]
    },
    {
     "name": "stdout",
     "output_type": "stream",
     "text": [
      "epoch 195/300, loss 0.2018, norm 0.1194, predict bleu: 0.0000, time 0.968s, since 0h 3m 1s\n",
      "这个魔方居然还有和如意金箍棒一样的缩放功能。\n"
     ]
    },
    {
     "name": "stderr",
     "output_type": "stream",
     "text": [
      "47it [00:00, 49.29it/s]\n",
      "47it [00:00, 51.62it/s]\n",
      "47it [00:00, 50.92it/s]\n",
      "47it [00:00, 50.56it/s]\n",
      "47it [00:00, 51.87it/s]\n",
      "5it [00:00, 44.37it/s]"
     ]
    },
    {
     "name": "stdout",
     "output_type": "stream",
     "text": [
      "epoch 200/300, loss 0.2013, norm 0.1173, predict bleu: 0.0000, time 0.909s, since 0h 3m 6s\n",
      "这个魔方居然还有和如意金箍棒一样的缩放功能。\n"
     ]
    },
    {
     "name": "stderr",
     "output_type": "stream",
     "text": [
      "47it [00:00, 49.72it/s]\n",
      "47it [00:00, 51.84it/s]\n",
      "47it [00:00, 51.09it/s]\n",
      "47it [00:00, 52.01it/s]\n",
      "47it [00:00, 52.19it/s]\n",
      "5it [00:00, 45.91it/s]"
     ]
    },
    {
     "name": "stdout",
     "output_type": "stream",
     "text": [
      "epoch 205/300, loss 0.2010, norm 0.1154, predict bleu: 0.0000, time 0.904s, since 0h 3m 10s\n",
      "这个魔方居然还有和如意金箍棒一样的缩放功能。\n"
     ]
    },
    {
     "name": "stderr",
     "output_type": "stream",
     "text": [
      "47it [00:00, 51.16it/s]\n",
      "47it [00:00, 51.79it/s]\n",
      "47it [00:00, 51.11it/s]\n",
      "47it [00:00, 51.61it/s]\n",
      "47it [00:00, 51.11it/s]\n",
      "5it [00:00, 46.04it/s]"
     ]
    },
    {
     "name": "stdout",
     "output_type": "stream",
     "text": [
      "epoch 210/300, loss 0.2005, norm 0.1143, predict bleu: 0.0000, time 0.922s, since 0h 3m 15s\n",
      "这个魔方居然还有和如意金箍棒一样的缩放功能。\n"
     ]
    },
    {
     "name": "stderr",
     "output_type": "stream",
     "text": [
      "47it [00:00, 50.52it/s]\n",
      "47it [00:00, 50.36it/s]\n",
      "47it [00:00, 50.56it/s]\n",
      "47it [00:00, 51.58it/s]\n",
      "47it [00:00, 50.90it/s]\n",
      "5it [00:00, 47.30it/s]"
     ]
    },
    {
     "name": "stdout",
     "output_type": "stream",
     "text": [
      "epoch 215/300, loss 0.1998, norm 0.1137, predict bleu: 0.0000, time 0.926s, since 0h 3m 20s\n",
      "这个魔方居然还有和如意金箍棒一样的缩放功能。\n"
     ]
    },
    {
     "name": "stderr",
     "output_type": "stream",
     "text": [
      "47it [00:00, 51.83it/s]\n",
      "47it [00:00, 52.06it/s]\n",
      "47it [00:00, 51.23it/s]\n",
      "47it [00:00, 51.46it/s]\n",
      "47it [00:00, 50.42it/s]\n",
      "5it [00:00, 46.42it/s]"
     ]
    },
    {
     "name": "stdout",
     "output_type": "stream",
     "text": [
      "epoch 220/300, loss 0.1991, norm 0.1134, predict bleu: 0.0000, time 0.935s, since 0h 3m 24s\n",
      "这个魔方居然还有和如意金箍棒一样的缩放功能。\n"
     ]
    },
    {
     "name": "stderr",
     "output_type": "stream",
     "text": [
      "47it [00:00, 51.79it/s]\n",
      "47it [00:00, 49.46it/s]\n",
      "47it [00:01, 46.02it/s]\n",
      "47it [00:00, 51.73it/s]\n",
      "47it [00:00, 51.77it/s]\n",
      "5it [00:00, 46.00it/s]"
     ]
    },
    {
     "name": "stdout",
     "output_type": "stream",
     "text": [
      "epoch 225/300, loss 0.1984, norm 0.1132, predict bleu: 0.0000, time 0.910s, since 0h 3m 29s\n",
      "这个魔方居然还有和如意金箍棒一样的缩放功能。\n"
     ]
    },
    {
     "name": "stderr",
     "output_type": "stream",
     "text": [
      "47it [00:00, 51.25it/s]\n",
      "47it [00:00, 50.98it/s]\n",
      "47it [00:00, 48.54it/s]\n",
      "47it [00:00, 49.04it/s]\n",
      "47it [00:00, 48.17it/s]\n",
      "5it [00:00, 43.98it/s]"
     ]
    },
    {
     "name": "stdout",
     "output_type": "stream",
     "text": [
      "epoch 230/300, loss 0.1976, norm 0.1131, predict bleu: 0.0000, time 0.978s, since 0h 3m 34s\n",
      "这个魔方居然还有和如意金箍棒一样的缩放功能。\n"
     ]
    },
    {
     "name": "stderr",
     "output_type": "stream",
     "text": [
      "47it [00:00, 48.53it/s]\n",
      "47it [00:00, 48.83it/s]\n",
      "47it [00:00, 48.38it/s]\n",
      "47it [00:00, 49.33it/s]\n",
      "47it [00:00, 51.46it/s]\n",
      "5it [00:00, 47.75it/s]"
     ]
    },
    {
     "name": "stdout",
     "output_type": "stream",
     "text": [
      "epoch 235/300, loss 0.1972, norm 0.1136, predict bleu: 0.0000, time 0.916s, since 0h 3m 39s\n",
      "这个魔方居然还有和如意金箍棒一样的缩放功能。\n"
     ]
    },
    {
     "name": "stderr",
     "output_type": "stream",
     "text": [
      "47it [00:00, 50.90it/s]\n",
      "47it [00:00, 51.57it/s]\n",
      "47it [00:00, 51.85it/s]\n",
      "47it [00:00, 50.62it/s]\n",
      "47it [00:00, 50.84it/s]\n",
      "5it [00:00, 46.81it/s]"
     ]
    },
    {
     "name": "stdout",
     "output_type": "stream",
     "text": [
      "epoch 240/300, loss 0.1969, norm 0.1143, predict bleu: 0.0000, time 0.928s, since 0h 3m 43s\n",
      "这个魔方居然还有和如意金箍棒一样的缩放功能。\n"
     ]
    },
    {
     "name": "stderr",
     "output_type": "stream",
     "text": [
      "47it [00:00, 50.95it/s]\n",
      "47it [00:00, 51.73it/s]\n",
      "47it [00:00, 50.83it/s]\n",
      "47it [00:00, 50.61it/s]\n",
      "47it [00:00, 51.94it/s]\n",
      "5it [00:00, 47.96it/s]"
     ]
    },
    {
     "name": "stdout",
     "output_type": "stream",
     "text": [
      "epoch 245/300, loss 0.1969, norm 0.1145, predict bleu: 0.0000, time 0.906s, since 0h 3m 48s\n",
      "这个魔方居然还有和如意金箍棒一样的缩放功能。\n"
     ]
    },
    {
     "name": "stderr",
     "output_type": "stream",
     "text": [
      "47it [00:00, 50.75it/s]\n",
      "47it [00:00, 50.00it/s]\n",
      "47it [00:00, 51.71it/s]\n",
      "47it [00:00, 50.49it/s]\n",
      "47it [00:00, 51.37it/s]\n",
      "5it [00:00, 42.54it/s]"
     ]
    },
    {
     "name": "stdout",
     "output_type": "stream",
     "text": [
      "epoch 250/300, loss 0.1961, norm 0.1148, predict bleu: 0.0000, time 0.917s, since 0h 3m 53s\n",
      "这个魔方居然还有和如意金箍棒一样的缩放功能。\n"
     ]
    },
    {
     "name": "stderr",
     "output_type": "stream",
     "text": [
      "47it [00:00, 48.56it/s]\n",
      "47it [00:00, 50.77it/s]\n",
      "47it [00:00, 52.07it/s]\n",
      "47it [00:00, 51.20it/s]\n",
      "47it [00:00, 51.97it/s]\n",
      "5it [00:00, 48.21it/s]"
     ]
    },
    {
     "name": "stdout",
     "output_type": "stream",
     "text": [
      "epoch 255/300, loss 0.2045, norm 0.1164, predict bleu: 0.0000, time 0.906s, since 0h 3m 57s\n",
      "这个魔方居然还有和如意金箍棒一样的缩放功能。\n"
     ]
    },
    {
     "name": "stderr",
     "output_type": "stream",
     "text": [
      "47it [00:00, 50.35it/s]\n",
      "47it [00:00, 50.89it/s]\n",
      "47it [00:00, 52.02it/s]\n",
      "47it [00:00, 51.27it/s]\n",
      "47it [00:00, 50.78it/s]\n",
      "5it [00:00, 47.30it/s]"
     ]
    },
    {
     "name": "stdout",
     "output_type": "stream",
     "text": [
      "epoch 260/300, loss 0.2039, norm 0.1114, predict bleu: 0.0000, time 0.927s, since 0h 4m 2s\n",
      "这个魔方居然还有和如意金箍棒一样的缩放功能。\n"
     ]
    },
    {
     "name": "stderr",
     "output_type": "stream",
     "text": [
      "47it [00:00, 51.49it/s]\n",
      "47it [00:00, 51.49it/s]\n",
      "47it [00:00, 50.35it/s]\n",
      "47it [00:00, 50.97it/s]\n",
      "47it [00:00, 51.16it/s]\n",
      "5it [00:00, 45.17it/s]"
     ]
    },
    {
     "name": "stdout",
     "output_type": "stream",
     "text": [
      "epoch 265/300, loss 0.1985, norm 0.1173, predict bleu: 0.0000, time 0.921s, since 0h 4m 7s\n",
      "这个魔方居然还有和如意金箍棒一样的缩放功能。\n"
     ]
    },
    {
     "name": "stderr",
     "output_type": "stream",
     "text": [
      "47it [00:00, 50.78it/s]\n",
      "47it [00:00, 47.52it/s]\n",
      "47it [00:01, 46.75it/s]\n",
      "47it [00:00, 48.10it/s]\n",
      "47it [00:00, 48.70it/s]\n",
      "5it [00:00, 44.37it/s]"
     ]
    },
    {
     "name": "stdout",
     "output_type": "stream",
     "text": [
      "epoch 270/300, loss 0.1981, norm 0.1200, predict bleu: 0.0000, time 0.968s, since 0h 4m 12s\n",
      "这个魔方居然还有和如意金箍棒一样的缩放功能。\n"
     ]
    },
    {
     "name": "stderr",
     "output_type": "stream",
     "text": [
      "47it [00:00, 48.58it/s]\n",
      "47it [00:00, 49.08it/s]\n",
      "47it [00:00, 49.92it/s]\n",
      "47it [00:00, 50.64it/s]\n",
      "47it [00:00, 50.32it/s]\n",
      "5it [00:00, 48.11it/s]"
     ]
    },
    {
     "name": "stdout",
     "output_type": "stream",
     "text": [
      "epoch 275/300, loss 0.1977, norm 0.1215, predict bleu: 0.0000, time 0.937s, since 0h 4m 16s\n",
      "这个魔方居然还有和如意金箍棒一样的缩放功能。\n"
     ]
    },
    {
     "name": "stderr",
     "output_type": "stream",
     "text": [
      "47it [00:00, 51.00it/s]\n",
      "47it [00:00, 50.11it/s]\n",
      "47it [00:00, 50.07it/s]\n",
      "47it [00:00, 50.97it/s]\n",
      "47it [00:00, 50.33it/s]\n",
      "5it [00:00, 43.59it/s]"
     ]
    },
    {
     "name": "stdout",
     "output_type": "stream",
     "text": [
      "epoch 280/300, loss 0.2001, norm 0.1234, predict bleu: 0.0000, time 0.937s, since 0h 4m 21s\n",
      "这个魔方居然还有和如意金箍棒一样的缩放功能。\n"
     ]
    },
    {
     "name": "stderr",
     "output_type": "stream",
     "text": [
      "47it [00:00, 49.55it/s]\n",
      "47it [00:00, 49.71it/s]\n",
      "47it [00:00, 50.43it/s]\n",
      "47it [00:00, 49.79it/s]\n",
      "47it [00:00, 50.70it/s]\n",
      "5it [00:00, 43.59it/s]"
     ]
    },
    {
     "name": "stdout",
     "output_type": "stream",
     "text": [
      "epoch 285/300, loss 0.2021, norm 0.1265, predict bleu: 0.0000, time 0.928s, since 0h 4m 26s\n",
      "这个魔方居然还有和如意金箍棒一样的缩放功能。\n"
     ]
    },
    {
     "name": "stderr",
     "output_type": "stream",
     "text": [
      "47it [00:00, 49.19it/s]\n",
      "47it [00:00, 51.33it/s]\n",
      "47it [00:00, 50.94it/s]\n",
      "47it [00:00, 50.18it/s]\n",
      "47it [00:00, 49.58it/s]\n",
      "5it [00:00, 46.42it/s]"
     ]
    },
    {
     "name": "stdout",
     "output_type": "stream",
     "text": [
      "epoch 290/300, loss 0.2040, norm 0.1313, predict bleu: 0.0000, time 0.951s, since 0h 4m 31s\n",
      "这个魔方居然还有和如意金箍棒一样的缩放功能。\n"
     ]
    },
    {
     "name": "stderr",
     "output_type": "stream",
     "text": [
      "47it [00:00, 49.16it/s]\n",
      "47it [00:00, 50.02it/s]\n",
      "47it [00:00, 50.85it/s]\n",
      "47it [00:00, 50.40it/s]\n",
      "47it [00:00, 49.98it/s]\n",
      "5it [00:00, 47.04it/s]"
     ]
    },
    {
     "name": "stdout",
     "output_type": "stream",
     "text": [
      "epoch 295/300, loss 0.2063, norm 0.1355, predict bleu: 0.0000, time 0.943s, since 0h 4m 35s\n",
      "这个魔方居然还有和如意金箍棒一样的缩放功能。\n"
     ]
    },
    {
     "name": "stderr",
     "output_type": "stream",
     "text": [
      "47it [00:00, 48.53it/s]\n",
      "47it [00:00, 49.17it/s]\n",
      "47it [00:00, 48.86it/s]\n",
      "47it [00:00, 48.28it/s]\n",
      "47it [00:00, 49.09it/s]\n"
     ]
    },
    {
     "name": "stdout",
     "output_type": "stream",
     "text": [
      "epoch 300/300, loss 0.2090, norm 0.1398, predict bleu: 0.0000, time 0.958s, since 0h 4m 40s\n",
      "这个魔方居然还有和如意金箍棒一样的缩放功能。\n"
     ]
    }
   ],
   "source": [
    "since = time.time()\n",
    "for epoch in range(num_epoch):\n",
    "    start = time.time()\n",
    "    num, total_loss = 1, 0\n",
    "#     if epoch == 5000:\n",
    "#         optimizer.param_groups[0]['lr'] = lr * 0.1\n",
    "    data = tav_data_iterator(\n",
    "        corpus_indice, topics_indice, batch_size, max(length) + 1)\n",
    "#     hidden = model.module.init_hidden(num_layers, batch_size, hidden_dim)\n",
    "    weight = torch.ones(len(vocab))\n",
    "    weight[0] = 0\n",
    "    for X, Y, mask, topics in tqdm(data):\n",
    "        num += 1\n",
    "#         hidden.detach_()\n",
    "        if use_gpu:\n",
    "            #             X = X.to(device)\n",
    "            Y = Y.to(device)\n",
    "            mask = mask.to(device)\n",
    "#             topics = topics.to(device)\n",
    "#             hidden = hidden.to(device)\n",
    "            weight = weight.to(device)\n",
    "        optimizer.zero_grad()\n",
    "#         output, hidden = model(X, topics, hidden)\n",
    "        output, hidden = model(X, topics)\n",
    "        hidden.detach_()\n",
    "#         l = F.cross_entropy(output, Y.t().reshape((-1,)), weight)\n",
    "        l, _ = adaptive_softmax(output, Y.t().reshape((-1,)))\n",
    "        loss = -l.reshape((-1, batch_size)).t() * mask\n",
    "        loss = loss.sum(dim=1) / mask.sum(dim=1)\n",
    "        loss = loss.mean()\n",
    "        loss.backward()\n",
    "        norm = nn.utils.clip_grad_norm_(model.parameters(), 1e-2)\n",
    "        optimizer.step()\n",
    "        total_loss += loss.item()\n",
    "        params = model.state_dict()\n",
    "        params['attn.weight'].clamp_(1)\n",
    "    end = time.time()\n",
    "    s = end - since\n",
    "    h = math.floor(s / 3600)\n",
    "    m = s - h * 3600\n",
    "    m = math.floor(m / 60)\n",
    "    s -= (m * 60 + h * 3600)\n",
    "    if((epoch + 1) % verbose == 0) or (epoch == (num_epoch - 1)):\n",
    "        bleu_score = 0\n",
    "#         for i in range(len(corpus_test)):\n",
    "#             doc = corpus_test[i]\n",
    "#             _, pred = predict_rnn([idx_to_word[x] for x in topics_test[0]],\n",
    "#                                   100, model, device, idx_to_word, word_to_idx)\n",
    "#             bleu_score += bleu([idx_to_word[int(x)] for x in pred],\n",
    "#                                [idx_to_word[x] for x in doc if x not in [0, 2]], k=2)\n",
    "        print('epoch %d/%d, loss %.4f, norm %.4f, predict bleu: %.4f, time %.3fs, since %dh %dm %ds'\n",
    "              % (epoch + 1, num_epoch, total_loss / num, norm, bleu_score / 800, end - start, h, m, s))\n",
    "        print(predict_rnn_ada(['变形金刚', '三星级'],\n",
    "                              100, model, idx_to_word, word_to_idx)[0])"
   ]
  },
  {
   "cell_type": "code",
   "execution_count": 61,
   "metadata": {
    "ExecuteTime": {
     "end_time": "2018-11-21T19:18:12.187542Z",
     "start_time": "2018-11-21T19:17:04.153224Z"
    }
   },
   "outputs": [],
   "source": [
    "bleu_score = 0\n",
    "for i in range(len(corpus_test)):\n",
    "    doc = corpus_test[i]\n",
    "    _, pred = predict_rnn_ada([idx_to_word[x] for x in topics_test[0]],\n",
    "                              100, model, idx_to_word, word_to_idx)\n",
    "    bleu_score += bleu([idx_to_word[int(x)] for x in pred],\n",
    "                       [idx_to_word[x] for x in doc if x not in [0, 2]], k=2)"
   ]
  },
  {
   "cell_type": "code",
   "execution_count": 71,
   "metadata": {
    "ExecuteTime": {
     "end_time": "2018-11-21T19:18:12.264020Z",
     "start_time": "2018-11-21T19:18:12.189798Z"
    }
   },
   "outputs": [
    {
     "name": "stdout",
     "output_type": "stream",
     "text": [
      "你把我的童年记忆给毁的了\n",
      "导演想表达的是一群阳痿的外星机械老儿崇拜症患者来地球炫耀性功能，深感自卑的地球人投靠汽车人领袖~大老二~，并立志推翻不带套子乱搞的~霸天虎~。霸天虎心智正常的表示~你们家打飞机才带套呢~\n",
      "这个魔方居然还有和如意金箍棒一样的缩放功能。\n",
      "巨幕厅看的超过瘾！梅根的身材超棒\n",
      "其实重新再刷会发现，明亮与阴暗的画风对一部电影加成着实不一样，虽然我更喜欢环太，但环太在变1前还有B级片的气质，至于后面四部嘛……\n",
      "这都什么呀诛仙是这样的？一点都不仙，看着挺脏的。演员表情狰狞，像极了乡村土巴佬\n",
      "场面很华丽，但是不得不说爱豆演戏真的无法让人有代入感，硬演！看海报感觉是第二个捉妖记，看完了大失所望。。。\n",
      "程小东这次没失手，东方仙侠终于在近几年有了一部拿的出手的作品。在质感上，《诛仙Ⅰ》做到了《蜀山传》之后最佳，演员方面肖战在气质上很贴合原著中张小凡，而肖战和原著两大IP加持，看好成为中秋爆款的潜质。\n",
      "最近仙侠不景气，这部看起来还可以啊。\n",
      "李沁终于找到了她正确的打开方式，陆雪琪一开始选择她就觉得太契合了。最素的妆容造型最考验女演员的气质，她执剑而立的时候翩然如踏雪飞鸿。希望未来能有更多这类的角色出演，古装于她，添了不止一分仙气。\n"
     ]
    }
   ],
   "source": [
    "movies = ['变形金刚', '仙人']\n",
    "comments = ['一星级','二星级','三星级','四星级','五星级']\n",
    "for movie in movies:\n",
    "    for comment in comments:\n",
    "        print(predict_rnn_ada([movie, comment], 100, model, idx_to_word, word_to_idx)[0])"
   ]
  },
  {
   "cell_type": "code",
   "execution_count": 17,
   "metadata": {
    "ExecuteTime": {
     "end_time": "2018-11-21T19:18:12.268458Z",
     "start_time": "2018-11-21T19:18:12.265419Z"
    }
   },
   "outputs": [
    {
     "name": "stdout",
     "output_type": "stream",
     "text": [
      "我的妈妈是个“小金鱼”的“小”。妈妈说：“妈妈，我是一个好的。”妈妈说：“你是个好的。”妈妈说：“你是谁的吗？”\n"
     ]
    }
   ],
   "source": [
    "print(''.join([idx_to_word[x] for x in pred]))"
   ]
  },
  {
   "cell_type": "code",
   "execution_count": 18,
   "metadata": {
    "ExecuteTime": {
     "end_time": "2018-11-21T19:18:12.272959Z",
     "start_time": "2018-11-21T19:18:12.269902Z"
    }
   },
   "outputs": [
    {
     "name": "stdout",
     "output_type": "stream",
     "text": [
      "音乐 节目 兴奋 响起 小手\n"
     ]
    }
   ],
   "source": [
    "print(' '.join([idx_to_word[x] for x in topics_test[len(topics_test) - 1]]))"
   ]
  }
 ],
 "metadata": {
  "kernelspec": {
   "display_name": "torch",
   "language": "python",
   "name": "torch"
  },
  "language_info": {
   "codemirror_mode": {
    "name": "ipython",
    "version": 3
   },
   "file_extension": ".py",
   "mimetype": "text/x-python",
   "name": "python",
   "nbconvert_exporter": "python",
   "pygments_lexer": "ipython3",
   "version": "3.7.5"
  }
 },
 "nbformat": 4,
 "nbformat_minor": 2
}
