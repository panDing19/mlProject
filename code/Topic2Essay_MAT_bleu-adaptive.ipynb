{
 "cells": [
  {
   "cell_type": "code",
   "execution_count": 1,
   "metadata": {
    "ExecuteTime": {
     "end_time": "2018-11-21T10:33:57.479826Z",
     "start_time": "2018-11-21T10:33:56.747218Z"
    }
   },
   "outputs": [],
   "source": [
    "import gensim\n",
    "from gensim.models import KeyedVectors\n",
    "import numpy as np\n",
    "import torch\n",
    "from torch import nn, autograd, optim\n",
    "import torch.nn.functional as F\n",
    "from sru import SRU, SRUCell\n",
    "import time\n",
    "import math\n",
    "from tqdm import tqdm\n",
    "import collections\n",
    "import random"
   ]
  },
  {
   "cell_type": "code",
   "execution_count": 2,
   "metadata": {
    "ExecuteTime": {
     "end_time": "2018-11-21T10:34:18.845225Z",
     "start_time": "2018-11-21T10:33:57.483366Z"
    }
   },
   "outputs": [],
   "source": [
    "fvec = KeyedVectors.load_word2vec_format('vec_100d.txt', binary=False)\n",
    "word_vec = fvec.vectors\n",
    "vocab = ['<PAD>', '<BOS>', '<EOS>', '<UNK>']\n",
    "vocab.extend(list(fvec.vocab.keys()))\n",
    "word_vec = np.concatenate((np.array([[0]*word_vec.shape[1]] * 4), word_vec))\n",
    "word_vec = torch.tensor(word_vec).float()"
   ]
  },
  {
   "cell_type": "code",
   "execution_count": 3,
   "metadata": {
    "ExecuteTime": {
     "end_time": "2018-11-21T10:34:18.937903Z",
     "start_time": "2018-11-21T10:34:18.848166Z"
    }
   },
   "outputs": [],
   "source": [
    "word_to_idx = {ch: i for i, ch in enumerate(vocab)}\n",
    "idx_to_word = {i: ch for i, ch in enumerate(vocab)}"
   ]
  },
  {
   "cell_type": "code",
   "execution_count": 4,
   "metadata": {
    "ExecuteTime": {
     "end_time": "2018-11-21T10:34:26.079997Z",
     "start_time": "2018-11-21T10:34:18.939636Z"
    }
   },
   "outputs": [],
   "source": [
    "essays = []\n",
    "topics = []\n",
    "with open('composition.txt', 'r') as f:\n",
    "    for line in f:\n",
    "        essay, topic = line.replace('\\n', '').split(' </d> ')\n",
    "        essays.append(essay.split(' '))\n",
    "        topics.append(topic.split(' '))"
   ]
  },
  {
   "cell_type": "code",
   "execution_count": 5,
   "metadata": {
    "ExecuteTime": {
     "end_time": "2018-11-21T10:34:27.923691Z",
     "start_time": "2018-11-21T10:34:26.081978Z"
    }
   },
   "outputs": [],
   "source": [
    "corpus_indice = list(map(lambda x: [word_to_idx[w] for w in x], essays[:80000]))\n",
    "topics_indice = list(map(lambda x: [word_to_idx[w] for w in x], topics[:80000]))\n",
    "corpus_test = list(map(lambda x: [word_to_idx[w] for w in x], essays[80000:80800]))\n",
    "topics_test = list(map(lambda x: [word_to_idx[w] for w in x], topics[80000:80800]))"
   ]
  },
  {
   "cell_type": "code",
   "execution_count": 6,
   "metadata": {
    "ExecuteTime": {
     "end_time": "2018-11-21T10:34:27.936548Z",
     "start_time": "2018-11-21T10:34:27.925391Z"
    }
   },
   "outputs": [],
   "source": [
    "length = list(map(lambda x: len(x), corpus_indice))"
   ]
  },
  {
   "cell_type": "code",
   "execution_count": 7,
   "metadata": {
    "ExecuteTime": {
     "end_time": "2018-11-21T10:34:28.016565Z",
     "start_time": "2018-11-21T10:34:27.938049Z"
    }
   },
   "outputs": [],
   "source": [
    "def tav_data_iterator(corpus_indice, topics_indice, batch_size, num_steps):\n",
    "    epoch_size = len(corpus_indice) // batch_size\n",
    "    for i in range(epoch_size):\n",
    "        raw_data = corpus_indice[i*batch_size: (i+1)*batch_size]\n",
    "        key_words = topics_indice[i*batch_size: (i+1)*batch_size]\n",
    "        data = np.zeros((len(raw_data), num_steps+1), dtype=np.int64)\n",
    "        for i in range(batch_size):\n",
    "            doc = raw_data[i]\n",
    "            tmp = [1]\n",
    "            tmp.extend(doc)\n",
    "            tmp.extend([2])\n",
    "            tmp = np.array(tmp, dtype=np.int64)\n",
    "            _size = tmp.shape[0]\n",
    "            data[i][:_size] = tmp\n",
    "        key_words = np.array(key_words, dtype=np.int64)\n",
    "        x = data[:, 0:num_steps]\n",
    "        y = data[:, 1:]\n",
    "        mask = np.float32(x != 0)\n",
    "        x = torch.tensor(x)\n",
    "        y = torch.tensor(y)\n",
    "        mask = torch.tensor(mask)\n",
    "        key_words = torch.tensor(key_words)\n",
    "        yield(x, y, mask, key_words)"
   ]
  },
  {
   "cell_type": "code",
   "execution_count": 8,
   "metadata": {
    "ExecuteTime": {
     "end_time": "2018-11-21T10:34:28.091992Z",
     "start_time": "2018-11-21T10:34:28.018420Z"
    }
   },
   "outputs": [],
   "source": [
    "class TATLSTM(nn.Module):\n",
    "    def __init__(self, hidden_dim, embed_dim, num_layers, weight,\n",
    "                 num_labels, bidirectional, dropout=0.5, **kwargs):\n",
    "        super(TATLSTM, self).__init__(**kwargs)\n",
    "        self.hidden_dim = hidden_dim\n",
    "        self.embed_dim = embed_dim\n",
    "        self.num_layers = num_layers\n",
    "        self.num_labels = num_labels\n",
    "        self.bidirectional = bidirectional\n",
    "        if num_layers <= 1:\n",
    "            self.dropout = 0\n",
    "        else:\n",
    "            self.dropout = dropout\n",
    "        self.embedding = nn.Embedding.from_pretrained(weight)\n",
    "        self.embedding.weight.requires_grad = False\n",
    "        self.rnn = nn.GRU(input_size=self.embed_dim, hidden_size=self.hidden_dim,\n",
    "                          num_layers=self.num_layers, bidirectional=self.bidirectional,\n",
    "                          dropout=self.dropout).to(device)\n",
    "        if self.bidirectional:\n",
    "            self.decoder = nn.Linear(\n",
    "                hidden_dim * 2 + self.embed_dim, 1000).to(device)\n",
    "        else:\n",
    "            self.decoder = nn.Linear(\n",
    "                hidden_dim + self.embed_dim, 1000).to(device)\n",
    "#         self.attn = nn.Linear(self.embed_dim * 5, self.embed_dim)\n",
    "        self.attn = nn.Linear(5, 1, bias=False)\n",
    "        self.attn.weight.data.fill_(1)\n",
    "        \n",
    "\n",
    "    def forward(self, inputs, topics, hidden=None):\n",
    "        embeddings = self.embedding(inputs).to(device)\n",
    "        topics_embed = self.embedding(topics)\n",
    "        topics_attn = torch.zeros(\n",
    "            topics_embed.shape[0], 1, self.embed_dim)\n",
    "        for i in range(len(topics_embed)):\n",
    "            topics_attn[i] = self.attn(topics_embed[i].t()).t()\n",
    "#         topics_attn = self.attn(topics_embed.reshape((topics_embed.shape[0], -1)))\n",
    "#         topics_attn.unsqueeze_(-1)\n",
    "        topics_attn = topics_attn.permute([0, 2, 1])\n",
    "        self.rnn.flatten_parameters()\n",
    "        if hidden is None:\n",
    "            states, hidden = self.rnn(embeddings.permute([1, 0, 2]))\n",
    "        else:\n",
    "            states, hidden = self.rnn(\n",
    "                embeddings.permute([1, 0, 2]), hidden)\n",
    "        topics_attn = topics_attn.expand(\n",
    "            topics_attn.shape[0], topics_attn.shape[1], states.shape[0])\n",
    "        topics_attn = topics_attn.permute([2, 0, 1]).to(device)\n",
    "        states_with_topic = torch.cat([states, topics_attn], dim=2)\n",
    "        outputs = self.decoder(states_with_topic.reshape(\n",
    "            (-1, states_with_topic.shape[-1])))\n",
    "        return(outputs, hidden)\n",
    "\n",
    "    def init_hidden(self, num_layers, batch_size, hidden_dim, **kwargs):\n",
    "        hidden = torch.zeros(num_layers, batch_size, hidden_dim)\n",
    "        return hidden"
   ]
  },
  {
   "cell_type": "code",
   "execution_count": 9,
   "metadata": {
    "ExecuteTime": {
     "end_time": "2018-11-21T10:34:28.177316Z",
     "start_time": "2018-11-21T10:34:28.093445Z"
    }
   },
   "outputs": [],
   "source": [
    "def predict_rnn_ada(topics, num_chars, model, idx_to_word, word_to_idx):\n",
    "    output = [1]\n",
    "    topics = [word_to_idx[x] for x in topics]\n",
    "    topics = torch.tensor(topics)\n",
    "    topics = topics.reshape((1, topics.shape[0]))\n",
    "    hidden = torch.zeros(num_layers, 1, hidden_dim)\n",
    "    if use_gpu:\n",
    "        hidden = hidden.to(device)\n",
    "        adaptive_softmax.to(device)\n",
    "#         topics = topics.to(device)\n",
    "    for t in range(num_chars):\n",
    "        X = torch.tensor(output[-1]).reshape((1, 1))\n",
    "#         X = torch.tensor(output).reshape((1, len(output)))\n",
    "#         if use_gpu:\n",
    "#             X = X.to(device)\n",
    "        pred, hidden = model(X, topics, hidden)\n",
    "        pred = adaptive_softmax.predict(pred)\n",
    "        if pred[-1] == 2:\n",
    "            break\n",
    "        else:\n",
    "            output.append(int(pred[-1]))\n",
    "#             output.append(int(pred.argmax(dim=1)[-1]))\n",
    "    return(''.join([idx_to_word[i] for i in output[1:]]), output[1:])"
   ]
  },
  {
   "cell_type": "code",
   "execution_count": 10,
   "metadata": {
    "ExecuteTime": {
     "end_time": "2018-11-21T10:34:28.249658Z",
     "start_time": "2018-11-21T10:34:28.181656Z"
    }
   },
   "outputs": [],
   "source": [
    "def bleu(pred_tokens, label_tokens, k):\n",
    "    len_pred, len_label = len(pred_tokens), len(label_tokens)\n",
    "    score = math.exp(min(0, 1 - len_label / len_pred))\n",
    "    for n in range(1, k+1):\n",
    "        num_matches = 0\n",
    "        for i in range(len_pred - n + 1):\n",
    "            if ' '.join(pred_tokens[i: i + n]) in ' '.join(label_tokens):\n",
    "                num_matches += 1\n",
    "        score *= math.pow(num_matches / (len_pred - n + 1), math.pow(0.5, n))\n",
    "    return score"
   ]
  },
  {
   "cell_type": "code",
   "execution_count": 11,
   "metadata": {
    "ExecuteTime": {
     "end_time": "2018-11-21T10:34:28.732643Z",
     "start_time": "2018-11-21T10:34:28.252238Z"
    }
   },
   "outputs": [],
   "source": [
    "embedding_dim = 100\n",
    "hidden_dim = 256\n",
    "lr = 1e2\n",
    "momentum = 0.1\n",
    "num_epoch = 300\n",
    "use_gpu = True\n",
    "num_layers = 1\n",
    "bidirectional = False\n",
    "batch_size = 128\n",
    "verbose = 5\n",
    "vocab_size = len(vocab)\n",
    "device = torch.device('cuda:1')\n",
    "loss_function = nn.CrossEntropyLoss()\n",
    "adaptive_softmax = nn.AdaptiveLogSoftmaxWithLoss(\n",
    "    1000, len(vocab), cutoffs=[round(vocab_size / 20), 4*round(vocab_size / 20)])"
   ]
  },
  {
   "cell_type": "code",
   "execution_count": 12,
   "metadata": {
    "ExecuteTime": {
     "end_time": "2018-11-21T10:34:31.372227Z",
     "start_time": "2018-11-21T10:34:28.734421Z"
    }
   },
   "outputs": [],
   "source": [
    "model = TATLSTM(hidden_dim=hidden_dim, embed_dim=embedding_dim, num_layers=num_layers,\n",
    "                num_labels=len(vocab), weight=word_vec, bidirectional=bidirectional)\n",
    "optimizer = optim.SGD(model.parameters(), lr=lr, momentum=momentum)\n",
    "# if use_gpu:\n",
    "#     model = nn.DataParallel(model)\n",
    "#     model.to(device)\n",
    "# optimizer = hvd.DistributedOptimizer(optimizer, named_parameters=model.named_parameters)\n",
    "# hvd.broadcast_parameters(model.state_dict(), root_rank=0)"
   ]
  },
  {
   "cell_type": "code",
   "execution_count": 13,
   "metadata": {
    "ExecuteTime": {
     "end_time": "2018-11-21T10:34:35.061943Z",
     "start_time": "2018-11-21T10:34:31.375171Z"
    },
    "scrolled": true
   },
   "outputs": [
    {
     "data": {
      "text/plain": [
       "'划过划过划过划过划过划过划过划过划过划过划过划过划过划过划过划过划过划过划过划过划过划过划过划过划过划过划过划过划过划过划过划过划过划过划过划过划过划过划过划过划过划过划过划过划过划过划过划过划过划过划过划过划过划过划过划过划过划过划过划过划过划过划过划过划过划过划过划过划过划过划过划过划过划过划过划过划过划过划过划过划过划过划过划过划过划过划过划过划过划过划过划过划过划过划过划过划过划过划过划过'"
      ]
     },
     "execution_count": 13,
     "metadata": {},
     "output_type": "execute_result"
    }
   ],
   "source": [
    "predict_rnn_ada(['人们', '看看', '展示', '美丽', '夏天'], 100, model, idx_to_word, word_to_idx)[0]"
   ]
  },
  {
   "cell_type": "code",
   "execution_count": 14,
   "metadata": {
    "ExecuteTime": {
     "end_time": "2018-11-21T19:13:38.439349Z",
     "start_time": "2018-11-21T10:34:35.063767Z"
    },
    "scrolled": true
   },
   "outputs": [
    {
     "name": "stderr",
     "output_type": "stream",
     "text": [
      "625it [01:43,  6.09it/s]\n",
      "625it [01:44,  5.95it/s]\n",
      "625it [01:44,  5.88it/s]\n",
      "625it [01:44,  6.08it/s]\n",
      "625it [01:44,  6.16it/s]\n",
      "0it [00:00, ?it/s]"
     ]
    },
    {
     "name": "stdout",
     "output_type": "stream",
     "text": [
      "epoch 5/300, loss 6.3628, norm 0.2015, predict bleu: 0.0000, time 104.243s, since 0h 8m 40s\n",
      "我的喜欢，是一个人的人，它的是是一个的，它的是是一个的，它的是是一个的，它的是是的，它的是是的，它的是是的。\n"
     ]
    },
    {
     "name": "stderr",
     "output_type": "stream",
     "text": [
      "625it [01:44,  6.05it/s]\n",
      "625it [01:44,  6.13it/s]\n",
      "625it [01:44,  5.97it/s]\n",
      "625it [01:43,  5.87it/s]\n",
      "625it [01:43,  6.21it/s]\n",
      "0it [00:00, ?it/s]"
     ]
    },
    {
     "name": "stdout",
     "output_type": "stream",
     "text": [
      "epoch 10/300, loss 6.0802, norm 0.1675, predict bleu: 0.0000, time 103.884s, since 0h 17m 21s\n",
      "我的家乡是一个美丽的季节，它是一个美丽的季节，它是一个美丽的季节。它的美丽，让我的心也是一种爱。\n"
     ]
    },
    {
     "name": "stderr",
     "output_type": "stream",
     "text": [
      "625it [01:44,  6.07it/s]\n",
      "625it [01:43,  5.91it/s]\n",
      "625it [01:43,  6.04it/s]\n",
      "625it [01:43,  5.89it/s]\n",
      "625it [01:44,  6.42it/s]\n",
      "0it [00:00, ?it/s]"
     ]
    },
    {
     "name": "stdout",
     "output_type": "stream",
     "text": [
      "epoch 15/300, loss 5.9483, norm 0.1586, predict bleu: 0.0000, time 104.202s, since 0h 26m 1s\n",
      "我的家乡是一个美丽的季节，它是我的好朋友，是我的好朋友。我的心也有了，我的心也有了。我的心也有了，我的心也有了。\n"
     ]
    },
    {
     "name": "stderr",
     "output_type": "stream",
     "text": [
      "625it [01:43,  6.04it/s]\n",
      "625it [01:44,  5.92it/s]\n",
      "625it [01:44,  6.02it/s]\n",
      "625it [01:44,  6.34it/s]\n",
      "625it [01:44,  5.85it/s]\n",
      "0it [00:00, ?it/s]"
     ]
    },
    {
     "name": "stdout",
     "output_type": "stream",
     "text": [
      "epoch 20/300, loss 5.8731, norm 0.1761, predict bleu: 0.0000, time 104.940s, since 0h 34m 44s\n",
      "我的家乡在这里，我的心也有了。我的心也有了一个美丽的世界。我想：“我的妈妈，我想想，我想想，我想想，我想想，我一定会给你们的。”\n"
     ]
    },
    {
     "name": "stderr",
     "output_type": "stream",
     "text": [
      "625it [01:43,  6.01it/s]\n",
      "625it [01:45,  5.76it/s]\n",
      "625it [01:45,  5.80it/s]\n",
      "625it [01:46,  5.79it/s]\n",
      "625it [01:45,  5.90it/s]\n",
      "0it [00:00, ?it/s]"
     ]
    },
    {
     "name": "stdout",
     "output_type": "stream",
     "text": [
      "epoch 25/300, loss 5.8256, norm 0.1758, predict bleu: 0.0000, time 105.488s, since 0h 43m 31s\n",
      "我的家乡在这里，我想对我说：“你知道我是多么的美丽，我要去看看我的，我的心都是我的。”\n"
     ]
    },
    {
     "name": "stderr",
     "output_type": "stream",
     "text": [
      "625it [01:44,  5.80it/s]\n",
      "625it [01:45,  5.84it/s]\n",
      "625it [01:45,  6.28it/s]\n",
      "625it [01:45,  5.85it/s]\n",
      "625it [01:46,  5.56it/s]\n",
      "0it [00:00, ?it/s]"
     ]
    },
    {
     "name": "stdout",
     "output_type": "stream",
     "text": [
      "epoch 30/300, loss 5.7936, norm 0.1747, predict bleu: 0.0000, time 106.606s, since 0h 52m 19s\n",
      "我的家乡在这里，我想对我说：“你看我的时候，我要去看看你，我要去看看你，我要去看看你，我要去看看你。”\n"
     ]
    },
    {
     "name": "stderr",
     "output_type": "stream",
     "text": [
      "625it [01:46,  6.01it/s]\n",
      "625it [01:46,  5.78it/s]\n",
      "625it [01:45,  6.09it/s]\n",
      "625it [01:46,  5.99it/s]\n",
      "625it [01:46,  6.13it/s]\n"
     ]
    },
    {
     "name": "stdout",
     "output_type": "stream",
     "text": [
      "epoch 35/300, loss 5.7704, norm 0.1731, predict bleu: 0.0000, time 106.845s, since 1h 1m 10s\n",
      "我的家乡在这里，我想去看它，它就会在我的身边，它就会在我的心中，它会在我的心中，它会在我的心中，它会在我的心中，它会在我的心中，它会在我的心中，它会在我的心中，它会在我的心中，它会在我的心中，它会在我的心中，它会在我的心中，它会\n"
     ]
    },
    {
     "name": "stderr",
     "output_type": "stream",
     "text": [
      "625it [01:45,  6.10it/s]\n",
      "625it [01:45,  5.84it/s]\n",
      "625it [01:47,  5.69it/s]\n",
      "625it [01:45,  5.66it/s]\n",
      "625it [01:45,  5.87it/s]\n",
      "0it [00:00, ?it/s]"
     ]
    },
    {
     "name": "stdout",
     "output_type": "stream",
     "text": [
      "epoch 40/300, loss 5.7532, norm 0.1730, predict bleu: 0.0000, time 105.546s, since 1h 10m 1s\n",
      "我的家乡在这里，我想去看它，它就会在我的心中，我想：这是什么呢？我的心也不知道，我的心也会像个小灯笼一样。\n"
     ]
    },
    {
     "name": "stderr",
     "output_type": "stream",
     "text": [
      "625it [01:45,  5.94it/s]\n",
      "625it [01:45,  6.13it/s]\n",
      "625it [01:45,  5.78it/s]\n",
      "625it [01:44,  5.84it/s]\n",
      "625it [01:47,  6.00it/s]\n",
      "0it [00:00, ?it/s]"
     ]
    },
    {
     "name": "stdout",
     "output_type": "stream",
     "text": [
      "epoch 45/300, loss 5.7398, norm 0.1751, predict bleu: 0.0000, time 107.139s, since 1h 18m 50s\n",
      "我的家乡在这里，我想去看它，它就会在我的眼前，我想：“我是个小的，我要去看看它。”它的美丽，让我的心也有了它的美丽。\n"
     ]
    },
    {
     "name": "stderr",
     "output_type": "stream",
     "text": [
      "625it [01:46,  6.10it/s]\n",
      "625it [01:45,  6.18it/s]\n",
      "625it [01:45,  5.86it/s]\n",
      "625it [01:46,  6.16it/s]\n",
      "625it [01:45,  6.06it/s]\n",
      "0it [00:00, ?it/s]"
     ]
    },
    {
     "name": "stdout",
     "output_type": "stream",
     "text": [
      "epoch 50/300, loss 5.7291, norm 0.1808, predict bleu: 0.0000, time 105.714s, since 1h 27m 40s\n",
      "我的家乡在这里，我想去看它，它就会在我的心中，我想：这是一个美丽的地方。\n"
     ]
    },
    {
     "name": "stderr",
     "output_type": "stream",
     "text": [
      "625it [01:46,  5.82it/s]\n",
      "625it [01:45,  5.93it/s]\n",
      "625it [01:46,  5.89it/s]\n",
      "625it [01:46,  5.74it/s]\n",
      "625it [01:46,  6.25it/s]\n",
      "0it [00:00, ?it/s]"
     ]
    },
    {
     "name": "stdout",
     "output_type": "stream",
     "text": [
      "epoch 55/300, loss 5.7206, norm 0.1766, predict bleu: 0.0000, time 106.009s, since 1h 36m 31s\n",
      "我的家乡在这里，我想：这是一个多么的美丽。我想想：这是什么呢？我想：“我要去看看这”这是多么的美丽！\n"
     ]
    },
    {
     "name": "stderr",
     "output_type": "stream",
     "text": [
      "625it [01:46,  5.84it/s]\n",
      "625it [01:46,  6.09it/s]\n",
      "625it [01:46,  5.86it/s]\n",
      "625it [01:46,  6.22it/s]\n",
      "625it [01:46,  6.08it/s]\n",
      "0it [00:00, ?it/s]"
     ]
    },
    {
     "name": "stdout",
     "output_type": "stream",
     "text": [
      "epoch 60/300, loss 5.7132, norm 0.1700, predict bleu: 0.0000, time 106.753s, since 1h 45m 24s\n",
      "我的家乡在这里，我想：这是一个多么的美丽。我想：“我真想对你说：“你要知道，我要去看看你，要把你的心都给你的。”\n"
     ]
    },
    {
     "name": "stderr",
     "output_type": "stream",
     "text": [
      "625it [01:46,  5.80it/s]\n",
      "625it [01:45,  6.05it/s]\n",
      "625it [01:43,  6.09it/s]\n",
      "625it [01:44,  6.24it/s]\n",
      "625it [01:43,  6.00it/s]\n",
      "0it [00:00, ?it/s]"
     ]
    },
    {
     "name": "stdout",
     "output_type": "stream",
     "text": [
      "epoch 65/300, loss 5.7075, norm 0.1789, predict bleu: 0.0000, time 103.864s, since 1h 54m 8s\n",
      "我的家乡在那里，我想去看，看了看，原来是一只小蝴蝶，它的眼睛是那么的小，那么的像一个小娃娃。它的眼睛是那么的美丽，它的是很美丽。\n"
     ]
    },
    {
     "name": "stderr",
     "output_type": "stream",
     "text": [
      "625it [01:43,  6.00it/s]\n",
      "625it [01:43,  6.12it/s]\n",
      "625it [01:44,  6.05it/s]\n",
      "625it [01:43,  5.96it/s]\n",
      "625it [01:43,  6.12it/s]\n",
      "0it [00:00, ?it/s]"
     ]
    },
    {
     "name": "stdout",
     "output_type": "stream",
     "text": [
      "epoch 70/300, loss 5.7024, norm 0.1801, predict bleu: 0.0000, time 103.808s, since 2h 2m 47s\n",
      "我的家乡在那里，我想去看看它的时候，它就会把它的衣服给它，它就会给我带来的快乐。\n"
     ]
    },
    {
     "name": "stderr",
     "output_type": "stream",
     "text": [
      "625it [01:43,  5.68it/s]\n",
      "625it [01:44,  6.18it/s]\n",
      "625it [01:43,  6.07it/s]\n",
      "625it [01:44,  5.91it/s]\n",
      "625it [01:44,  5.99it/s]\n",
      "0it [00:00, ?it/s]"
     ]
    },
    {
     "name": "stdout",
     "output_type": "stream",
     "text": [
      "epoch 75/300, loss 5.6977, norm 0.1769, predict bleu: 0.0000, time 104.170s, since 2h 11m 27s\n",
      "我的家乡在那里，我看到了一个美丽的身影，我想：这是什么时候的呢？我想：“我真想对你说：“你要知道，我要去看看你，你会知道，我要把你的东西给你的。”\n"
     ]
    },
    {
     "name": "stderr",
     "output_type": "stream",
     "text": [
      "625it [01:43,  6.31it/s]\n",
      "625it [01:43,  5.86it/s]\n",
      "625it [01:43,  6.06it/s]\n",
      "625it [01:44,  6.27it/s]\n",
      "625it [01:43,  6.13it/s]\n",
      "0it [00:00, ?it/s]"
     ]
    },
    {
     "name": "stdout",
     "output_type": "stream",
     "text": [
      "epoch 80/300, loss 5.6942, norm 0.1749, predict bleu: 0.0000, time 103.966s, since 2h 20m 7s\n",
      "我的家乡在那里，我看到了一个美丽的身影，我想：“我真想把你的所有的东西都来了。”我想：“你知道我的梦想是什么？”\n"
     ]
    },
    {
     "name": "stderr",
     "output_type": "stream",
     "text": [
      "625it [01:43,  6.09it/s]\n",
      "625it [01:43,  6.00it/s]\n",
      "625it [01:43,  5.82it/s]\n",
      "625it [01:43,  6.26it/s]\n",
      "625it [01:44,  6.18it/s]\n",
      "0it [00:00, ?it/s]"
     ]
    },
    {
     "name": "stdout",
     "output_type": "stream",
     "text": [
      "epoch 85/300, loss 5.6910, norm 0.1673, predict bleu: 0.0000, time 104.082s, since 2h 28m 46s\n",
      "我的家乡在那里，我想：“这是什么？”我说：“你看，我的眼睛就会有一种美丽的！”\n"
     ]
    },
    {
     "name": "stderr",
     "output_type": "stream",
     "text": [
      "625it [01:44,  6.29it/s]\n",
      "625it [01:43,  6.15it/s]\n",
      "625it [01:44,  6.17it/s]\n",
      "625it [01:43,  5.99it/s]\n",
      "625it [01:43,  6.11it/s]\n",
      "0it [00:00, ?it/s]"
     ]
    },
    {
     "name": "stdout",
     "output_type": "stream",
     "text": [
      "epoch 90/300, loss 5.6880, norm 0.1733, predict bleu: 0.0000, time 103.073s, since 2h 37m 25s\n",
      "我的家乡在那里，我想：“我真想，我要把你的东西给你，你的时候，我要给你带来的。”\n"
     ]
    },
    {
     "name": "stderr",
     "output_type": "stream",
     "text": [
      "625it [01:44,  6.49it/s]\n",
      "625it [01:43,  6.12it/s]\n",
      "625it [01:44,  6.30it/s]\n",
      "625it [01:43,  5.83it/s]\n",
      "625it [01:43,  5.83it/s]\n",
      "0it [00:00, ?it/s]"
     ]
    },
    {
     "name": "stdout",
     "output_type": "stream",
     "text": [
      "epoch 95/300, loss 5.6857, norm 0.1817, predict bleu: 0.0000, time 103.684s, since 2h 46m 5s\n",
      "我的家乡在那里，我想：“我真想，我想去看看吧！”我想：“这是什么？”我说：“你看，我的眼睛就会有这么多的东西，你就会给你带来的。”\n"
     ]
    },
    {
     "name": "stderr",
     "output_type": "stream",
     "text": [
      "625it [01:44,  6.13it/s]\n",
      "625it [01:42,  6.26it/s]\n",
      "625it [01:44,  5.86it/s]\n",
      "625it [01:44,  5.94it/s]\n",
      "625it [01:43,  5.97it/s]\n",
      "0it [00:00, ?it/s]"
     ]
    },
    {
     "name": "stdout",
     "output_type": "stream",
     "text": [
      "epoch 100/300, loss 5.6835, norm 0.1801, predict bleu: 0.0000, time 103.954s, since 2h 54m 45s\n",
      "我的家乡在那里，我想：“我的美丽是多么的美好，我的心都是那么的美好，那么的美好，是的，是的，是的。\n"
     ]
    },
    {
     "name": "stderr",
     "output_type": "stream",
     "text": [
      "625it [01:43,  5.73it/s]\n",
      "625it [01:43,  6.07it/s]\n",
      "625it [01:43,  6.09it/s]\n",
      "625it [01:43,  6.26it/s]\n",
      "625it [01:43,  6.24it/s]\n",
      "0it [00:00, ?it/s]"
     ]
    },
    {
     "name": "stdout",
     "output_type": "stream",
     "text": [
      "epoch 105/300, loss 5.6816, norm 0.1878, predict bleu: 0.0000, time 103.855s, since 3h 3m 22s\n",
      "我的家乡在那里，我想：“我的美丽真美！”我想：“我真想把你的所有的东西都来了。”我想：“我真想，你一定要把我的”小松鼠说了。\n"
     ]
    },
    {
     "name": "stderr",
     "output_type": "stream",
     "text": [
      "625it [01:43,  5.77it/s]\n",
      "625it [01:44,  6.03it/s]\n",
      "625it [01:43,  6.25it/s]\n",
      "625it [01:44,  6.07it/s]\n",
      "625it [01:43,  5.99it/s]\n",
      "0it [00:00, ?it/s]"
     ]
    },
    {
     "name": "stdout",
     "output_type": "stream",
     "text": [
      "epoch 110/300, loss 5.6801, norm 0.1823, predict bleu: 0.0000, time 103.789s, since 3h 12m 2s\n",
      "我的家乡在那里，我想：“我真想，我要把你的所有都来了。”\n"
     ]
    },
    {
     "name": "stderr",
     "output_type": "stream",
     "text": [
      "625it [01:43,  5.95it/s]\n",
      "625it [01:43,  5.91it/s]\n",
      "625it [01:43,  6.21it/s]\n",
      "625it [01:42,  6.21it/s]\n",
      "625it [01:43,  6.26it/s]\n",
      "0it [00:00, ?it/s]"
     ]
    },
    {
     "name": "stdout",
     "output_type": "stream",
     "text": [
      "epoch 115/300, loss 5.6784, norm 0.1946, predict bleu: 0.0000, time 103.663s, since 3h 20m 40s\n",
      "我的家乡在那里，我想：“我真想，我要把你的所有都来了。”\n"
     ]
    },
    {
     "name": "stderr",
     "output_type": "stream",
     "text": [
      "625it [01:43,  6.25it/s]\n",
      "625it [01:43,  6.30it/s]\n",
      "625it [01:43,  6.09it/s]\n",
      "625it [01:43,  6.30it/s]\n",
      "625it [01:43,  5.97it/s]\n",
      "0it [00:00, ?it/s]"
     ]
    },
    {
     "name": "stdout",
     "output_type": "stream",
     "text": [
      "epoch 120/300, loss 5.6770, norm 0.1813, predict bleu: 0.0000, time 103.533s, since 3h 29m 18s\n",
      "我的家乡在那里，我想：“我真想，我要把你的所有都来了。”我想：“我真想，我要把你的东西给你的！”\n"
     ]
    },
    {
     "name": "stderr",
     "output_type": "stream",
     "text": [
      "625it [01:43,  6.21it/s]\n",
      "625it [01:43,  6.17it/s]\n",
      "625it [01:43,  6.15it/s]\n",
      "625it [01:43,  6.14it/s]\n",
      "625it [01:43,  6.32it/s]\n",
      "0it [00:00, ?it/s]"
     ]
    },
    {
     "name": "stdout",
     "output_type": "stream",
     "text": [
      "epoch 125/300, loss 5.6755, norm 0.1834, predict bleu: 0.0000, time 103.410s, since 3h 37m 56s\n",
      "我的家乡在那里，我想：“我的美丽是我的，我的，是我的好朋友。”我想：“我真想，我要把你的所有都给你的。”\n"
     ]
    },
    {
     "name": "stderr",
     "output_type": "stream",
     "text": [
      "625it [01:43,  5.88it/s]\n",
      "625it [01:43,  5.95it/s]\n",
      "625it [01:43,  6.13it/s]\n",
      "625it [01:43,  6.23it/s]\n",
      "625it [01:43,  6.09it/s]\n",
      "0it [00:00, ?it/s]"
     ]
    },
    {
     "name": "stdout",
     "output_type": "stream",
     "text": [
      "epoch 130/300, loss 5.6744, norm 0.1917, predict bleu: 0.0000, time 103.092s, since 3h 46m 33s\n",
      "我的家乡在那里，我想：“我的美丽是我的，让我的生活更加美好！”我的妈妈，我想：“我真想对您说：“我的生活是多么的美好！”\n"
     ]
    },
    {
     "name": "stderr",
     "output_type": "stream",
     "text": [
      "625it [01:42,  5.95it/s]\n",
      "625it [01:43,  6.24it/s]\n",
      "625it [01:43,  6.20it/s]\n",
      "625it [01:43,  6.08it/s]\n",
      "625it [01:44,  6.22it/s]\n",
      "0it [00:00, ?it/s]"
     ]
    },
    {
     "name": "stdout",
     "output_type": "stream",
     "text": [
      "epoch 135/300, loss 5.6734, norm 0.1860, predict bleu: 0.0000, time 104.065s, since 3h 55m 11s\n",
      "我的家乡在那里，我想：“我的美丽是我的，我的，是我的好朋友。”我想：“我真想，我要把你的东西给你的。”\n"
     ]
    },
    {
     "name": "stderr",
     "output_type": "stream",
     "text": [
      "625it [01:44,  5.99it/s]\n",
      "625it [01:43,  6.08it/s]\n",
      "625it [01:43,  5.82it/s]\n",
      "625it [01:43,  6.16it/s]\n",
      "625it [01:43,  6.05it/s]\n",
      "0it [00:00, ?it/s]"
     ]
    },
    {
     "name": "stdout",
     "output_type": "stream",
     "text": [
      "epoch 140/300, loss 5.6722, norm 0.2006, predict bleu: 0.0000, time 103.122s, since 4h 3m 49s\n",
      "我的家乡在那里，我想：“我的美丽，我的我，你的美丽，我的我，你的美丽，我的！”\n"
     ]
    },
    {
     "name": "stderr",
     "output_type": "stream",
     "text": [
      "625it [01:43,  6.17it/s]\n",
      "625it [01:43,  6.22it/s]\n",
      "625it [01:43,  5.89it/s]\n",
      "625it [01:44,  6.03it/s]\n",
      "625it [01:43,  6.31it/s]\n",
      "0it [00:00, ?it/s]"
     ]
    },
    {
     "name": "stdout",
     "output_type": "stream",
     "text": [
      "epoch 145/300, loss 5.6713, norm 0.1887, predict bleu: 0.0000, time 103.699s, since 4h 12m 27s\n",
      "我的家乡在那里，我想：“我的美丽，我的我，你说，我要去看看你。”\n"
     ]
    },
    {
     "name": "stderr",
     "output_type": "stream",
     "text": [
      "625it [01:43,  6.34it/s]\n",
      "625it [01:43,  5.96it/s]\n",
      "625it [01:43,  6.15it/s]\n",
      "625it [01:42,  6.27it/s]\n",
      "625it [01:43,  6.03it/s]\n",
      "0it [00:00, ?it/s]"
     ]
    },
    {
     "name": "stdout",
     "output_type": "stream",
     "text": [
      "epoch 150/300, loss 5.6703, norm 0.1817, predict bleu: 0.0000, time 103.504s, since 4h 21m 4s\n",
      "我的家乡在那里，我想：“我的我是多么的美丽！”我也想去看看，我想：这是一个美丽的地方。\n"
     ]
    },
    {
     "name": "stderr",
     "output_type": "stream",
     "text": [
      "625it [01:43,  6.09it/s]\n",
      "625it [01:43,  6.02it/s]\n",
      "625it [01:43,  6.19it/s]\n",
      "625it [01:43,  5.87it/s]\n",
      "625it [01:43,  6.02it/s]\n",
      "0it [00:00, ?it/s]"
     ]
    },
    {
     "name": "stdout",
     "output_type": "stream",
     "text": [
      "epoch 155/300, loss 5.6696, norm 0.1822, predict bleu: 0.0000, time 103.419s, since 4h 29m 42s\n",
      "我的家乡在那里，我想去看看，我想：“你们知道我的好朋友吗？”我想：“你们知道我的好朋友吗？”我想：“你们的时候，我的心都是我的。”\n"
     ]
    },
    {
     "name": "stderr",
     "output_type": "stream",
     "text": [
      "625it [01:43,  6.04it/s]\n",
      "625it [01:43,  6.24it/s]\n",
      "625it [01:43,  6.31it/s]\n",
      "625it [01:43,  5.75it/s]\n",
      "625it [01:43,  6.11it/s]\n",
      "0it [00:00, ?it/s]"
     ]
    },
    {
     "name": "stdout",
     "output_type": "stream",
     "text": [
      "epoch 160/300, loss 5.6685, norm 0.1776, predict bleu: 0.0000, time 103.185s, since 4h 38m 19s\n",
      "我的家乡在那里，有一次，我和妈妈在一起玩，我看见了，我的心也很高兴，因为我的妈妈是一个美丽的，她是一个美丽的季节。\n"
     ]
    },
    {
     "name": "stderr",
     "output_type": "stream",
     "text": [
      "625it [01:43,  6.13it/s]\n",
      "625it [01:43,  6.26it/s]\n",
      "625it [01:42,  5.99it/s]\n",
      "625it [01:43,  6.02it/s]\n",
      "625it [01:42,  6.18it/s]\n",
      "0it [00:00, ?it/s]"
     ]
    },
    {
     "name": "stdout",
     "output_type": "stream",
     "text": [
      "epoch 165/300, loss 5.6677, norm 0.1769, predict bleu: 0.0000, time 102.949s, since 4h 46m 56s\n",
      "我的家乡在那里，我想：“我的美丽，你是我的好朋友。”我想：“我真想，你一定要把我的”。\n"
     ]
    },
    {
     "name": "stderr",
     "output_type": "stream",
     "text": [
      "625it [01:44,  6.17it/s]\n",
      "625it [01:43,  6.02it/s]\n",
      "625it [01:43,  6.18it/s]\n",
      "625it [01:43,  6.03it/s]\n",
      "625it [01:42,  6.14it/s]\n",
      "0it [00:00, ?it/s]"
     ]
    },
    {
     "name": "stdout",
     "output_type": "stream",
     "text": [
      "epoch 170/300, loss 5.6671, norm 0.1741, predict bleu: 0.0000, time 102.888s, since 4h 55m 34s\n",
      "我的家乡在那里，有一次，我和妈妈在一起，我看见了，我的心也很高兴，因为我的妈妈是个美丽的小的，我的心很热，很想，我想：“我要去看看！”\n"
     ]
    },
    {
     "name": "stderr",
     "output_type": "stream",
     "text": [
      "625it [01:43,  6.35it/s]\n",
      "625it [01:43,  6.22it/s]\n",
      "625it [01:42,  5.76it/s]\n",
      "625it [01:43,  6.17it/s]\n",
      "625it [01:43,  6.24it/s]\n"
     ]
    },
    {
     "name": "stdout",
     "output_type": "stream",
     "text": [
      "epoch 175/300, loss 5.6663, norm 0.1868, predict bleu: 0.0000, time 103.486s, since 5h 4m 10s\n"
     ]
    },
    {
     "name": "stderr",
     "output_type": "stream",
     "text": [
      "1it [00:00,  5.76it/s]"
     ]
    },
    {
     "name": "stdout",
     "output_type": "stream",
     "text": [
      "我的家乡在那里，我想：“我真希望你能把它的一切都给你的。”它的眼睛是那么的绿，那么的美丽。它的美丽是那么的美丽，它的美丽，它的美丽，它的美，它的美丽，它的美丽，它的美丽，它的美丽，它的美丽，它的美丽，它的美丽，它的美丽，它的美丽，它的美丽，它的美丽\n"
     ]
    },
    {
     "name": "stderr",
     "output_type": "stream",
     "text": [
      "625it [01:43,  6.09it/s]\n",
      "625it [01:43,  6.04it/s]\n",
      "625it [01:42,  6.42it/s]\n",
      "625it [01:43,  5.99it/s]\n",
      "625it [01:43,  6.20it/s]\n",
      "0it [00:00, ?it/s]"
     ]
    },
    {
     "name": "stdout",
     "output_type": "stream",
     "text": [
      "epoch 180/300, loss 5.6656, norm 0.1760, predict bleu: 0.0000, time 103.609s, since 5h 12m 47s\n",
      "我的家乡在那里，有一次，我和妈妈在一起，我看见了，我的心也很好，我想：“我真想，我要把你的好朋友都来了。”\n"
     ]
    },
    {
     "name": "stderr",
     "output_type": "stream",
     "text": [
      "625it [01:43,  6.27it/s]\n",
      "625it [01:43,  5.97it/s]\n",
      "625it [01:42,  6.05it/s]\n",
      "625it [01:43,  6.23it/s]\n",
      "625it [01:42,  6.38it/s]\n",
      "0it [00:00, ?it/s]"
     ]
    },
    {
     "name": "stdout",
     "output_type": "stream",
     "text": [
      "epoch 185/300, loss 5.6649, norm 0.1913, predict bleu: 0.0000, time 102.907s, since 5h 21m 22s\n",
      "我的家乡在那里，我的心有了一个人，我的心有了一个人，是一个美丽的季节，是我的好朋友。我的梦想是我的好朋友。\n"
     ]
    },
    {
     "name": "stderr",
     "output_type": "stream",
     "text": [
      "625it [01:43,  5.98it/s]\n",
      "625it [01:43,  5.90it/s]\n",
      "625it [01:43,  6.01it/s]\n",
      "625it [01:43,  6.26it/s]\n",
      "625it [01:42,  6.28it/s]\n",
      "0it [00:00, ?it/s]"
     ]
    },
    {
     "name": "stdout",
     "output_type": "stream",
     "text": [
      "epoch 190/300, loss 5.6645, norm 0.1884, predict bleu: 0.0000, time 102.767s, since 5h 29m 58s\n",
      "我的家乡在那里，有一次，我的心都有了，我的心都很美丽，我想：“我真想，我要把你的好朋友来了。”\n"
     ]
    },
    {
     "name": "stderr",
     "output_type": "stream",
     "text": [
      "625it [01:42,  6.44it/s]\n",
      "625it [01:43,  6.04it/s]\n",
      "625it [01:42,  6.11it/s]\n",
      "625it [01:43,  5.95it/s]\n",
      "625it [01:43,  6.08it/s]\n",
      "0it [00:00, ?it/s]"
     ]
    },
    {
     "name": "stdout",
     "output_type": "stream",
     "text": [
      "epoch 195/300, loss 5.6637, norm 0.1775, predict bleu: 0.0000, time 103.627s, since 5h 38m 35s\n",
      "我的家乡在那里，有一次，我和妈妈在一起，我看见了一个美丽的身影，我想：“我的美丽，你是我的好朋友。”我想：“我的美丽是你，我想让你的。”\n"
     ]
    },
    {
     "name": "stderr",
     "output_type": "stream",
     "text": [
      "625it [01:43,  6.13it/s]\n",
      "625it [01:43,  5.96it/s]\n",
      "625it [01:43,  6.00it/s]\n",
      "625it [01:42,  6.18it/s]\n",
      "625it [01:43,  6.07it/s]\n",
      "0it [00:00, ?it/s]"
     ]
    },
    {
     "name": "stdout",
     "output_type": "stream",
     "text": [
      "epoch 200/300, loss 5.6631, norm 0.1870, predict bleu: 0.0000, time 103.807s, since 5h 47m 12s\n",
      "我的家乡在那里，我想：这是一个美丽的地方。它的美丽是一个美丽的季节。它的美丽，它的美，它的美，它的美，它的美，它的美，它的美，它的美，它的美，它的美，它的美，它的美，它的美，它的美，它的美，它的美，它的美，它的美，它的美\n"
     ]
    },
    {
     "name": "stderr",
     "output_type": "stream",
     "text": [
      "625it [01:43,  6.08it/s]\n",
      "625it [01:43,  6.29it/s]\n",
      "625it [01:43,  6.04it/s]\n",
      "625it [01:43,  6.13it/s]\n",
      "625it [01:44,  6.26it/s]\n",
      "0it [00:00, ?it/s]"
     ]
    },
    {
     "name": "stdout",
     "output_type": "stream",
     "text": [
      "epoch 205/300, loss 5.6624, norm 0.1774, predict bleu: 0.0000, time 104.054s, since 5h 55m 49s\n",
      "我的家乡在那里，有许多人都有自己的身影，有的人在一起，有的像一个小灯笼，有的像一个害羞的小姑娘，有的像一个美丽的蝴蝶，有的像一个害羞的小姑娘，还有的像个大的小娃娃。\n"
     ]
    },
    {
     "name": "stderr",
     "output_type": "stream",
     "text": [
      "625it [01:43,  6.05it/s]\n",
      "625it [01:43,  6.03it/s]\n",
      "625it [01:43,  6.02it/s]\n",
      "625it [01:42,  6.11it/s]\n",
      "625it [01:43,  6.21it/s]\n"
     ]
    },
    {
     "name": "stdout",
     "output_type": "stream",
     "text": [
      "epoch 210/300, loss 5.6617, norm 0.1818, predict bleu: 0.0000, time 103.075s, since 6h 4m 25s\n"
     ]
    },
    {
     "name": "stderr",
     "output_type": "stream",
     "text": [
      "1it [00:00,  6.11it/s]"
     ]
    },
    {
     "name": "stdout",
     "output_type": "stream",
     "text": [
      "我的家乡在那里，我想：这是一个美丽的地方。它的美丽是人们的美丽，它是人们的美丽。它的美丽，它的美丽，它的美丽，它的美丽，它的美丽，它的美丽，它的美丽，它的美丽，它的美丽，它的美丽，它的美丽，它的美丽，它的美丽，它的美丽，它的美丽，它的美丽，它的美丽，它的\n"
     ]
    },
    {
     "name": "stderr",
     "output_type": "stream",
     "text": [
      "625it [01:43,  5.92it/s]\n",
      "625it [01:42,  5.99it/s]\n",
      "625it [01:42,  6.37it/s]\n",
      "625it [01:42,  5.98it/s]\n",
      "625it [01:43,  6.09it/s]\n",
      "0it [00:00, ?it/s]"
     ]
    },
    {
     "name": "stdout",
     "output_type": "stream",
     "text": [
      "epoch 215/300, loss 5.6613, norm 0.1838, predict bleu: 0.0000, time 103.052s, since 6h 13m 0s\n",
      "我的家乡在那里，我想：这是一个美丽的地方。我想，它的美丽是一个美丽的季节，它是一个美丽的季节。它在我的眼里是一个美丽的季节。\n"
     ]
    },
    {
     "name": "stderr",
     "output_type": "stream",
     "text": [
      "625it [01:42,  5.94it/s]\n",
      "625it [01:42,  6.12it/s]\n",
      "625it [01:43,  6.21it/s]\n",
      "625it [01:43,  5.99it/s]\n",
      "625it [01:43,  5.85it/s]\n",
      "0it [00:00, ?it/s]"
     ]
    },
    {
     "name": "stdout",
     "output_type": "stream",
     "text": [
      "epoch 220/300, loss 5.6607, norm 0.1856, predict bleu: 0.0000, time 103.393s, since 6h 21m 35s\n",
      "我的家乡在那里，我的心有了一个人，我的心有了一个大的，他的我，他的爱是最美丽的。因为他是我的好朋友。\n"
     ]
    },
    {
     "name": "stderr",
     "output_type": "stream",
     "text": [
      "625it [01:43,  6.15it/s]\n",
      "625it [01:43,  6.23it/s]\n",
      "625it [01:43,  6.31it/s]\n",
      "625it [01:42,  5.93it/s]\n",
      "625it [01:42,  5.94it/s]\n",
      "0it [00:00, ?it/s]"
     ]
    },
    {
     "name": "stdout",
     "output_type": "stream",
     "text": [
      "epoch 225/300, loss 5.6604, norm 0.1856, predict bleu: 0.0000, time 102.932s, since 6h 30m 12s\n",
      "我的家乡在那里，我想：“我的美丽有了，我的心都是我的，我的生活中，有的人都会有的美好的，有的人在我的怀抱中有的”。\n"
     ]
    },
    {
     "name": "stderr",
     "output_type": "stream",
     "text": [
      "625it [01:43,  6.24it/s]\n",
      "625it [01:43,  6.28it/s]\n",
      "625it [01:43,  6.16it/s]\n",
      "625it [01:43,  6.13it/s]\n",
      "625it [01:43,  6.02it/s]\n",
      "0it [00:00, ?it/s]"
     ]
    },
    {
     "name": "stdout",
     "output_type": "stream",
     "text": [
      "epoch 230/300, loss 5.6599, norm 0.1834, predict bleu: 0.0000, time 103.139s, since 6h 38m 48s\n",
      "我的家乡在那里，我想：“我的美丽有了一个小的，”是的，我是个美丽的大人们，我想对它说：“你的美丽，你会给我带来的。”\n"
     ]
    },
    {
     "name": "stderr",
     "output_type": "stream",
     "text": [
      "625it [01:42,  6.32it/s]\n",
      "625it [01:43,  6.14it/s]\n",
      "625it [01:42,  6.26it/s]\n",
      "625it [01:42,  6.23it/s]\n",
      "625it [01:42,  6.29it/s]\n",
      "0it [00:00, ?it/s]"
     ]
    },
    {
     "name": "stdout",
     "output_type": "stream",
     "text": [
      "epoch 235/300, loss 5.6590, norm 0.1880, predict bleu: 0.0000, time 102.934s, since 6h 47m 22s\n",
      "我的家乡在那里，我想：这是一个美丽的地方。它的美丽是那么的美丽，是那么的美丽。那么的美丽，我的心也很美丽。\n"
     ]
    },
    {
     "name": "stderr",
     "output_type": "stream",
     "text": [
      "625it [01:43,  6.25it/s]\n",
      "625it [01:42,  6.10it/s]\n",
      "625it [01:43,  5.87it/s]\n",
      "625it [01:43,  5.86it/s]\n",
      "625it [01:42,  6.13it/s]\n",
      "0it [00:00, ?it/s]"
     ]
    },
    {
     "name": "stdout",
     "output_type": "stream",
     "text": [
      "epoch 240/300, loss 5.6586, norm 0.1883, predict bleu: 0.0000, time 102.205s, since 6h 55m 57s\n",
      "我的家乡在那里，我想：“我的小主人，你的小主人，你的美丽是多么的美丽！”我的眼睛就像一个小灯笼，在我的眼里，它的美丽是我的，它的美丽是我的朋友。\n"
     ]
    },
    {
     "name": "stderr",
     "output_type": "stream",
     "text": [
      "625it [01:42,  5.95it/s]\n",
      "625it [01:43,  6.16it/s]\n",
      "625it [01:42,  6.26it/s]\n",
      "625it [01:43,  6.10it/s]\n",
      "625it [01:42,  6.27it/s]\n",
      "0it [00:00, ?it/s]"
     ]
    },
    {
     "name": "stdout",
     "output_type": "stream",
     "text": [
      "epoch 245/300, loss 5.6584, norm 0.1871, predict bleu: 0.0000, time 102.953s, since 7h 4m 32s\n",
      "我的家乡在那里，我想：“我的美丽是一个美丽的季节。”我的心都很美丽，我想：这是一个美丽的地方。\n"
     ]
    },
    {
     "name": "stderr",
     "output_type": "stream",
     "text": [
      "625it [01:42,  6.19it/s]\n",
      "625it [01:42,  6.30it/s]\n",
      "625it [01:42,  6.22it/s]\n",
      "625it [01:43,  6.09it/s]\n",
      "625it [01:42,  5.69it/s]\n",
      "0it [00:00, ?it/s]"
     ]
    },
    {
     "name": "stdout",
     "output_type": "stream",
     "text": [
      "epoch 250/300, loss 5.6578, norm 0.1835, predict bleu: 0.0000, time 102.826s, since 7h 13m 7s\n",
      "我的家乡在那里，有一次，我和妈妈在家里的时候，我就在那里，看着我，我想：“这是什么，我的生活中的这么多的”。\n"
     ]
    },
    {
     "name": "stderr",
     "output_type": "stream",
     "text": [
      "625it [01:42,  6.24it/s]\n",
      "625it [01:42,  5.98it/s]\n",
      "625it [01:43,  6.20it/s]\n",
      "625it [01:43,  6.12it/s]\n",
      "625it [01:43,  6.09it/s]\n",
      "0it [00:00, ?it/s]"
     ]
    },
    {
     "name": "stdout",
     "output_type": "stream",
     "text": [
      "epoch 255/300, loss 5.6573, norm 0.1970, predict bleu: 0.0000, time 103.589s, since 7h 21m 43s\n",
      "我的家乡在那里，我想：“我的美丽有多多的地方，我想去看看吧！”我想：“这是我的好朋友。”我想：“这是我的好朋友。”\n"
     ]
    },
    {
     "name": "stderr",
     "output_type": "stream",
     "text": [
      "625it [01:42,  6.20it/s]\n",
      "625it [01:43,  6.24it/s]\n",
      "625it [01:43,  5.98it/s]\n",
      "625it [01:43,  6.30it/s]\n",
      "625it [01:42,  6.09it/s]\n",
      "0it [00:00, ?it/s]"
     ]
    },
    {
     "name": "stdout",
     "output_type": "stream",
     "text": [
      "epoch 260/300, loss 5.6567, norm 0.1829, predict bleu: 0.0000, time 102.924s, since 7h 30m 19s\n",
      "我的家乡是一个美丽的季节，它是一个美丽的季节。它的颜色是美丽的，它是最美丽的，它是人们的美丽。它的美丽，它的美丽，它的美丽，它的美丽，它的美丽，它的美丽，它的美丽，它的美丽，它的美丽，它的美丽，它的美丽，它的美丽，它的美丽，它的美丽，它的美丽，它的美丽，它\n"
     ]
    },
    {
     "name": "stderr",
     "output_type": "stream",
     "text": [
      "625it [01:43,  6.35it/s]\n",
      "625it [01:43,  6.33it/s]\n",
      "625it [01:43,  6.04it/s]\n",
      "625it [01:43,  6.16it/s]\n",
      "625it [01:42,  6.30it/s]\n",
      "0it [00:00, ?it/s]"
     ]
    },
    {
     "name": "stdout",
     "output_type": "stream",
     "text": [
      "epoch 265/300, loss 5.6563, norm 0.1919, predict bleu: 0.0000, time 102.660s, since 7h 38m 55s\n",
      "我的家乡在那里，我想：“我的妈妈，你的美丽是什么？”我的声音是那么的美丽，我的心也被人们的心都被了。\n"
     ]
    },
    {
     "name": "stderr",
     "output_type": "stream",
     "text": [
      "625it [01:43,  6.04it/s]\n",
      "625it [01:42,  6.06it/s]\n",
      "625it [01:43,  6.04it/s]\n",
      "625it [01:43,  6.04it/s]\n",
      "625it [01:43,  6.21it/s]\n",
      "0it [00:00, ?it/s]"
     ]
    },
    {
     "name": "stdout",
     "output_type": "stream",
     "text": [
      "epoch 270/300, loss 5.6559, norm 0.1949, predict bleu: 0.0000, time 103.180s, since 7h 47m 31s\n",
      "我的家乡在那里，我想：这是一个美丽的东西，它是一个美丽的季节。它的美丽，它的美，是它的美，它是人们的美丽。它的美丽，它的美，它的美，它的美，它的美，让人们的爱，让人们的心也更加美丽。\n"
     ]
    },
    {
     "name": "stderr",
     "output_type": "stream",
     "text": [
      "625it [01:43,  6.24it/s]\n",
      "625it [01:42,  6.09it/s]\n",
      "625it [01:42,  6.11it/s]\n",
      "625it [01:43,  5.91it/s]\n",
      "625it [01:41,  6.08it/s]\n",
      "0it [00:00, ?it/s]"
     ]
    },
    {
     "name": "stdout",
     "output_type": "stream",
     "text": [
      "epoch 275/300, loss 5.6554, norm 0.1905, predict bleu: 0.0000, time 101.794s, since 7h 56m 5s\n",
      "我的家乡是一个美丽的季节，它是一个美丽的季节，它是一个美丽的季节，它是一个美丽的季节，它是一个美丽的季节，它是一个美丽的季节。它的美丽，它的美丽，它的美丽，它的美丽，它的美丽，它的美丽，它的美丽，它的美丽，它的美丽，它的美。\n"
     ]
    },
    {
     "name": "stderr",
     "output_type": "stream",
     "text": [
      "625it [01:43,  6.26it/s]\n",
      "625it [01:42,  6.15it/s]\n",
      "625it [01:43,  6.24it/s]\n",
      "625it [01:43,  6.09it/s]\n",
      "625it [01:42,  6.38it/s]\n",
      "0it [00:00, ?it/s]"
     ]
    },
    {
     "name": "stdout",
     "output_type": "stream",
     "text": [
      "epoch 280/300, loss 5.6550, norm 0.1963, predict bleu: 0.0000, time 102.237s, since 8h 4m 40s\n",
      "我的家乡是个美丽的大人们，它是一个美丽的季节，它是一个美丽的季节，它是一个美丽的季节，它是一个美丽的季节，它是一个美丽的季节。\n"
     ]
    },
    {
     "name": "stderr",
     "output_type": "stream",
     "text": [
      "625it [01:43,  6.13it/s]\n",
      "625it [01:42,  6.16it/s]\n",
      "625it [01:42,  6.21it/s]\n",
      "625it [01:42,  6.27it/s]\n",
      "625it [01:42,  6.05it/s]\n",
      "0it [00:00, ?it/s]"
     ]
    },
    {
     "name": "stdout",
     "output_type": "stream",
     "text": [
      "epoch 285/300, loss 5.6546, norm 0.1919, predict bleu: 0.0000, time 102.593s, since 8h 13m 15s\n",
      "我的家乡是一个美丽的季节，它是一个美丽的季节，它是一个美丽的季节，它是一个美丽的季节，它是一个美丽的季节。它的颜色是美丽的，它是一种美丽的，它是一种快乐的。\n"
     ]
    },
    {
     "name": "stderr",
     "output_type": "stream",
     "text": [
      "625it [01:43,  6.15it/s]\n",
      "625it [01:43,  6.05it/s]\n",
      "625it [01:43,  6.06it/s]\n",
      "625it [01:43,  6.02it/s]\n",
      "625it [01:43,  6.31it/s]\n",
      "0it [00:00, ?it/s]"
     ]
    },
    {
     "name": "stdout",
     "output_type": "stream",
     "text": [
      "epoch 290/300, loss 5.6543, norm 0.1898, predict bleu: 0.0000, time 103.463s, since 8h 21m 51s\n",
      "我的家乡在那里，我想：“我的妈妈，我想把你的生活给你的地方。”我想：“你知道了吗？”我想：“你知道了吗？”\n"
     ]
    },
    {
     "name": "stderr",
     "output_type": "stream",
     "text": [
      "625it [01:43,  6.44it/s]\n",
      "625it [01:42,  6.07it/s]\n",
      "625it [01:43,  5.97it/s]\n",
      "625it [01:43,  6.12it/s]\n",
      "625it [01:43,  6.25it/s]\n",
      "0it [00:00, ?it/s]"
     ]
    },
    {
     "name": "stdout",
     "output_type": "stream",
     "text": [
      "epoch 295/300, loss 5.6537, norm 0.1877, predict bleu: 0.0000, time 103.062s, since 8h 30m 27s\n",
      "我的家乡是一个美丽的季节，它是一个美丽的季节，它是一个美丽的季节，它是一个美丽的季节，它是一个美丽的季节。它的一生是最重要的，它是最美丽的。\n"
     ]
    },
    {
     "name": "stderr",
     "output_type": "stream",
     "text": [
      "625it [01:43,  6.07it/s]\n",
      "625it [01:42,  5.98it/s]\n",
      "625it [01:43,  6.12it/s]\n",
      "625it [01:43,  6.03it/s]\n",
      "625it [01:43,  6.28it/s]\n"
     ]
    },
    {
     "name": "stdout",
     "output_type": "stream",
     "text": [
      "epoch 300/300, loss 5.6534, norm 0.1961, predict bleu: 0.0000, time 103.413s, since 8h 39m 3s\n",
      "我的家乡在那里，我的美丽是一位美丽的地方，她是一个美丽的季节。她的美丽，总是在人们的怀抱中，她的爱像一位美丽的人，她的爱，像一个调皮，又像一个美丽的大人们。\n"
     ]
    }
   ],
   "source": [
    "since = time.time()\n",
    "for epoch in range(num_epoch):\n",
    "    start = time.time()\n",
    "    num, total_loss = 0, 0\n",
    "#     if epoch == 5000:\n",
    "#         optimizer.param_groups[0]['lr'] = lr * 0.1\n",
    "    data = tav_data_iterator(\n",
    "        corpus_indice, topics_indice, batch_size, max(length) + 1)\n",
    "#     hidden = model.module.init_hidden(num_layers, batch_size, hidden_dim)\n",
    "    weight = torch.ones(len(vocab))\n",
    "    weight[0] = 0\n",
    "    for X, Y, mask, topics in tqdm(data):\n",
    "        num += 1\n",
    "#         hidden.detach_()\n",
    "        if use_gpu:\n",
    "            #             X = X.to(device)\n",
    "            Y = Y.to(device)\n",
    "            mask = mask.to(device)\n",
    "#             topics = topics.to(device)\n",
    "#             hidden = hidden.to(device)\n",
    "            weight = weight.to(device)\n",
    "        optimizer.zero_grad()\n",
    "#         output, hidden = model(X, topics, hidden)\n",
    "        output, hidden = model(X, topics)\n",
    "        hidden.detach_()\n",
    "#         l = F.cross_entropy(output, Y.t().reshape((-1,)), weight)\n",
    "        l, _ = adaptive_softmax(output, Y.t().reshape((-1,)))\n",
    "        loss = -l.reshape((-1, batch_size)).t() * mask\n",
    "        loss = loss.sum(dim=1) / mask.sum(dim=1)\n",
    "        loss = loss.mean()\n",
    "        loss.backward()\n",
    "        norm = nn.utils.clip_grad_norm_(model.parameters(), 1e-2)\n",
    "        optimizer.step()\n",
    "        total_loss += loss.item()\n",
    "    params = model.state_dict()\n",
    "    params['attn.weight'].clamp_(0)\n",
    "    params['attn.weight'] *= 1 / -torch.log(params['attn.weight'] / torch.sum(params['attn.weight']) + 0.000001)\n",
    "    end = time.time()\n",
    "    s = end - since\n",
    "    h = math.floor(s / 3600)\n",
    "    m = s - h * 3600\n",
    "    m = math.floor(m / 60)\n",
    "    s -= (m * 60 + h * 3600)\n",
    "    if((epoch + 1) % verbose == 0) or (epoch == (num_epoch - 1)):\n",
    "        bleu_score = 0\n",
    "#         for i in range(len(corpus_test)):\n",
    "#             doc = corpus_test[i]\n",
    "#             _, pred = predict_rnn([idx_to_word[x] for x in topics_test[0]],\n",
    "#                                   100, model, device, idx_to_word, word_to_idx)\n",
    "#             bleu_score += bleu([idx_to_word[int(x)] for x in pred],\n",
    "#                                [idx_to_word[x] for x in doc if x not in [0, 2]], k=2)\n",
    "        print('epoch %d/%d, loss %.4f, norm %.4f, predict bleu: %.4f, time %.3fs, since %dh %dm %ds'\n",
    "              % (epoch + 1, num_epoch, total_loss / num, norm, bleu_score / 800, end - start, h, m, s))\n",
    "        print(predict_rnn_ada(['人们', '看看', '展示', '美丽', '夏天'],\n",
    "                              100, model, idx_to_word, word_to_idx)[0])"
   ]
  },
  {
   "cell_type": "code",
   "execution_count": 15,
   "metadata": {
    "ExecuteTime": {
     "end_time": "2018-11-21T19:15:26.087852Z",
     "start_time": "2018-11-21T19:13:38.442201Z"
    }
   },
   "outputs": [],
   "source": [
    "bleu_score = 0\n",
    "for i in range(len(corpus_test)):\n",
    "    doc = corpus_test[i]\n",
    "    _, pred = predict_rnn_ada([idx_to_word[x] for x in topics_test[0]],\n",
    "                              100, model, idx_to_word, word_to_idx)\n",
    "    bleu_score += bleu([idx_to_word[int(x)] for x in pred],\n",
    "                       [idx_to_word[x] for x in doc if x not in [0, 2]], k=2)"
   ]
  },
  {
   "cell_type": "code",
   "execution_count": 16,
   "metadata": {
    "ExecuteTime": {
     "end_time": "2018-11-21T19:15:26.224000Z",
     "start_time": "2018-11-21T19:15:26.090231Z"
    }
   },
   "outputs": [
    {
     "data": {
      "text/plain": [
       "'我的家乡在那里，我的传统节日是一个“小嘴”。我想对我说：“你要去看，我要去看你的手，要把我的手拿出来，就会给你一个字。”'"
      ]
     },
     "execution_count": 16,
     "metadata": {},
     "output_type": "execute_result"
    }
   ],
   "source": [
    "predict_rnn_ada(['小朋友', '学习', '英语', '分数', '<PAD>'], 100, model, idx_to_word, word_to_idx)[0]"
   ]
  },
  {
   "cell_type": "code",
   "execution_count": 17,
   "metadata": {
    "ExecuteTime": {
     "end_time": "2018-11-21T19:15:26.230974Z",
     "start_time": "2018-11-21T19:15:26.226868Z"
    }
   },
   "outputs": [
    {
     "name": "stdout",
     "output_type": "stream",
     "text": [
      "我的妈妈是个非常的好，她是个好朋友。她是一个小动物，她是个小动物。她的妈妈是一个小动物，她是个小动物。她的妈妈是一个小动物，她是个小动物。\n"
     ]
    }
   ],
   "source": [
    "print(''.join([idx_to_word[x] for x in pred]))"
   ]
  },
  {
   "cell_type": "code",
   "execution_count": 18,
   "metadata": {
    "ExecuteTime": {
     "end_time": "2018-11-21T19:15:26.305111Z",
     "start_time": "2018-11-21T19:15:26.233299Z"
    }
   },
   "outputs": [
    {
     "name": "stdout",
     "output_type": "stream",
     "text": [
      "音乐 节目 兴奋 响起 小手\n"
     ]
    }
   ],
   "source": [
    "print(' '.join([idx_to_word[x] for x in topics_test[len(topics_test) - 1]]))"
   ]
  }
 ],
 "metadata": {
  "kernelspec": {
   "display_name": "Python 3",
   "language": "python",
   "name": "python3"
  },
  "language_info": {
   "codemirror_mode": {
    "name": "ipython",
    "version": 3
   },
   "file_extension": ".py",
   "mimetype": "text/x-python",
   "name": "python",
   "nbconvert_exporter": "python",
   "pygments_lexer": "ipython3",
   "version": "3.6.6"
  }
 },
 "nbformat": 4,
 "nbformat_minor": 2
}
